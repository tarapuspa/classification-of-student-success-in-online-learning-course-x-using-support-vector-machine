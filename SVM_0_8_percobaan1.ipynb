{
  "nbformat": 4,
  "nbformat_minor": 0,
  "metadata": {
    "colab": {
      "name": "SVM 0.8_percobaan1.ipynb",
      "provenance": []
    },
    "kernelspec": {
      "name": "python3",
      "display_name": "Python 3"
    },
    "language_info": {
      "name": "python"
    }
  },
  "cells": [
    {
      "cell_type": "markdown",
      "metadata": {
        "id": "CmfQa-3RUxZS"
      },
      "source": [
        "# BAGIAN IMPORT #"
      ]
    },
    {
      "cell_type": "code",
      "metadata": {
        "id": "0e6c-A4IU4qz"
      },
      "source": [
        "import pandas  as pd\n",
        "import matplotlib.pyplot as plt\n",
        "import numpy as np\n",
        "\n",
        "%matplotlib inline\n",
        "import pandas as pd # to import csv and for data manipulation\n",
        "import matplotlib.pyplot as plt # to plot graph\n",
        "import seaborn as sns # for intractve graphs\n",
        "import numpy as np # for linear algebra\n",
        "import datetime # to dela with date and time\n",
        "%matplotlib inline\n",
        "from sklearn.preprocessing import StandardScaler # for preprocessing the data\n",
        "from sklearn.svm import SVC # for SVM classification\n",
        "from sklearn.model_selection import train_test_split\n",
        "from sklearn.model_selection import KFold # For cross validation\n",
        "from sklearn.model_selection import GridSearchCV # for tunnig hyper parameter it will use all combination of given parameters\n",
        "from sklearn.model_selection import RandomizedSearchCV # same for tunning hyper parameter but will use random combinations of parameters\n",
        "from sklearn.metrics import confusion_matrix,recall_score,precision_recall_curve,auc,roc_curve,roc_auc_score,classification_report\n",
        "import warnings\n",
        "warnings.filterwarnings('ignore')"
      ],
      "execution_count": null,
      "outputs": []
    },
    {
      "cell_type": "code",
      "metadata": {
        "colab": {
          "resources": {
            "http://localhost:8080/nbextensions/google.colab/files.js": {
              "data": "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",
              "ok": true,
              "headers": [
                [
                  "content-type",
                  "application/javascript"
                ]
              ],
              "status": 200,
              "status_text": ""
            }
          },
          "base_uri": "https://localhost:8080/",
          "height": 72
        },
        "id": "FoiHCgK0VrZx",
        "outputId": "139a9a7e-b0b3-4420-e7ee-9330f4f08310"
      },
      "source": [
        "from google.colab import files \n",
        "uploaded = files.upload()"
      ],
      "execution_count": null,
      "outputs": [
        {
          "output_type": "display_data",
          "data": {
            "text/html": [
              "\n",
              "     <input type=\"file\" id=\"files-c600cbb1-6a0b-44c9-9cab-80139a7e6095\" name=\"files[]\" multiple disabled\n",
              "        style=\"border:none\" />\n",
              "     <output id=\"result-c600cbb1-6a0b-44c9-9cab-80139a7e6095\">\n",
              "      Upload widget is only available when the cell has been executed in the\n",
              "      current browser session. Please rerun this cell to enable.\n",
              "      </output>\n",
              "      <script src=\"/nbextensions/google.colab/files.js\"></script> "
            ],
            "text/plain": [
              "<IPython.core.display.HTML object>"
            ]
          },
          "metadata": {
            "tags": []
          }
        },
        {
          "output_type": "stream",
          "text": [
            "Saving data_log_mk_x.csv to data_log_mk_x.csv\n"
          ],
          "name": "stdout"
        }
      ]
    },
    {
      "cell_type": "code",
      "metadata": {
        "colab": {
          "base_uri": "https://localhost:8080/"
        },
        "id": "da_iElvWVrZ2",
        "outputId": "4e3aa4d0-4c8f-430e-f48d-e2662a5bc03a"
      },
      "source": [
        "import pandas as pd\n",
        "df = pd.read_csv('data_log_mk_x.csv') \n",
        "print (df)"
      ],
      "execution_count": null,
      "outputs": [
        {
          "output_type": "stream",
          "text": [
            "     A submission has been submitted  ...  Status Kelulusan\n",
            "0                                  5  ...                 1\n",
            "1                                  6  ...                 1\n",
            "2                                  7  ...                 1\n",
            "3                                  3  ...                 1\n",
            "4                                  5  ...                 1\n",
            "..                               ...  ...               ...\n",
            "227                                3  ...                 1\n",
            "228                                5  ...                 1\n",
            "229                                4  ...                 1\n",
            "230                                4  ...                 1\n",
            "231                                3  ...                 1\n",
            "\n",
            "[232 rows x 13 columns]\n"
          ],
          "name": "stdout"
        }
      ]
    },
    {
      "cell_type": "markdown",
      "metadata": {
        "id": "T6f2paCyfvqu"
      },
      "source": [
        "\n",
        "# Pre-processing data"
      ]
    },
    {
      "cell_type": "code",
      "metadata": {
        "colab": {
          "base_uri": "https://localhost:8080/"
        },
        "id": "UdxUxC5BWaF8",
        "outputId": "15b9d8e0-b809-45bc-bf0d-148c52443d9c"
      },
      "source": [
        "df.info()"
      ],
      "execution_count": null,
      "outputs": [
        {
          "output_type": "stream",
          "text": [
            "<class 'pandas.core.frame.DataFrame'>\n",
            "RangeIndex: 232 entries, 0 to 231\n",
            "Data columns (total 13 columns):\n",
            " #   Column                                        Non-Null Count  Dtype\n",
            "---  ------                                        --------------  -----\n",
            " 0   A submission has been submitted               232 non-null    int64\n",
            " 1   Course activity completion updated            232 non-null    int64\n",
            " 2   Course module viewed                          232 non-null    int64\n",
            " 3   Course viewed                                 232 non-null    int64\n",
            " 4   Discussion viewed                             232 non-null    int64\n",
            " 5   Quiz attempt started                          232 non-null    int64\n",
            " 6   Quiz attempt submitted                        232 non-null    int64\n",
            " 7   Some content has been posted.                 232 non-null    int64\n",
            " 8   The status of the submission has been viewed  232 non-null    int64\n",
            " 9   User graded                                   232 non-null    int64\n",
            " 10  File                                          232 non-null    int64\n",
            " 11  URL                                           232 non-null    int64\n",
            " 12  Status Kelulusan                              232 non-null    int64\n",
            "dtypes: int64(13)\n",
            "memory usage: 23.7 KB\n"
          ],
          "name": "stdout"
        }
      ]
    },
    {
      "cell_type": "code",
      "metadata": {
        "colab": {
          "base_uri": "https://localhost:8080/"
        },
        "id": "4XJCW_t9W4R7",
        "outputId": "3348ec3c-7211-4211-ccec-2894f8930247"
      },
      "source": [
        "df['Status Kelulusan'].value_counts()"
      ],
      "execution_count": null,
      "outputs": [
        {
          "output_type": "execute_result",
          "data": {
            "text/plain": [
              "1    219\n",
              "0     13\n",
              "Name: Status Kelulusan, dtype: int64"
            ]
          },
          "metadata": {
            "tags": []
          },
          "execution_count": 5
        }
      ]
    },
    {
      "cell_type": "code",
      "metadata": {
        "colab": {
          "base_uri": "https://localhost:8080/",
          "height": 343
        },
        "id": "Y1GLHR-oWeGh",
        "outputId": "e35411ac-0a0c-4ac4-83bf-4ce7ffbd7a0f"
      },
      "source": [
        "pd.value_counts(df['Status Kelulusan']).plot.bar()\n",
        "plt.title('Histogram Status Kelulusan')\n",
        "plt.xlabel('Status Kelulusan')\n",
        "plt.ylabel('Frequency')\n",
        "df['Status Kelulusan'].value_counts()"
      ],
      "execution_count": null,
      "outputs": [
        {
          "output_type": "execute_result",
          "data": {
            "text/plain": [
              "1    219\n",
              "0     13\n",
              "Name: Status Kelulusan, dtype: int64"
            ]
          },
          "metadata": {
            "tags": []
          },
          "execution_count": 6
        },
        {
          "output_type": "display_data",
          "data": {
            "image/png": "[encoded data removed]",
            "text/plain": [
              "<Figure size 432x288 with 1 Axes>"
            ]
          },
          "metadata": {
            "tags": [],
            "needs_background": "light"
          }
        }
      ]
    },
    {
      "cell_type": "code",
      "metadata": {
        "colab": {
          "base_uri": "https://localhost:8080/"
        },
        "id": "npRSU6BfWlD5",
        "outputId": "69087225-3526-457d-db12-0317cacbdac8"
      },
      "source": [
        "# Untuk memeriksa persentase dari tiap kategori\n",
        "Count_Lulus = len(df[df[\"Status Kelulusan\"]==1]) # lulus\n",
        "Count_Tidak_Lulus = len(df[df[\"Status Kelulusan\"]==0]) # tidak lulus by 1\n",
        "Percentage_of_lulus = Count_Lulus/(Count_Lulus+Count_Tidak_Lulus)\n",
        "print(\"persentase dari lulus\",Percentage_of_lulus*100)\n",
        "Percentage_of_Tidak_Lulus= Count_Tidak_Lulus/(Count_Lulus+Count_Tidak_Lulus)\n",
        "print(\"persentase dari tidak lulus\",Percentage_of_Tidak_Lulus*100)"
      ],
      "execution_count": null,
      "outputs": [
        {
          "output_type": "stream",
          "text": [
            "persentase dari lulus 94.39655172413794\n",
            "persentase dari tidak lulus 5.603448275862069\n"
          ],
          "name": "stdout"
        }
      ]
    },
    {
      "cell_type": "code",
      "metadata": {
        "colab": {
          "base_uri": "https://localhost:8080/"
        },
        "id": "IY7UU6kAqFQS",
        "outputId": "b44ea01a-e642-45a4-c8f2-d265a5b44d24"
      },
      "source": [
        "# untuk memeriksa apakah ada missing value\n",
        "df.isnull().sum()"
      ],
      "execution_count": null,
      "outputs": [
        {
          "output_type": "execute_result",
          "data": {
            "text/plain": [
              "A submission has been submitted                 0\n",
              "Course activity completion updated              0\n",
              "Course module viewed                            0\n",
              "Course viewed                                   0\n",
              "Discussion viewed                               0\n",
              "Quiz attempt started                            0\n",
              "Quiz attempt submitted                          0\n",
              "Some content has been posted.                   0\n",
              "The status of the submission has been viewed    0\n",
              "User graded                                     0\n",
              "File                                            0\n",
              "URL                                             0\n",
              "Status Kelulusan                                0\n",
              "dtype: int64"
            ]
          },
          "metadata": {
            "tags": []
          },
          "execution_count": 8
        }
      ]
    },
    {
      "cell_type": "code",
      "metadata": {
        "id": "ZoazgyslaElM"
      },
      "source": [
        "# untuk membagi variabel dalam data menjadi fitur (X) dan variabel target (y)\n",
        "X = df.drop(['Status Kelulusan'], axis=1)\n",
        "\n",
        "y = df['Status Kelulusan']"
      ],
      "execution_count": null,
      "outputs": []
    },
    {
      "cell_type": "code",
      "metadata": {
        "id": "yFehvw8_aElc"
      },
      "source": [
        "# membagi X dan y dalam data latih dan data uji, dengan proporsi 0,8 data uji dan 0,2 data latih\n",
        "\n",
        "from sklearn.model_selection import train_test_split\n",
        "\n",
        "X_train, X_test, y_train, y_test = train_test_split(X, y, test_size = 0.2, random_state = 4)"
      ],
      "execution_count": null,
      "outputs": []
    },
    {
      "cell_type": "code",
      "metadata": {
        "colab": {
          "base_uri": "https://localhost:8080/"
        },
        "id": "N2oXCmp8aEld",
        "outputId": "16488633-e84a-459d-f36e-c4f1230cb884"
      },
      "source": [
        "# memeriksa jumlah data latih dan data uji\n",
        "\n",
        "X_train.shape, X_test.shape"
      ],
      "execution_count": null,
      "outputs": [
        {
          "output_type": "execute_result",
          "data": {
            "text/plain": [
              "((185, 12), (47, 12))"
            ]
          },
          "metadata": {
            "tags": []
          },
          "execution_count": 11
        }
      ]
    },
    {
      "cell_type": "code",
      "metadata": {
        "colab": {
          "base_uri": "https://localhost:8080/"
        },
        "id": "Ti7QT91Muw7O",
        "outputId": "504e1677-0d87-45e8-99e9-c07387dee721"
      },
      "source": [
        "y_test.value_counts()"
      ],
      "execution_count": null,
      "outputs": [
        {
          "output_type": "execute_result",
          "data": {
            "text/plain": [
              "1    42\n",
              "0     5\n",
              "Name: Status Kelulusan, dtype: int64"
            ]
          },
          "metadata": {
            "tags": []
          },
          "execution_count": 12
        }
      ]
    },
    {
      "cell_type": "code",
      "metadata": {
        "id": "IMnVqiA2aEle"
      },
      "source": [
        "cols = X_train.columns"
      ],
      "execution_count": null,
      "outputs": []
    },
    {
      "cell_type": "code",
      "metadata": {
        "id": "5PDuEHpfaElf"
      },
      "source": [
        "# untuk standarisasi, dengan melakukan penyesuaian skala pada data uji\n",
        "from sklearn.preprocessing import StandardScaler\n",
        "\n",
        "scaler = StandardScaler()\n",
        "\n",
        "X_train = scaler.fit_transform(X_train)\n",
        "\n",
        "X_test = scaler.transform(X_test)"
      ],
      "execution_count": null,
      "outputs": []
    },
    {
      "cell_type": "code",
      "metadata": {
        "id": "Qjd0PS_vaElf"
      },
      "source": [
        "X_train = pd.DataFrame(X_train, columns=[cols])"
      ],
      "execution_count": null,
      "outputs": []
    },
    {
      "cell_type": "code",
      "metadata": {
        "id": "R_UVcXxyaElf"
      },
      "source": [
        "X_test = pd.DataFrame(X_test, columns=[cols])"
      ],
      "execution_count": null,
      "outputs": []
    },
    {
      "cell_type": "code",
      "metadata": {
        "colab": {
          "base_uri": "https://localhost:8080/",
          "height": 238
        },
        "id": "hwKFtO9ZaMyG",
        "outputId": "5e47b1b6-a0a6-4a47-943a-2cc789ca84fc"
      },
      "source": [
        "X_train.head()"
      ],
      "execution_count": null,
      "outputs": [
        {
          "output_type": "execute_result",
          "data": {
            "text/html": [
              "<div>\n",
              "<style scoped>\n",
              "    .dataframe tbody tr th:only-of-type {\n",
              "        vertical-align: middle;\n",
              "    }\n",
              "\n",
              "    .dataframe tbody tr th {\n",
              "        vertical-align: top;\n",
              "    }\n",
              "\n",
              "    .dataframe thead tr th {\n",
              "        text-align: left;\n",
              "    }\n",
              "</style>\n",
              "<table border=\"1\" class=\"dataframe\">\n",
              "  <thead>\n",
              "    <tr>\n",
              "      <th></th>\n",
              "      <th>A submission has been submitted</th>\n",
              "      <th>Course activity completion updated</th>\n",
              "      <th>Course module viewed</th>\n",
              "      <th>Course viewed</th>\n",
              "      <th>Discussion viewed</th>\n",
              "      <th>Quiz attempt started</th>\n",
              "      <th>Quiz attempt submitted</th>\n",
              "      <th>Some content has been posted.</th>\n",
              "      <th>The status of the submission has been viewed</th>\n",
              "      <th>User graded</th>\n",
              "      <th>File</th>\n",
              "      <th>URL</th>\n",
              "    </tr>\n",
              "  </thead>\n",
              "  <tbody>\n",
              "    <tr>\n",
              "      <th>0</th>\n",
              "      <td>-0.009319</td>\n",
              "      <td>1.770466</td>\n",
              "      <td>2.662086</td>\n",
              "      <td>1.011214</td>\n",
              "      <td>0.703961</td>\n",
              "      <td>0.145860</td>\n",
              "      <td>0.203256</td>\n",
              "      <td>-0.811401</td>\n",
              "      <td>2.598332</td>\n",
              "      <td>0.143393</td>\n",
              "      <td>3.854295</td>\n",
              "      <td>3.695699</td>\n",
              "    </tr>\n",
              "    <tr>\n",
              "      <th>1</th>\n",
              "      <td>0.421679</td>\n",
              "      <td>-2.067782</td>\n",
              "      <td>-0.252793</td>\n",
              "      <td>0.519746</td>\n",
              "      <td>0.286206</td>\n",
              "      <td>0.696558</td>\n",
              "      <td>0.203256</td>\n",
              "      <td>0.462182</td>\n",
              "      <td>0.505589</td>\n",
              "      <td>0.790413</td>\n",
              "      <td>-0.334336</td>\n",
              "      <td>-1.078772</td>\n",
              "    </tr>\n",
              "    <tr>\n",
              "      <th>2</th>\n",
              "      <td>-0.871314</td>\n",
              "      <td>-1.842002</td>\n",
              "      <td>-1.338728</td>\n",
              "      <td>-1.287860</td>\n",
              "      <td>-1.189267</td>\n",
              "      <td>0.145860</td>\n",
              "      <td>0.203256</td>\n",
              "      <td>-1.100852</td>\n",
              "      <td>-0.947705</td>\n",
              "      <td>0.790413</td>\n",
              "      <td>0.619741</td>\n",
              "      <td>-0.123878</td>\n",
              "    </tr>\n",
              "    <tr>\n",
              "      <th>3</th>\n",
              "      <td>0.852677</td>\n",
              "      <td>-0.157341</td>\n",
              "      <td>0.118711</td>\n",
              "      <td>-0.796391</td>\n",
              "      <td>-0.495972</td>\n",
              "      <td>0.696558</td>\n",
              "      <td>0.756232</td>\n",
              "      <td>-0.348280</td>\n",
              "      <td>-0.075728</td>\n",
              "      <td>0.790413</td>\n",
              "      <td>0.363769</td>\n",
              "      <td>-0.497532</td>\n",
              "    </tr>\n",
              "    <tr>\n",
              "      <th>4</th>\n",
              "      <td>-0.440317</td>\n",
              "      <td>-0.209444</td>\n",
              "      <td>-0.002742</td>\n",
              "      <td>0.902925</td>\n",
              "      <td>-0.451530</td>\n",
              "      <td>0.145860</td>\n",
              "      <td>0.203256</td>\n",
              "      <td>-0.927181</td>\n",
              "      <td>0.389326</td>\n",
              "      <td>0.143393</td>\n",
              "      <td>-0.799739</td>\n",
              "      <td>-0.248430</td>\n",
              "    </tr>\n",
              "  </tbody>\n",
              "</table>\n",
              "</div>"
            ],
            "text/plain": [
              "  A submission has been submitted  ...       URL\n",
              "0                       -0.009319  ...  3.695699\n",
              "1                        0.421679  ... -1.078772\n",
              "2                       -0.871314  ... -0.123878\n",
              "3                        0.852677  ... -0.497532\n",
              "4                       -0.440317  ... -0.248430\n",
              "\n",
              "[5 rows x 12 columns]"
            ]
          },
          "metadata": {
            "tags": []
          },
          "execution_count": 17
        }
      ]
    },
    {
      "cell_type": "code",
      "metadata": {
        "colab": {
          "base_uri": "https://localhost:8080/"
        },
        "id": "6WR28FGMe6hD",
        "outputId": "53599adc-9a2b-47ce-b36f-e3a37c4594bc"
      },
      "source": [
        "# untuk mengecek kembali banyaknya observasi dan dimensi pada fitur (X) dan variabel target (y)\n",
        "X, y = df.iloc[:, :-1], df.iloc[:, [-1]]\n",
        "print('Dimensi dari X: {}'.format(X.shape))\n",
        "print('Dimensi dari y: {}'.format(y.shape))"
      ],
      "execution_count": null,
      "outputs": [
        {
          "output_type": "stream",
          "text": [
            "Dimensi dari X: (232, 12)\n",
            "Dimensi dari y: (232, 1)\n"
          ],
          "name": "stdout"
        }
      ]
    },
    {
      "cell_type": "code",
      "metadata": {
        "colab": {
          "base_uri": "https://localhost:8080/"
        },
        "id": "b2YCYvrEaReF",
        "outputId": "f9974caa-92dc-46bf-f0a8-8068d5df3915"
      },
      "source": [
        "# untuk melihat banyaknya observasi dan dimensi fitur (X) dan variabel target (y) pada data latih dan data uji\n",
        "print(\"Jumlah Kelulusan X_train dataset: \", X_train.shape)\n",
        "print(\"Jumlah Kelulusan y_train dataset: \", y_train.shape)\n",
        "print(\"Jumlah Kelulusan X_test dataset: \", X_test.shape)\n",
        "print(\"Jumlah Kelulusan y_test dataset: \", y_test.shape)"
      ],
      "execution_count": null,
      "outputs": [
        {
          "output_type": "stream",
          "text": [
            "Jumlah Kelulusan X_train dataset:  (185, 12)\n",
            "Jumlah Kelulusan y_train dataset:  (185,)\n",
            "Jumlah Kelulusan X_test dataset:  (47, 12)\n",
            "Jumlah Kelulusan y_test dataset:  (47,)\n"
          ],
          "name": "stdout"
        }
      ]
    },
    {
      "cell_type": "markdown",
      "metadata": {
        "id": "GJ2MS3bxf89a"
      },
      "source": [
        "\n",
        "# SMOTE"
      ]
    },
    {
      "cell_type": "code",
      "metadata": {
        "colab": {
          "base_uri": "https://localhost:8080/"
        },
        "id": "2hzp9SNSRyjM",
        "outputId": "bbfb9954-8d4f-4280-e406-d2853c307fe7"
      },
      "source": [
        "# melihat banyaknya data antar label, sebelum dilakukan oversampling\n",
        "print(\"Sebelum OverSampling, jumlah dari label '1': {}\".format(sum(y_train==1)))\n",
        "print(\"Sebelum OverSampling, jumlah dari label '0': {} \\n\".format(sum(y_train==0)))"
      ],
      "execution_count": null,
      "outputs": [
        {
          "output_type": "stream",
          "text": [
            "Sebelum OverSampling, jumlah dari label '1': 177\n",
            "Sebelum OverSampling, jumlah dari label '0': 8 \n",
            "\n"
          ],
          "name": "stdout"
        }
      ]
    },
    {
      "cell_type": "code",
      "metadata": {
        "id": "pTMjfrmGa7TK"
      },
      "source": [
        "# pembangunan data sintetik untuk label '0' pada data latih menggunakan SMOTE\n",
        "from imblearn.over_sampling import SMOTE\n",
        "sm = SMOTE(k_neighbors=5, random_state=42)\n",
        "X_train_res, y_train_res = sm.fit_sample(X_train, y_train.values.ravel())\n"
      ],
      "execution_count": null,
      "outputs": []
    },
    {
      "cell_type": "code",
      "metadata": {
        "colab": {
          "base_uri": "https://localhost:8080/"
        },
        "id": "6UaNP01reOLW",
        "outputId": "cfa661bb-57b4-4aab-8922-4432984b9a77"
      },
      "source": [
        "# hasil dari SMOTE\n",
        "print('Setelah OverSampling, dimensi dari train_X: {}'.format(X_train_res.shape))\n",
        "print('Setelah OverSampling, dimensi dari train_y: {} \\n'.format(y_train_res.shape))\n",
        "\n",
        "print(\"Setelah OverSampling, jumlah dari label '1': {}\".format(sum(y_train_res==1)))\n",
        "print(\"Setelah OverSampling, jumlah dari label '0': {}\".format(sum(y_train_res==0)))"
      ],
      "execution_count": null,
      "outputs": [
        {
          "output_type": "stream",
          "text": [
            "Setelah OverSampling, dimensi dari train_X: (354, 12)\n",
            "Setelah OverSampling, dimensi dari train_y: (354,) \n",
            "\n",
            "Setelah OverSampling, jumlah dari label '1': 177\n",
            "Setelah OverSampling, jumlah dari label '0': 177\n"
          ],
          "name": "stdout"
        }
      ]
    },
    {
      "cell_type": "code",
      "metadata": {
        "colab": {
          "base_uri": "https://localhost:8080/",
          "height": 343
        },
        "id": "skVGlNqYxvS-",
        "outputId": "bc902f97-f63e-4e9c-be4c-94fa3dfdcf4b"
      },
      "source": [
        "pd.value_counts(y_train).plot.bar()\n",
        "plt.title('Diagram Batang Status Kelulusan pada Data Latih 80 % Sebelum SMOTE')\n",
        "tick_label = ['Lulus', 'Tidak Lulus']\n",
        "plt.xlabel('Status Kelulusan')\n",
        "plt.ylabel('Frequency')\n",
        "y_train.value_counts()"
      ],
      "execution_count": null,
      "outputs": [
        {
          "output_type": "execute_result",
          "data": {
            "text/plain": [
              "1    177\n",
              "0      8\n",
              "Name: Status Kelulusan, dtype: int64"
            ]
          },
          "metadata": {
            "tags": []
          },
          "execution_count": 23
        },
        {
          "output_type": "display_data",
          "data": {
            "image/png": "[encoded data removed]",
            "text/plain": [
              "<Figure size 432x288 with 1 Axes>"
            ]
          },
          "metadata": {
            "tags": [],
            "needs_background": "light"
          }
        }
      ]
    },
    {
      "cell_type": "code",
      "metadata": {
        "colab": {
          "base_uri": "https://localhost:8080/"
        },
        "id": "tRm1lXyEriId",
        "outputId": "3f818627-d051-4532-f168-fd53534afa73"
      },
      "source": [
        "print(y_train)"
      ],
      "execution_count": null,
      "outputs": [
        {
          "output_type": "stream",
          "text": [
            "77     1\n",
            "34     1\n",
            "142    1\n",
            "70     1\n",
            "101    1\n",
            "      ..\n",
            "129    1\n",
            "197    1\n",
            "183    1\n",
            "174    1\n",
            "122    1\n",
            "Name: Status Kelulusan, Length: 185, dtype: int64\n"
          ],
          "name": "stdout"
        }
      ]
    },
    {
      "cell_type": "code",
      "metadata": {
        "colab": {
          "base_uri": "https://localhost:8080/",
          "height": 312
        },
        "id": "zw_MRuysjRhE",
        "outputId": "a14e525d-057e-41d2-b170-f71ba784337a"
      },
      "source": [
        "y_train.value_counts(sort=False).plot.bar(rot=0)\n",
        "plt.title('Diagram Batang Status Kelulusan pada Data Latih 80 % Sebelum SMOTE')\n",
        "plt.xlabel('Status Kelulusan')"
      ],
      "execution_count": null,
      "outputs": [
        {
          "output_type": "execute_result",
          "data": {
            "text/plain": [
              "Text(0.5, 0, 'Status Kelulusan')"
            ]
          },
          "metadata": {
            "tags": []
          },
          "execution_count": 29
        },
        {
          "output_type": "display_data",
          "data": {
            "image/png": "[encoded data removed]",
            "text/plain": [
              "<Figure size 432x288 with 1 Axes>"
            ]
          },
          "metadata": {
            "tags": [],
            "needs_background": "light"
          }
        }
      ]
    },
    {
      "cell_type": "code",
      "metadata": {
        "colab": {
          "base_uri": "https://localhost:8080/",
          "height": 408
        },
        "id": "jZL0EJTMvt4n",
        "outputId": "b35be2db-67e9-46df-cf8a-b90639fc2410"
      },
      "source": [
        "pd.value_counts(y_train_res).plot.bar()\n",
        "plt.title('Diagram Batang Status Kelulusan pada Data Latih 80% Setelah SMOTE')\n",
        "plt.xlabel('Status Kelulusan')\n",
        "plt.ylabel('Frequency')\n",
        "y_train_res.value_counts()"
      ],
      "execution_count": null,
      "outputs": [
        {
          "output_type": "error",
          "ename": "ValueError",
          "evalue": "ignored",
          "traceback": [
            "\u001b[0;31m---------------------------------------------------------------------------\u001b[0m",
            "\u001b[0;31mValueError\u001b[0m                                Traceback (most recent call last)",
            "\u001b[0;32m<ipython-input-42-404640ba12a8>\u001b[0m in \u001b[0;36m<module>\u001b[0;34m()\u001b[0m\n\u001b[0;32m----> 1\u001b[0;31m \u001b[0mpd\u001b[0m\u001b[0;34m.\u001b[0m\u001b[0mvalue_counts\u001b[0m\u001b[0;34m(\u001b[0m\u001b[0my_train_res\u001b[0m\u001b[0;34m)\u001b[0m\u001b[0;34m.\u001b[0m\u001b[0mplot\u001b[0m\u001b[0;34m.\u001b[0m\u001b[0mbar\u001b[0m\u001b[0;34m(\u001b[0m\u001b[0;34m)\u001b[0m\u001b[0;34m\u001b[0m\u001b[0;34m\u001b[0m\u001b[0m\n\u001b[0m\u001b[1;32m      2\u001b[0m \u001b[0mplt\u001b[0m\u001b[0;34m.\u001b[0m\u001b[0mtitle\u001b[0m\u001b[0;34m(\u001b[0m\u001b[0;34m'Diagram Batang Status Kelulusan pada Data Latih 80% Setelah SMOTE'\u001b[0m\u001b[0;34m)\u001b[0m\u001b[0;34m\u001b[0m\u001b[0;34m\u001b[0m\u001b[0m\n\u001b[1;32m      3\u001b[0m \u001b[0mplt\u001b[0m\u001b[0;34m.\u001b[0m\u001b[0mxlabel\u001b[0m\u001b[0;34m(\u001b[0m\u001b[0;34m'Status Kelulusan'\u001b[0m\u001b[0;34m)\u001b[0m\u001b[0;34m\u001b[0m\u001b[0;34m\u001b[0m\u001b[0m\n\u001b[1;32m      4\u001b[0m \u001b[0mplt\u001b[0m\u001b[0;34m.\u001b[0m\u001b[0mylabel\u001b[0m\u001b[0;34m(\u001b[0m\u001b[0;34m'Frequency'\u001b[0m\u001b[0;34m)\u001b[0m\u001b[0;34m\u001b[0m\u001b[0;34m\u001b[0m\u001b[0m\n\u001b[1;32m      5\u001b[0m \u001b[0my_train_res\u001b[0m\u001b[0;34m.\u001b[0m\u001b[0mvalue_counts\u001b[0m\u001b[0;34m(\u001b[0m\u001b[0;34m)\u001b[0m\u001b[0;34m\u001b[0m\u001b[0;34m\u001b[0m\u001b[0m\n",
            "\u001b[0;32m/usr/local/lib/python3.7/dist-packages/pandas/core/algorithms.py\u001b[0m in \u001b[0;36mvalue_counts\u001b[0;34m(values, sort, ascending, normalize, bins, dropna)\u001b[0m\n\u001b[1;32m    795\u001b[0m \u001b[0;34m\u001b[0m\u001b[0m\n\u001b[1;32m    796\u001b[0m         \u001b[0;32melse\u001b[0m\u001b[0;34m:\u001b[0m\u001b[0;34m\u001b[0m\u001b[0;34m\u001b[0m\u001b[0m\n\u001b[0;32m--> 797\u001b[0;31m             \u001b[0mkeys\u001b[0m\u001b[0;34m,\u001b[0m \u001b[0mcounts\u001b[0m \u001b[0;34m=\u001b[0m \u001b[0m_value_counts_arraylike\u001b[0m\u001b[0;34m(\u001b[0m\u001b[0mvalues\u001b[0m\u001b[0;34m,\u001b[0m \u001b[0mdropna\u001b[0m\u001b[0;34m)\u001b[0m\u001b[0;34m\u001b[0m\u001b[0;34m\u001b[0m\u001b[0m\n\u001b[0m\u001b[1;32m    798\u001b[0m \u001b[0;34m\u001b[0m\u001b[0m\n\u001b[1;32m    799\u001b[0m             \u001b[0mresult\u001b[0m \u001b[0;34m=\u001b[0m \u001b[0mSeries\u001b[0m\u001b[0;34m(\u001b[0m\u001b[0mcounts\u001b[0m\u001b[0;34m,\u001b[0m \u001b[0mindex\u001b[0m\u001b[0;34m=\u001b[0m\u001b[0mkeys\u001b[0m\u001b[0;34m,\u001b[0m \u001b[0mname\u001b[0m\u001b[0;34m=\u001b[0m\u001b[0mname\u001b[0m\u001b[0;34m)\u001b[0m\u001b[0;34m\u001b[0m\u001b[0;34m\u001b[0m\u001b[0m\n",
            "\u001b[0;32m/usr/local/lib/python3.7/dist-packages/pandas/core/algorithms.py\u001b[0m in \u001b[0;36m_value_counts_arraylike\u001b[0;34m(values, dropna)\u001b[0m\n\u001b[1;32m    840\u001b[0m         \u001b[0;31m# TODO: handle uint8\u001b[0m\u001b[0;34m\u001b[0m\u001b[0;34m\u001b[0m\u001b[0;34m\u001b[0m\u001b[0m\n\u001b[1;32m    841\u001b[0m         \u001b[0mf\u001b[0m \u001b[0;34m=\u001b[0m \u001b[0mgetattr\u001b[0m\u001b[0;34m(\u001b[0m\u001b[0mhtable\u001b[0m\u001b[0;34m,\u001b[0m \u001b[0;34mf\"value_count_{ndtype}\"\u001b[0m\u001b[0;34m)\u001b[0m\u001b[0;34m\u001b[0m\u001b[0;34m\u001b[0m\u001b[0m\n\u001b[0;32m--> 842\u001b[0;31m         \u001b[0mkeys\u001b[0m\u001b[0;34m,\u001b[0m \u001b[0mcounts\u001b[0m \u001b[0;34m=\u001b[0m \u001b[0mf\u001b[0m\u001b[0;34m(\u001b[0m\u001b[0mvalues\u001b[0m\u001b[0;34m,\u001b[0m \u001b[0mdropna\u001b[0m\u001b[0;34m)\u001b[0m\u001b[0;34m\u001b[0m\u001b[0;34m\u001b[0m\u001b[0m\n\u001b[0m\u001b[1;32m    843\u001b[0m \u001b[0;34m\u001b[0m\u001b[0m\n\u001b[1;32m    844\u001b[0m         \u001b[0mmask\u001b[0m \u001b[0;34m=\u001b[0m \u001b[0misna\u001b[0m\u001b[0;34m(\u001b[0m\u001b[0mvalues\u001b[0m\u001b[0;34m)\u001b[0m\u001b[0;34m\u001b[0m\u001b[0;34m\u001b[0m\u001b[0m\n",
            "\u001b[0;32mpandas/_libs/hashtable_func_helper.pxi\u001b[0m in \u001b[0;36mpandas._libs.hashtable.value_count_int64\u001b[0;34m()\u001b[0m\n",
            "\u001b[0;31mValueError\u001b[0m: Buffer has wrong number of dimensions (expected 1, got 2)"
          ]
        }
      ]
    },
    {
      "cell_type": "code",
      "metadata": {
        "colab": {
          "base_uri": "https://localhost:8080/"
        },
        "id": "s9bnkQ0WkuH_",
        "outputId": "0e43a7a6-3444-4c67-b437-2250eb12b3d1"
      },
      "source": [
        "print(y_train_res)"
      ],
      "execution_count": null,
      "outputs": [
        {
          "output_type": "stream",
          "text": [
            "[1 1 1 1 1 0 1 1 1 1 1 1 0 1 1 1 1 1 1 1 1 1 1 1 1 1 1 1 1 1 1 1 1 1 1 1 1\n",
            " 1 1 1 1 0 1 1 1 1 1 1 1 1 1 1 1 1 1 1 1 1 1 1 0 1 1 1 1 1 1 1 1 1 1 1 1 1\n",
            " 1 1 1 1 1 1 1 1 1 1 1 1 1 1 1 1 1 1 1 1 1 1 1 1 1 1 1 1 1 1 1 1 1 1 1 1 1\n",
            " 1 1 1 1 0 1 1 1 1 1 1 1 0 1 1 1 1 1 1 1 1 1 1 1 1 1 1 1 1 1 1 1 1 1 1 0 1\n",
            " 0 1 1 1 1 1 1 1 1 1 1 1 1 1 1 1 1 1 1 1 1 1 1 1 1 1 1 1 1 1 1 1 1 1 1 1 1\n",
            " 0 0 0 0 0 0 0 0 0 0 0 0 0 0 0 0 0 0 0 0 0 0 0 0 0 0 0 0 0 0 0 0 0 0 0 0 0\n",
            " 0 0 0 0 0 0 0 0 0 0 0 0 0 0 0 0 0 0 0 0 0 0 0 0 0 0 0 0 0 0 0 0 0 0 0 0 0\n",
            " 0 0 0 0 0 0 0 0 0 0 0 0 0 0 0 0 0 0 0 0 0 0 0 0 0 0 0 0 0 0 0 0 0 0 0 0 0\n",
            " 0 0 0 0 0 0 0 0 0 0 0 0 0 0 0 0 0 0 0 0 0 0 0 0 0 0 0 0 0 0 0 0 0 0 0 0 0\n",
            " 0 0 0 0 0 0 0 0 0 0 0 0 0 0 0 0 0 0 0 0 0]\n"
          ],
          "name": "stdout"
        }
      ]
    },
    {
      "cell_type": "code",
      "metadata": {
        "id": "1p5ImjmIqaJ-"
      },
      "source": [
        "import pandas as pd\n",
        "\n",
        "# Create the dataframe\n",
        "y_train_res = pd.DataFrame(y_train_res)"
      ],
      "execution_count": null,
      "outputs": []
    },
    {
      "cell_type": "code",
      "metadata": {
        "colab": {
          "base_uri": "https://localhost:8080/"
        },
        "id": "mAn2p57Xq7fx",
        "outputId": "25946719-9778-43a1-c898-8fb526db41c6"
      },
      "source": [
        "print(y_train_res)"
      ],
      "execution_count": null,
      "outputs": [
        {
          "output_type": "stream",
          "text": [
            "     0\n",
            "0    1\n",
            "1    1\n",
            "2    1\n",
            "3    1\n",
            "4    1\n",
            "..  ..\n",
            "349  0\n",
            "350  0\n",
            "351  0\n",
            "352  0\n",
            "353  0\n",
            "\n",
            "[354 rows x 1 columns]\n"
          ],
          "name": "stdout"
        }
      ]
    },
    {
      "cell_type": "code",
      "metadata": {
        "colab": {
          "base_uri": "https://localhost:8080/",
          "height": 312
        },
        "id": "tLXmhFtUjtfr",
        "outputId": "52113df9-d845-4fbe-a6aa-a309ce03253f"
      },
      "source": [
        "y_train_res.value_counts(sort=False).plot.bar(rot=0)\n",
        "plt.title('Diagram Batang Status Kelulusan pada Data Latih 80% Setelah SMOTE')\n",
        "plt.xlabel('Status Kelulusan')"
      ],
      "execution_count": null,
      "outputs": [
        {
          "output_type": "execute_result",
          "data": {
            "text/plain": [
              "Text(0.5, 0, 'Status Kelulusan')"
            ]
          },
          "metadata": {
            "tags": []
          },
          "execution_count": 34
        },
        {
          "output_type": "display_data",
          "data": {
            "image/png": "[encoded data removed]",
            "text/plain": [
              "<Figure size 432x288 with 1 Axes>"
            ]
          },
          "metadata": {
            "tags": [],
            "needs_background": "light"
          }
        }
      ]
    },
    {
      "cell_type": "code",
      "metadata": {
        "colab": {
          "base_uri": "https://localhost:8080/",
          "height": 204
        },
        "id": "ewU9om8nJaOM",
        "outputId": "5b994b8b-2526-4062-c267-d1806410e3a1"
      },
      "source": [
        "X_train_res = pd.DataFrame(X_train_res)\n",
        "X_train_res.tail()"
      ],
      "execution_count": null,
      "outputs": [
        {
          "output_type": "execute_result",
          "data": {
            "text/html": [
              "<div>\n",
              "<style scoped>\n",
              "    .dataframe tbody tr th:only-of-type {\n",
              "        vertical-align: middle;\n",
              "    }\n",
              "\n",
              "    .dataframe tbody tr th {\n",
              "        vertical-align: top;\n",
              "    }\n",
              "\n",
              "    .dataframe thead th {\n",
              "        text-align: right;\n",
              "    }\n",
              "</style>\n",
              "<table border=\"1\" class=\"dataframe\">\n",
              "  <thead>\n",
              "    <tr style=\"text-align: right;\">\n",
              "      <th></th>\n",
              "      <th>0</th>\n",
              "      <th>1</th>\n",
              "      <th>2</th>\n",
              "      <th>3</th>\n",
              "      <th>4</th>\n",
              "      <th>5</th>\n",
              "      <th>6</th>\n",
              "      <th>7</th>\n",
              "      <th>8</th>\n",
              "      <th>9</th>\n",
              "      <th>10</th>\n",
              "      <th>11</th>\n",
              "    </tr>\n",
              "  </thead>\n",
              "  <tbody>\n",
              "    <tr>\n",
              "      <th>349</th>\n",
              "      <td>-1.005635</td>\n",
              "      <td>-1.940559</td>\n",
              "      <td>-1.469692</td>\n",
              "      <td>-1.040682</td>\n",
              "      <td>-0.757340</td>\n",
              "      <td>-1.849482</td>\n",
              "      <td>-1.800341</td>\n",
              "      <td>-1.111624</td>\n",
              "      <td>-0.987192</td>\n",
              "      <td>-1.271044</td>\n",
              "      <td>-0.998574</td>\n",
              "      <td>-1.164131</td>\n",
              "    </tr>\n",
              "    <tr>\n",
              "      <th>350</th>\n",
              "      <td>0.320053</td>\n",
              "      <td>1.117406</td>\n",
              "      <td>-0.438951</td>\n",
              "      <td>0.121135</td>\n",
              "      <td>-1.120460</td>\n",
              "      <td>0.145860</td>\n",
              "      <td>0.203256</td>\n",
              "      <td>-1.264162</td>\n",
              "      <td>0.460673</td>\n",
              "      <td>0.637851</td>\n",
              "      <td>0.096824</td>\n",
              "      <td>0.447572</td>\n",
              "    </tr>\n",
              "    <tr>\n",
              "      <th>351</th>\n",
              "      <td>-1.746689</td>\n",
              "      <td>-2.045447</td>\n",
              "      <td>-1.811710</td>\n",
              "      <td>-1.542044</td>\n",
              "      <td>-1.299239</td>\n",
              "      <td>-5.378211</td>\n",
              "      <td>-5.343669</td>\n",
              "      <td>-1.390302</td>\n",
              "      <td>-1.830508</td>\n",
              "      <td>-5.052846</td>\n",
              "      <td>-1.312251</td>\n",
              "      <td>-0.978708</td>\n",
              "    </tr>\n",
              "    <tr>\n",
              "      <th>352</th>\n",
              "      <td>-0.995415</td>\n",
              "      <td>-0.915030</td>\n",
              "      <td>-1.333613</td>\n",
              "      <td>-0.999130</td>\n",
              "      <td>-1.286797</td>\n",
              "      <td>-3.475459</td>\n",
              "      <td>-3.433045</td>\n",
              "      <td>-1.370480</td>\n",
              "      <td>-0.963765</td>\n",
              "      <td>-3.038834</td>\n",
              "      <td>-0.810333</td>\n",
              "      <td>-0.470878</td>\n",
              "    </tr>\n",
              "    <tr>\n",
              "      <th>353</th>\n",
              "      <td>-1.841121</td>\n",
              "      <td>-2.067801</td>\n",
              "      <td>-1.901402</td>\n",
              "      <td>-1.669040</td>\n",
              "      <td>-1.298151</td>\n",
              "      <td>-5.498869</td>\n",
              "      <td>-5.464826</td>\n",
              "      <td>-1.361341</td>\n",
              "      <td>-1.906928</td>\n",
              "      <td>-5.194607</td>\n",
              "      <td>-1.474680</td>\n",
              "      <td>-1.078843</td>\n",
              "    </tr>\n",
              "  </tbody>\n",
              "</table>\n",
              "</div>"
            ],
            "text/plain": [
              "           0         1         2   ...        9         10        11\n",
              "349 -1.005635 -1.940559 -1.469692  ... -1.271044 -0.998574 -1.164131\n",
              "350  0.320053  1.117406 -0.438951  ...  0.637851  0.096824  0.447572\n",
              "351 -1.746689 -2.045447 -1.811710  ... -5.052846 -1.312251 -0.978708\n",
              "352 -0.995415 -0.915030 -1.333613  ... -3.038834 -0.810333 -0.470878\n",
              "353 -1.841121 -2.067801 -1.901402  ... -5.194607 -1.474680 -1.078843\n",
              "\n",
              "[5 rows x 12 columns]"
            ]
          },
          "metadata": {
            "tags": []
          },
          "execution_count": 25
        }
      ]
    },
    {
      "cell_type": "code",
      "metadata": {
        "colab": {
          "base_uri": "https://localhost:8080/"
        },
        "id": "XkYQCsb595QA",
        "outputId": "fd0f8728-965f-47f6-ffed-e7a16f3585cc"
      },
      "source": [
        "# importing the modules\n",
        "from tabulate import tabulate\n",
        "import pandas as pd\n",
        "\n",
        "df = pd.DataFrame(X_train_res)\n",
        "df.columns = ['A submission has been submitted', 'Course activity completion updated', 'Course module viewed', 'Course viewed','Discussion viewed','Quiz attempt started','Quiz attempt submitted','Some content has been posted','The status of the submission has been viewed','User graded','File','URL']\n",
        "# displaying the DataFrame\n",
        "print(tabulate(df, headers = 'keys', tablefmt = 'fancy_grid'))"
      ],
      "execution_count": null,
      "outputs": [
        {
          "output_type": "stream",
          "text": [
            "╒═════╤═══════════════════════════════════╤══════════════════════════════════════╤════════════════════════╤═════════════════╤═════════════════════╤════════════════════════╤══════════════════════════╤════════════════════════════════╤════════════════════════════════════════════════╤═══════════════╤═════════════╤══════════════╕\n",
            "│     │   A submission has been submitted │   Course activity completion updated │   Course module viewed │   Course viewed │   Discussion viewed │   Quiz attempt started │   Quiz attempt submitted │   Some content has been posted │   The status of the submission has been viewed │   User graded │        File │          URL │\n",
            "╞═════╪═══════════════════════════════════╪══════════════════════════════════════╪════════════════════════╪═════════════════╪═════════════════════╪════════════════════════╪══════════════════════════╪════════════════════════════════╪════════════════════════════════════════════════╪═══════════════╪═════════════╪══════════════╡\n",
            "│   0 │                       -0.00931887 │                           1.77047    │             2.66209    │      1.01121    │          0.703961   │              0.14586   │               0.203256   │                   -0.811401    │                                     2.59833    │    0.143393   │  3.8543     │  3.6957      │\n",
            "├─────┼───────────────────────────────────┼──────────────────────────────────────┼────────────────────────┼─────────────────┼─────────────────────┼────────────────────────┼──────────────────────────┼────────────────────────────────┼────────────────────────────────────────────────┼───────────────┼─────────────┼──────────────┤\n",
            "│   1 │                        0.421679   │                          -2.06778    │            -0.252793   │      0.519746   │          0.286206   │              0.696558  │               0.203256   │                    0.462182    │                                     0.505589   │    0.790413   │ -0.334336   │ -1.07877     │\n",
            "├─────┼───────────────────────────────────┼──────────────────────────────────────┼────────────────────────┼─────────────────┼─────────────────────┼────────────────────────┼──────────────────────────┼────────────────────────────────┼────────────────────────────────────────────────┼───────────────┼─────────────┼──────────────┤\n",
            "│   2 │                       -0.871314   │                          -1.842      │            -1.33873    │     -1.28786    │         -1.18927    │              0.14586   │               0.203256   │                   -1.10085     │                                    -0.947705   │    0.790413   │  0.619741   │ -0.123878    │\n",
            "├─────┼───────────────────────────────────┼──────────────────────────────────────┼────────────────────────┼─────────────────┼─────────────────────┼────────────────────────┼──────────────────────────┼────────────────────────────────┼────────────────────────────────────────────────┼───────────────┼─────────────┼──────────────┤\n",
            "│   3 │                        0.852677   │                          -0.157341   │             0.118711   │     -0.796391   │         -0.495972   │              0.696558  │               0.756232   │                   -0.34828     │                                    -0.0757284  │    0.790413   │  0.363769   │ -0.497532    │\n",
            "├─────┼───────────────────────────────────┼──────────────────────────────────────┼────────────────────────┼─────────────────┼─────────────────────┼────────────────────────┼──────────────────────────┼────────────────────────────────┼────────────────────────────────────────────────┼───────────────┼─────────────┼──────────────┤\n",
            "│   4 │                       -0.440317   │                          -0.209444   │            -0.00274187 │      0.902925   │         -0.45153    │              0.14586   │               0.203256   │                   -0.927181    │                                     0.389326   │    0.143393   │ -0.799739   │ -0.24843     │\n",
            "├─────┼───────────────────────────────────┼──────────────────────────────────────┼────────────────────────┼─────────────────┼─────────────────────┼────────────────────────┼──────────────────────────┼────────────────────────────────┼────────────────────────────────────────────────┼───────────────┼─────────────┼──────────────┤\n",
            "│   5 │                       -1.73331    │                          -2.03305    │            -1.79596    │     -1.5211     │         -1.29593    │             -5.36112   │              -5.3265     │                   -1.3903      │                                    -1.81968    │   -5.03276    │ -1.28841    │ -0.954221    │\n",
            "├─────┼───────────────────────────────────┼──────────────────────────────────────┼────────────────────────┼─────────────────┼─────────────────────┼────────────────────────┼──────────────────────────┼────────────────────────────────┼────────────────────────────────────────────────┼───────────────┼─────────────┼──────────────┤\n",
            "│   6 │                        1.71467    │                           0.190011   │             2.59064    │      1.66095    │          3.91267    │              0.14586   │               0.203256   │                    2.37256     │                                     1.90075    │    0.143393   │  0.689552   │  0.540396    │\n",
            "├─────┼───────────────────────────────────┼──────────────────────────────────────┼────────────────────────┼─────────────────┼─────────────────────┼────────────────────────┼──────────────────────────┼────────────────────────────────┼────────────────────────────────────────────────┼───────────────┼─────────────┼──────────────┤\n",
            "│   7 │                       -0.440317   │                          -0.348385   │            -1.08868    │     -1.31285    │         -0.638187   │              0.14586   │               0.203256   │                   -0.811401    │                                    -0.598914   │    0.143393   │ -1.07898    │ -1.03726     │\n",
            "├─────┼───────────────────────────────────┼──────────────────────────────────────┼────────────────────────┼─────────────────┼─────────────────────┼────────────────────────┼──────────────────────────┼────────────────────────────────┼────────────────────────────────────────────────┼───────────────┼─────────────┼──────────────┤\n",
            "│   8 │                       -0.00931887 │                           1.38838    │            -0.38139    │      0.0949167  │         -0.691517   │              0.14586   │               0.203256   │                   -0.927181    │                                    -0.598914   │    0.143393   │ -0.241255   │  0.664947    │\n",
            "├─────┼───────────────────────────────────┼──────────────────────────────────────┼────────────────────────┼─────────────────┼─────────────────────┼────────────────────────┼──────────────────────────┼────────────────────────────────┼────────────────────────────────────────────────┼───────────────┼─────────────┼──────────────┤\n",
            "│   9 │                       -0.440317   │                           1.40575    │            -0.802905   │      0.0532668  │         -0.629298   │             -0.404837  │              -0.34972    │                   -0.34828     │                                    -0.482651   │   -0.503626   │ -1.14879    │ -0.082361    │\n",
            "├─────┼───────────────────────────────────┼──────────────────────────────────────┼────────────────────────┼─────────────────┼─────────────────────┼────────────────────────┼──────────────────────────┼────────────────────────────────┼────────────────────────────────────────────────┼───────────────┼─────────────┼──────────────┤\n",
            "│  10 │                       -0.00931887 │                           1.30154    │            -0.445689   │      0.236526   │         -0.380423   │             -1.50623   │              -1.45567    │                   -0.52195     │                                    -0.773309   │   -1.79766    │ -0.93936    │  0.706465    │\n",
            "├─────┼───────────────────────────────────┼──────────────────────────────────────┼────────────────────────┼─────────────────┼─────────────────────┼────────────────────────┼──────────────────────────┼────────────────────────────────┼────────────────────────────────────────────────┼───────────────┼─────────────┼──────────────┤\n",
            "│  11 │                       -0.871314   │                           1.28417    │             0.661679   │      0.236526   │         -0.238209   │              0.14586   │               0.203256   │                   -0.63773     │                                    -0.250124   │    0.143393   │  2.22538    │  0.789499    │\n",
            "├─────┼───────────────────────────────────┼──────────────────────────────────────┼────────────────────────┼─────────────────┼─────────────────────┼────────────────────────┼──────────────────────────┼────────────────────────────────┼────────────────────────────────────────────────┼───────────────┼─────────────┼──────────────┤\n",
            "│  12 │                       -0.440317   │                          -1.59886    │            -0.988657   │     -0.421542   │         -0.318204   │             -0.404837  │              -0.34972    │                   -0.985071    │                                    -0.250124   │    0.143393   │ -0.357606   │ -0.746635    │\n",
            "├─────┼───────────────────────────────────┼──────────────────────────────────────┼────────────────────────┼─────────────────┼─────────────────────┼────────────────────────┼──────────────────────────┼────────────────────────────────┼────────────────────────────────────────────────┼───────────────┼─────────────┼──────────────┤\n",
            "│  13 │                       -0.871314   │                          -0.105238   │            -0.438545   │     -0.663111   │         -0.771512   │              0.14586   │               0.203256   │                   -0.57984     │                                    -1.41276    │    0.790413   │  0.41031    │ -1.20332     │\n",
            "├─────┼───────────────────────────────────┼──────────────────────────────────────┼────────────────────────┼─────────────────┼─────────────────────┼────────────────────────┼──────────────────────────┼────────────────────────────────┼────────────────────────────────────────────────┼───────────────┼─────────────┼──────────────┤\n",
            "│  14 │                        0.421679   │                          -0.469959   │            -0.674307   │     -0.729751   │         -0.433754   │              0.14586   │               0.203256   │                   -0.57984     │                                     0.389326   │    0.143393   │ -0.00855336 │ -1.32788     │\n",
            "├─────┼───────────────────────────────────┼──────────────────────────────────────┼────────────────────────┼─────────────────┼─────────────────────┼────────────────────────┼──────────────────────────┼────────────────────────────────┼────────────────────────────────────────────────┼───────────────┼─────────────┼──────────────┤\n",
            "│  15 │                        4.30066    │                           0.27685    │             1.26895    │      0.0532668  │          0.366202   │              0.696558  │               0.756232   │                    2.37256     │                                     1.02877    │    0.790413   │  2.20211    │  0.997085    │\n",
            "├─────┼───────────────────────────────────┼──────────────────────────────────────┼────────────────────────┼─────────────────┼─────────────────────┼────────────────────────┼──────────────────────────┼────────────────────────────────┼────────────────────────────────────────────────┼───────────────┼─────────────┼──────────────┤\n",
            "│  16 │                       -0.440317   │                           0.190011   │             1.17607    │      0.328156   │          2.57941    │              0.14586   │               0.203256   │                    2.08311     │                                     0.389326   │    0.143393   │  0.0845273  │  0.166742    │\n",
            "├─────┼───────────────────────────────────┼──────────────────────────────────────┼────────────────────────┼─────────────────┼─────────────────────┼────────────────────────┼──────────────────────────┼────────────────────────────────┼────────────────────────────────────────────────┼───────────────┼─────────────┼──────────────┤\n",
            "│  17 │                       -0.440317   │                           0.0858055  │             1.43326    │      1.33608    │          1.54836    │              0.696558  │               0.756232   │                    1.79366     │                                     1.4357     │    0.790413   │ -0.194715   │  0.457362    │\n",
            "├─────┼───────────────────────────────────┼──────────────────────────────────────┼────────────────────────┼─────────────────┼─────────────────────┼────────────────────────┼──────────────────────────┼────────────────────────────────┼────────────────────────────────────────────────┼───────────────┼─────────────┼──────────────┤\n",
            "│  18 │                        0.421679   │                           1.09313    │             0.575947   │     -0.0300329  │          0.161769   │              0.14586   │               0.203256   │                    0.867414    │                                    -0.0757284  │    0.143393   │ -0.729929   │ -1.12029     │\n",
            "├─────┼───────────────────────────────────┼──────────────────────────────────────┼────────────────────────┼─────────────────┼─────────────────────┼────────────────────────┼──────────────────────────┼────────────────────────────────┼────────────────────────────────────────────────┼───────────────┼─────────────┼──────────────┤\n",
            "│  19 │                       -0.00931887 │                          -0.539429   │            -0.545709   │     -0.171643   │         -0.629298   │              0.14586   │               0.203256   │                   -0.811401    │                                    -0.366387   │    0.143393   │ -0.753199   │ -0.705118    │\n",
            "├─────┼───────────────────────────────────┼──────────────────────────────────────┼────────────────────────┼─────────────────┼─────────────────────┼────────────────────────┼──────────────────────────┼────────────────────────────────┼────────────────────────────────────────────────┼───────────────┼─────────────┼──────────────┤\n",
            "│  20 │                       -0.440317   │                          -0.487327   │            -0.4314     │     -0.438202   │         -0.558191   │              0.14586   │               0.203256   │                   -0.695621    │                                    -0.715178   │    0.143393   │ -0.473957   │ -0.871187    │\n",
            "├─────┼───────────────────────────────────┼──────────────────────────────────────┼────────────────────────┼─────────────────┼─────────────────────┼────────────────────────┼──────────────────────────┼────────────────────────────────┼────────────────────────────────────────────────┼───────────────┼─────────────┼──────────────┤\n",
            "│  21 │                        0.421679   │                          -0.192077   │             1.4547     │      3.43524    │          0.250653   │              0.14586   │               0.203256   │                    0.577963    │                                     2.24954    │    0.143393   │  0.224148   │  2.11805     │\n",
            "├─────┼───────────────────────────────────┼──────────────────────────────────────┼────────────────────────┼─────────────────┼─────────────────────┼────────────────────────┼──────────────────────────┼────────────────────────────────┼────────────────────────────────────────────────┼───────────────┼─────────────┼──────────────┤\n",
            "│  22 │                        0.421679   │                          -1.77253    │            -0.00274187 │     -0.288262   │         -0.291539   │              0.696558  │               0.756232   │                    0.0569514   │                                    -0.482651   │    0.790413   │  0.712822   │  0.125225    │\n",
            "├─────┼───────────────────────────────────┼──────────────────────────────────────┼────────────────────────┼─────────────────┼─────────────────────┼────────────────────────┼──────────────────────────┼────────────────────────────────┼────────────────────────────────────────────────┼───────────────┼─────────────┼──────────────┤\n",
            "│  23 │                       -0.871314   │                          -0.24418    │             0.383051   │      0.503086   │          0.5973     │              0.14586   │               0.203256   │                   -0.116719    │                                     0.331194   │    0.143393   │  1.22477    │ -0.53905     │\n",
            "├─────┼───────────────────────────────────┼──────────────────────────────────────┼────────────────────────┼─────────────────┼─────────────────────┼────────────────────────┼──────────────────────────┼────────────────────────────────┼────────────────────────────────────────────────┼───────────────┼─────────────┼──────────────┤\n",
            "│  24 │                       -0.871314   │                          -0.0357679  │            -0.517132   │      0.0532668  │         -0.442642   │              0.14586   │               0.203256   │                   -0.232499    │                                    -0.947705   │    0.143393   │ -0.753199   │ -0.414498    │\n",
            "├─────┼───────────────────────────────────┼──────────────────────────────────────┼────────────────────────┼─────────────────┼─────────────────────┼────────────────────────┼──────────────────────────┼────────────────────────────────┼────────────────────────────────────────────────┼───────────────┼─────────────┼──────────────┤\n",
            "│  25 │                       -0.440317   │                          -0.296283   │             0.0472683  │     -0.163313   │          0.206211   │              0.14586   │               0.203256   │                   -0.63773     │                                    -0.308255   │    0.143393   │ -0.729929   │ -1.53546     │\n",
            "├─────┼───────────────────────────────────┼──────────────────────────────────────┼────────────────────────┼─────────────────┼─────────────────────┼────────────────────────┼──────────────────────────┼────────────────────────────────┼────────────────────────────────────────────────┼───────────────┼─────────────┼──────────────┤\n",
            "│  26 │                       -0.440317   │                          -0.331018   │            -1.1887     │     -1.37116    │         -1.00261    │              0.14586   │               0.203256   │                   -0.695621    │                                    -1.06397    │    0.143393   │ -0.84628    │ -1.49394     │\n",
            "├─────┼───────────────────────────────────┼──────────────────────────────────────┼────────────────────────┼─────────────────┼─────────────────────┼────────────────────────┼──────────────────────────┼────────────────────────────────┼────────────────────────────────────────────────┼───────────────┼─────────────┼──────────────┤\n",
            "│  27 │                       -0.00931887 │                           0.0858055  │             0.311608   │      0.336486   │          0.410644   │              0.14586   │               0.203256   │                    2.43045     │                                     0.447457   │    0.143393   │ -0.613578   │  2.40867     │\n",
            "├─────┼───────────────────────────────────┼──────────────────────────────────────┼────────────────────────┼─────────────────┼─────────────────────┼────────────────────────┼──────────────────────────┼────────────────────────────────┼────────────────────────────────────────────────┼───────────────┼─────────────┼──────────────┤\n",
            "│  28 │                       -0.00931887 │                           2.4478     │             4.16239    │      3.08538    │          2.77496    │              0.696558  │               0.756232   │                   -0.811401    │                                     1.95888    │    0.790413   │  0.48012    │  0.872533    │\n",
            "├─────┼───────────────────────────────────┼──────────────────────────────────────┼────────────────────────┼─────────────────┼─────────────────────┼────────────────────────┼──────────────────────────┼────────────────────────────────┼────────────────────────────────────────────────┼───────────────┼─────────────┼──────────────┤\n",
            "│  29 │                       -0.440317   │                          -0.157341   │             0.261598   │     -0.446532   │          0.0817732  │              0.14586   │              -0.34972    │                    0.809523    │                                     0.679984   │   -0.503626   │  0.992064   │  0.166742    │\n",
            "├─────┼───────────────────────────────────┼──────────────────────────────────────┼────────────────────────┼─────────────────┼─────────────────────┼────────────────────────┼──────────────────────────┼────────────────────────────────┼────────────────────────────────────────────────┼───────────────┼─────────────┼──────────────┤\n",
            "│  30 │                        1.28367    │                          -0.157341   │            -0.338524   │     -0.313252   │          0.09955    │              0.696558  │               0.756232   │                   -0.116719    │                                    -0.540782   │    0.790413   │ -0.148174   │ -0.580567    │\n",
            "├─────┼───────────────────────────────────┼──────────────────────────────────────┼────────────────────────┼─────────────────┼─────────────────────┼────────────────────────┼──────────────────────────┼────────────────────────────────┼────────────────────────────────────────────────┼───────────────┼─────────────┼──────────────┤\n",
            "│  31 │                       -0.871314   │                          -0.469959   │            -1.11011    │     -0.679771   │         -0.513749   │              0.14586   │               0.203256   │                   -0.811401    │                                    -1.41276    │    0.143393   │ -0.823009   │ -1.16181     │\n",
            "├─────┼───────────────────────────────────┼──────────────────────────────────────┼────────────────────────┼─────────────────┼─────────────────────┼────────────────────────┼──────────────────────────┼────────────────────────────────┼────────────────────────────────────────────────┼───────────────┼─────────────┼──────────────┤\n",
            "│  32 │                       -0.871314   │                          -0.122606   │            -0.538565   │     -0.588142   │          0.0373312  │              0.14586   │               0.203256   │                    0.520073    │                                    -0.598914   │    0.143393   │ -0.729929   │  0.664947    │\n",
            "├─────┼───────────────────────────────────┼──────────────────────────────────────┼────────────────────────┼─────────────────┼─────────────────────┼────────────────────────┼──────────────────────────┼────────────────────────────────┼────────────────────────────────────────────────┼───────────────┼─────────────┼──────────────┤\n",
            "│  33 │                        0.852677   │                           0.137908   │            -0.638585   │     -0.846371   │         -1.0115     │             -0.955535  │              -0.902696   │                   -0.927181    │                                     0.273062   │   -0.503626   │ -0.148174   │ -0.580567    │\n",
            "├─────┼───────────────────────────────────┼──────────────────────────────────────┼────────────────────────┼─────────────────┼─────────────────────┼────────────────────────┼──────────────────────────┼────────────────────────────────┼────────────────────────────────────────────────┼───────────────┼─────────────┼──────────────┤\n",
            "│  34 │                        0.421679   │                          -0.192077   │            -0.367102   │      0.0865868  │         -0.211544   │              0.14586   │               0.203256   │                    0.172732    │                                    -0.0175966  │    0.143393   │ -0.753199   │  0.872533    │\n",
            "├─────┼───────────────────────────────────┼──────────────────────────────────────┼────────────────────────┼─────────────────┼─────────────────────┼────────────────────────┼──────────────────────────┼────────────────────────────────┼────────────────────────────────────────────────┼───────────────┼─────────────┼──────────────┤\n",
            "│  35 │                        0.421679   │                          -0.122606   │             0.275886   │     -0.98798    │         -0.967057   │              0.14586   │               0.203256   │                   -0.985071    │                                     0.796248   │    0.143393   │  3.01657    │ -0.663601    │\n",
            "├─────┼───────────────────────────────────┼──────────────────────────────────────┼────────────────────────┼─────────────────┼─────────────────────┼────────────────────────┼──────────────────────────┼────────────────────────────────┼────────────────────────────────────────────────┼───────────────┼─────────────┼──────────────┤\n",
            "│  36 │                       -0.440317   │                          -0.400488   │            -1.06724    │     -1.07128    │         -0.647075   │             -0.404837  │              -0.34972    │                   -0.116719    │                                    -1.23836    │   -0.503626   │ -1.00917    │ -0.622084    │\n",
            "├─────┼───────────────────────────────────┼──────────────────────────────────────┼────────────────────────┼─────────────────┼─────────────────────┼────────────────────────┼──────────────────────────┼────────────────────────────────┼────────────────────────────────────────────────┼───────────────┼─────────────┼──────────────┤\n",
            "│  37 │                       -0.440317   │                           1.64889    │            -0.324236   │     -0.546492   │         -0.771512   │             -0.955535  │              -0.902696   │                   -0.695621    │                                     0.273062   │   -1.15065    │ -0.194715   │  0.291293    │\n",
            "├─────┼───────────────────────────────────┼──────────────────────────────────────┼────────────────────────┼─────────────────┼─────────────────────┼────────────────────────┼──────────────────────────┼────────────────────────────────┼────────────────────────────────────────────────┼───────────────┼─────────────┼──────────────┤\n",
            "│  38 │                       -0.440317   │                          -1.89411    │            -0.831482   │     -1.27953    │         -0.0959946  │              0.14586   │               0.203256   │                   -0.57984     │                                    -0.657046   │    0.143393   │ -0.613578   │ -1.28636     │\n",
            "├─────┼───────────────────────────────────┼──────────────────────────────────────┼────────────────────────┼─────────────────┼─────────────────────┼────────────────────────┼──────────────────────────┼────────────────────────────────┼────────────────────────────────────────────────┼───────────────┼─────────────┼──────────────┤\n",
            "│  39 │                       -0.871314   │                           0.224747   │             0.554514   │     -0.629791   │          0.161769   │              0.14586   │               0.203256   │                   -0.34828     │                                    -0.250124   │    0.143393   │  1.4342     │  0.374328    │\n",
            "├─────┼───────────────────────────────────┼──────────────────────────────────────┼────────────────────────┼─────────────────┼─────────────────────┼────────────────────────┼──────────────────────────┼────────────────────────────────┼────────────────────────────────────────────────┼───────────────┼─────────────┼──────────────┤\n",
            "│  40 │                        0.421679   │                           1.64889    │            -0.0956179  │      0.444776   │         -0.647075   │              0.14586   │               0.203256   │                   -0.40617     │                                    -0.250124   │    0.143393   │ -0.0783639  │  0.415845    │\n",
            "├─────┼───────────────────────────────────┼──────────────────────────────────────┼────────────────────────┼─────────────────┼─────────────────────┼────────────────────────┼──────────────────────────┼────────────────────────────────┼────────────────────────────────────────────────┼───────────────┼─────────────┼──────────────┤\n",
            "│  41 │                       -2.16431    │                          -1.35571    │            -1.93885    │     -1.79599    │         -1.38481    │             -5.91181   │              -5.87948    │                   -1.3903      │                                    -1.99408    │   -5.67978    │ -1.35822    │ -1.49394     │\n",
            "├─────┼───────────────────────────────────┼──────────────────────────────────────┼────────────────────────┼─────────────────┼─────────────────────┼────────────────────────┼──────────────────────────┼────────────────────────────────┼────────────────────────────────────────────────┼───────────────┼─────────────┼──────────────┤\n",
            "│  42 │                        1.28367    │                          -0.747841   │            -0.33138    │      0.0199469  │         -0.17599    │              0.14586   │               0.203256   │                   -0.40617     │                                     0.621853   │    0.143393   │  0.363769   │ -0.746635    │\n",
            "├─────┼───────────────────────────────────┼──────────────────────────────────────┼────────────────────────┼─────────────────┼─────────────────────┼────────────────────────┼──────────────────────────┼────────────────────────────────┼────────────────────────────────────────────────┼───────────────┼─────────────┼──────────────┤\n",
            "│  43 │                       -0.871314   │                          -1.00836    │            -0.64573    │     -0.546492   │         -0.84262    │             -1.50623   │              -1.45567    │                   -0.985071    │                                    -0.13386    │   -1.15065    │  0.619741   │ -1.41091     │\n",
            "├─────┼───────────────────────────────────┼──────────────────────────────────────┼────────────────────────┼─────────────────┼─────────────────────┼────────────────────────┼──────────────────────────┼────────────────────────────────┼────────────────────────────────────────────────┼───────────────┼─────────────┼──────────────┤\n",
            "│  44 │                       -0.00931887 │                           0.172644   │            -0.817193   │     -0.013373   │         -0.735959   │              0.14586   │               0.203256   │                   -0.34828     │                                    -0.191992   │    0.143393   │ -0.776469   │ -0.954221    │\n",
            "├─────┼───────────────────────────────────┼──────────────────────────────────────┼────────────────────────┼─────────────────┼─────────────────────┼────────────────────────┼──────────────────────────┼────────────────────────────────┼────────────────────────────────────────────────┼───────────────┼─────────────┼──────────────┤\n",
            "│  45 │                        0.421679   │                          -1.39044    │            -0.167061   │      0.703005   │         -0.762624   │              0.14586   │               0.203256   │                   -0.40617     │                                     0.273062   │    0.143393   │  0.293959   │  0.789499    │\n",
            "├─────┼───────────────────────────────────┼──────────────────────────────────────┼────────────────────────┼─────────────────┼─────────────────────┼────────────────────────┼──────────────────────────┼────────────────────────────────┼────────────────────────────────────────────────┼───────────────┼─────────────┼──────────────┤\n",
            "│  46 │                       -0.871314   │                           0.0337026  │             0.168722   │     -0.271602   │          1.22838    │              0.14586   │               0.203256   │                    1.44632     │                                     0.156799   │    0.143393   │ -0.334336   │  1.37074     │\n",
            "├─────┼───────────────────────────────────┼──────────────────────────────────────┼────────────────────────┼─────────────────┼─────────────────────┼────────────────────────┼──────────────────────────┼────────────────────────────────┼────────────────────────────────────────────────┼───────────────┼─────────────┼──────────────┤\n",
            "│  47 │                        1.71467    │                           1.14523    │             0.404484   │      0.852945   │          0.268429   │              0.14586   │              -0.34972    │                    0.693743    │                                     1.14504    │   -0.503626   │  0.363769   │  1.45377     │\n",
            "├─────┼───────────────────────────────────┼──────────────────────────────────────┼────────────────────────┼─────────────────┼─────────────────────┼────────────────────────┼──────────────────────────┼────────────────────────────────┼────────────────────────────────────────────────┼───────────────┼─────────────┼──────────────┤\n",
            "│  48 │                       -0.440317   │                          -0.122606   │            -0.674307   │      0.219866   │         -0.12266    │              0.14586   │               0.203256   │                   -0.695621    │                                    -0.947705   │    0.790413   │ -1.07898    │ -0.622084    │\n",
            "├─────┼───────────────────────────────────┼──────────────────────────────────────┼────────────────────────┼─────────────────┼─────────────────────┼────────────────────────┼──────────────────────────┼────────────────────────────────┼────────────────────────────────────────────────┼───────────────┼─────────────┼──────────────┤\n",
            "│  49 │                       -0.440317   │                          -0.661003   │            -0.945791   │     -0.621461   │         -0.931504   │              0.14586   │               0.203256   │                   -0.811401    │                                    -0.715178   │    0.143393   │ -0.89282    │ -1.03726     │\n",
            "├─────┼───────────────────────────────────┼──────────────────────────────────────┼────────────────────────┼─────────────────┼─────────────────────┼────────────────────────┼──────────────────────────┼────────────────────────────────┼────────────────────────────────────────────────┼───────────────┼─────────────┼──────────────┤\n",
            "│  50 │                       -0.440317   │                          -0.139974   │             0.518793   │      1.38606    │          0.828398   │              0.696558  │               0.756232   │                   -0.116719    │                                    -0.13386    │    0.790413   │ -0.124904   │  0.664947    │\n",
            "├─────┼───────────────────────────────────┼──────────────────────────────────────┼────────────────────────┼─────────────────┼─────────────────────┼────────────────────────┼──────────────────────────┼────────────────────────────────┼────────────────────────────────────────────────┼───────────────┼─────────────┼──────────────┤\n",
            "│  51 │                       -0.00931887 │                           1.42311    │            -0.0170305  │     -0.288262   │         -0.113771   │              0.14586   │               0.203256   │                   -0.40617     │                                     0.0405351  │    0.143393   │ -0.217985   │  0.91405     │\n",
            "├─────┼───────────────────────────────────┼──────────────────────────────────────┼────────────────────────┼─────────────────┼─────────────────────┼────────────────────────┼──────────────────────────┼────────────────────────────────┼────────────────────────────────────────────────┼───────────────┼─────────────┼──────────────┤\n",
            "│  52 │                        2.57667    │                           0.27685    │             0.790277   │      0.986224   │          0.455086   │              0.696558  │               0.756232   │                    0.751633    │                                     0.621853   │    0.790413   │  2.31846    │  0.291293    │\n",
            "├─────┼───────────────────────────────────┼──────────────────────────────────────┼────────────────────────┼─────────────────┼─────────────────────┼────────────────────────┼──────────────────────────┼────────────────────────────────┼────────────────────────────────────────────────┼───────────────┼─────────────┼──────────────┤\n",
            "│  53 │                       -0.871314   │                           0.328952   │            -0.802905   │     -1.13792    │         -0.567079   │              0.696558  │               0.756232   │                   -0.57984     │                                    -1.23836    │    0.790413   │ -0.287795   │ -0.746635    │\n",
            "├─────┼───────────────────────────────────┼──────────────────────────────────────┼────────────────────────┼─────────────────┼─────────────────────┼────────────────────────┼──────────────────────────┼────────────────────────────────┼────────────────────────────────────────────────┼───────────────┼─────────────┼──────────────┤\n",
            "│  54 │                        1.28367    │                          -0.31365    │            -0.74575    │     -0.446532   │         -0.655963   │              0.14586   │               0.203256   │                   -0.34828     │                                    -0.598914   │    0.143393   │  0.0147168  │ -0.53905     │\n",
            "├─────┼───────────────────────────────────┼──────────────────────────────────────┼────────────────────────┼─────────────────┼─────────────────────┼────────────────────────┼──────────────────────────┼────────────────────────────────┼────────────────────────────────────────────────┼───────────────┼─────────────┼──────────────┤\n",
            "│  55 │                       -0.00931887 │                          -0.661003   │            -1.18155    │     -1.24621    │         -0.540414   │              0.14586   │               0.203256   │                    0.230622    │                                    -1.18023    │    0.143393   │ -0.357606   │ -0.788152    │\n",
            "├─────┼───────────────────────────────────┼──────────────────────────────────────┼────────────────────────┼─────────────────┼─────────────────────┼────────────────────────┼──────────────────────────┼────────────────────────────────┼────────────────────────────────────────────────┼───────────────┼─────────────┼──────────────┤\n",
            "│  56 │                        0.421679   │                          -0.157341   │             0.404484   │      0.869605   │          0.277318   │              0.14586   │               0.203256   │                   -0.46406     │                                     0.679984   │    0.143393   │ -0.0783639  │ -0.372981    │\n",
            "├─────┼───────────────────────────────────┼──────────────────────────────────────┼────────────────────────┼─────────────────┼─────────────────────┼────────────────────────┼──────────────────────────┼────────────────────────────────┼────────────────────────────────────────────────┼───────────────┼─────────────┼──────────────┤\n",
            "│  57 │                       -0.440317   │                          -0.331018   │             0.111567   │      1.63596    │         -0.113771   │              0.14586   │               0.203256   │                   -0.29039     │                                     1.08691    │    0.143393   │ -0.497227   │ -0.53905     │\n",
            "├─────┼───────────────────────────────────┼──────────────────────────────────────┼────────────────────────┼─────────────────┼─────────────────────┼────────────────────────┼──────────────────────────┼────────────────────────────────┼────────────────────────────────────────────────┼───────────────┼─────────────┼──────────────┤\n",
            "│  58 │                       -0.00931887 │                           0.0858055  │            -1.0601     │     -0.854701   │         -0.300428   │              0.696558  │               0.756232   │                    1.15686     │                                    -0.424519   │    0.790413   │ -0.776469   │ -0.995738    │\n",
            "├─────┼───────────────────────────────────┼──────────────────────────────────────┼────────────────────────┼─────────────────┼─────────────────────┼────────────────────────┼──────────────────────────┼────────────────────────────────┼────────────────────────────────────────────────┼───────────────┼─────────────┼──────────────┤\n",
            "│  59 │                       -0.440317   │                           1.1105     │            -0.00988618 │     -0.304922   │         -0.309316   │              0.14586   │               0.203256   │                   -0.753511    │                                    -0.250124   │    0.143393   │ -0.311066   │  1.49529     │\n",
            "├─────┼───────────────────────────────────┼──────────────────────────────────────┼────────────────────────┼─────────────────┼─────────────────────┼────────────────────────┼──────────────────────────┼────────────────────────────────┼────────────────────────────────────────────────┼───────────────┼─────────────┼──────────────┤\n",
            "│  60 │                        0.421679   │                           1.23207    │            -0.445689   │      0.00328696 │         -1.26926    │              0.14586   │               0.203256   │                   -1.33241     │                                     0.679984   │    0.790413   │  0.107798   │  0.457362    │\n",
            "├─────┼───────────────────────────────────┼──────────────────────────────────────┼────────────────────────┼─────────────────┼─────────────────────┼────────────────────────┼──────────────────────────┼────────────────────────────────┼────────────────────────────────────────────────┼───────────────┼─────────────┼──────────────┤\n",
            "│  61 │                        1.28367    │                          -1.00836    │            -0.295659   │     -0.771401   │         -0.0959946  │              0.696558  │               0.756232   │                    0.230622    │                                    -0.308255   │    0.790413   │ -0.357606   │  0.125225    │\n",
            "├─────┼───────────────────────────────────┼──────────────────────────────────────┼────────────────────────┼─────────────────┼─────────────────────┼────────────────────────┼──────────────────────────┼────────────────────────────────┼────────────────────────────────────────────────┼───────────────┼─────────────┼──────────────┤\n",
            "│  62 │                       -0.00931887 │                           1.17997    │             1.26895    │      1.41938    │         -0.371535   │              0.14586   │               0.203256   │                   -0.0588289   │                                     1.2613     │    0.143393   │  0.596471   │  0.91405     │\n",
            "├─────┼───────────────────────────────────┼──────────────────────────────────────┼────────────────────────┼─────────────────┼─────────────────────┼────────────────────────┼──────────────────────────┼────────────────────────────────┼────────────────────────────────────────────────┼───────────────┼─────────────┼──────────────┤\n",
            "│  63 │                        0.421679   │                          -0.417856   │            -0.867203   │     -0.771401   │         -0.655963   │              0.14586   │               0.203256   │                   -0.52195     │                                    -0.366387   │    0.143393   │ -0.96263    │ -0.705118    │\n",
            "├─────┼───────────────────────────────────┼──────────────────────────────────────┼────────────────────────┼─────────────────┼─────────────────────┼────────────────────────┼──────────────────────────┼────────────────────────────────┼────────────────────────────────────────────────┼───────────────┼─────────────┼──────────────┤\n",
            "│  64 │                       -0.440317   │                          -0.365753   │            -0.424256   │     -0.946331   │          0.695072   │              0.14586   │               0.203256   │                   -0.63773     │                                    -1.00584    │    0.143393   │ -0.567037   │ -0.24843     │\n",
            "├─────┼───────────────────────────────────┼──────────────────────────────────────┼────────────────────────┼─────────────────┼─────────────────────┼────────────────────────┼──────────────────────────┼────────────────────────────────┼────────────────────────────────────────────────┼───────────────┼─────────────┼──────────────┤\n",
            "│  65 │                       -0.871314   │                          -0.522062   │             3.93377    │      4.13496    │          3.53047    │              0.14586   │               0.203256   │                    1.21475     │                                    -0.482651   │    0.143393   │  2.78387    │  1.12164     │\n",
            "├─────┼───────────────────────────────────┼──────────────────────────────────────┼────────────────────────┼─────────────────┼─────────────────────┼────────────────────────┼──────────────────────────┼────────────────────────────────┼────────────────────────────────────────────────┼───────────────┼─────────────┼──────────────┤\n",
            "│  66 │                       -0.00931887 │                           0.207379   │             2.16913    │      3.19367    │          1.15727    │             -0.404837  │              -0.34972    │                   -0.52195     │                                     2.65646    │   -0.503626   │  2.85368    │  0.166742    │\n",
            "├─────┼───────────────────────────────────┼──────────────────────────────────────┼────────────────────────┼─────────────────┼─────────────────────┼────────────────────────┼──────────────────────────┼────────────────────────────────┼────────────────────────────────────────────────┼───────────────┼─────────────┼──────────────┤\n",
            "│  67 │                       -0.440317   │                          -1.51202    │            -0.917214   │      0.603045   │         -0.371535   │              0.14586   │               0.203256   │                   -0.695621    │                                     0.0405351  │    0.143393   │ -1.47457    │  0.000673251 │\n",
            "├─────┼───────────────────────────────────┼──────────────────────────────────────┼────────────────────────┼─────────────────┼─────────────────────┼────────────────────────┼──────────────────────────┼────────────────────────────────┼────────────────────────────────────────────────┼───────────────┼─────────────┼──────────────┤\n",
            "│  68 │                       -0.871314   │                          -0.157341   │             0.783132   │      0.194876   │          1.90389    │              0.14586   │               0.203256   │                    0.288512    │                                    -0.947705   │    0.143393   │  1.06187    │  0.457362    │\n",
            "├─────┼───────────────────────────────────┼──────────────────────────────────────┼────────────────────────┼─────────────────┼─────────────────────┼────────────────────────┼──────────────────────────┼────────────────────────────────┼────────────────────────────────────────────────┼───────────────┼─────────────┼──────────────┤\n",
            "│  69 │                        0.421679   │                           1.2668     │             1.00461    │      1.57765    │          0.366202   │              0.696558  │               0.203256   │                    0.172732    │                                     0.505589   │    0.143393   │  0.293959   │  1.08012     │\n",
            "├─────┼───────────────────────────────────┼──────────────────────────────────────┼────────────────────────┼─────────────────┼─────────────────────┼────────────────────────┼──────────────────────────┼────────────────────────────────┼────────────────────────────────────────────────┼───────────────┼─────────────┼──────────────┤\n",
            "│  70 │                       -0.440317   │                          -0.278915   │            -0.152772   │     -0.0383629  │         -0.815954   │             -0.404837  │              -0.34972    │                   -0.63773     │                                    -0.831441   │    0.143393   │  0.38704    │  1.32922     │\n",
            "├─────┼───────────────────────────────────┼──────────────────────────────────────┼────────────────────────┼─────────────────┼─────────────────────┼────────────────────────┼──────────────────────────┼────────────────────────────────┼────────────────────────────────────────────────┼───────────────┼─────────────┼──────────────┤\n",
            "│  71 │                       -0.00931887 │                          -0.24418    │             0.204443   │     -0.521502   │          0.259541   │              0.14586   │               0.203256   │                    1.33053     │                                     1.20317    │    0.143393   │ -0.93936    │  0.581913    │\n",
            "├─────┼───────────────────────────────────┼──────────────────────────────────────┼────────────────────────┼─────────────────┼─────────────────────┼────────────────────────┼──────────────────────────┼────────────────────────────────┼────────────────────────────────────────────────┼───────────────┼─────────────┼──────────────┤\n",
            "│  72 │                       -0.871314   │                           1.71836    │             0.618813   │      1.90252    │         -0.0515527  │              0.14586   │              -0.34972    │                   -0.174609    │                                    -0.0175966  │   -0.503626   │  0.177608   │  0.415845    │\n",
            "├─────┼───────────────────────────────────┼──────────────────────────────────────┼────────────────────────┼─────────────────┼─────────────────────┼────────────────────────┼──────────────────────────┼────────────────────────────────┼────────────────────────────────────────────────┼───────────────┼─────────────┼──────────────┤\n",
            "│  73 │                        1.71467    │                          -1.26887    │             1.09034    │      0.636365   │          0.757291   │              0.696558  │               0.756232   │                    0.983194    │                                     1.61009    │    0.790413   │  1.71344    │ -0.663601    │\n",
            "├─────┼───────────────────────────────────┼──────────────────────────────────────┼────────────────────────┼─────────────────┼─────────────────────┼────────────────────────┼──────────────────────────┼────────────────────────────────┼────────────────────────────────────────────────┼───────────────┼─────────────┼──────────────┤\n",
            "│  74 │                       -1.30231    │                          -0.0531356  │            -0.931502   │     -0.363232   │         -0.691517   │              0.696558  │               0.756232   │                   -0.000938759 │                                    -1.35463    │    0.790413   │ -0.636848   │ -0.912704    │\n",
            "├─────┼───────────────────────────────────┼──────────────────────────────────────┼────────────────────────┼─────────────────┼─────────────────────┼────────────────────────┼──────────────────────────┼────────────────────────────────┼────────────────────────────────────────────────┼───────────────┼─────────────┼──────────────┤\n",
            "│  75 │                        0.421679   │                          -0.574165   │             0.168722   │     -1.17957    │         -0.478196   │              0.14586   │               0.203256   │                   -0.40617     │                                     0.389326   │    0.143393   │  0.41031    │ -0.456015    │\n",
            "├─────┼───────────────────────────────────┼──────────────────────────────────────┼────────────────────────┼─────────────────┼─────────────────────┼────────────────────────┼──────────────────────────┼────────────────────────────────┼────────────────────────────────────────────────┼───────────────┼─────────────┼──────────────┤\n",
            "│  76 │                       -0.871314   │                           0.0510702  │            -1.28872    │     -1.69603    │         -0.913727   │              0.696558  │               0.756232   │                   -0.63773     │                                    -1.41276    │    1.43743    │ -1.19533    │ -1.6185      │\n",
            "├─────┼───────────────────────────────────┼──────────────────────────────────────┼────────────────────────┼─────────────────┼─────────────────────┼────────────────────────┼──────────────────────────┼────────────────────────────────┼────────────────────────────────────────────────┼───────────────┼─────────────┼──────────────┤\n",
            "│  77 │                       -0.440317   │                           1.28417    │             0.125856   │      0.478096   │          1.28171    │              0.14586   │               0.203256   │                    4.51449     │                                    -0.250124   │    0.143393   │ -0.96263    │  0.540396    │\n",
            "├─────┼───────────────────────────────────┼──────────────────────────────────────┼────────────────────────┼─────────────────┼─────────────────────┼────────────────────────┼──────────────────────────┼────────────────────────────────┼────────────────────────────────────────────────┼───────────────┼─────────────┼──────────────┤\n",
            "│  78 │                       -0.440317   │                           1.14523    │            -0.288514   │     -0.396552   │         -0.327093   │              0.14586   │               0.203256   │                    0.0569514   │                                    -0.366387   │    0.143393   │ -0.613578   │  0.664947    │\n",
            "├─────┼───────────────────────────────────┼──────────────────────────────────────┼────────────────────────┼─────────────────┼─────────────────────┼────────────────────────┼──────────────────────────┼────────────────────────────────┼────────────────────────────────────────────────┼───────────────┼─────────────┼──────────────┤\n",
            "│  79 │                       -0.440317   │                          -0.296283   │             0.847431   │      0.478096   │         -0.12266    │              0.14586   │               0.203256   │                   -0.869291    │                                     0.85438    │    0.143393   │  1.64363    │ -0.912704    │\n",
            "├─────┼───────────────────────────────────┼──────────────────────────────────────┼────────────────────────┼─────────────────┼─────────────────────┼────────────────────────┼──────────────────────────┼────────────────────────────────┼────────────────────────────────────────────────┼───────────────┼─────────────┼──────────────┤\n",
            "│  80 │                       -0.440317   │                          -0.90415    │            -0.717173   │     -0.338242   │         -0.718182   │             -0.955535  │              -0.902696   │                   -0.63773     │                                    -0.947705   │   -1.15065    │ -0.96263    │  1.41226     │\n",
            "├─────┼───────────────────────────────────┼──────────────────────────────────────┼────────────────────────┼─────────────────┼─────────────────────┼────────────────────────┼──────────────────────────┼────────────────────────────────┼────────────────────────────────────────────────┼───────────────┼─────────────┼──────────────┤\n",
            "│  81 │                       -0.00931887 │                           0.120541   │            -1.07439    │     -0.929671   │         -1.34926    │              0.14586   │               0.203256   │                   -1.3903      │                                    -1.06397    │    0.143393   │ -0.729929   │  0.0421904   │\n",
            "├─────┼───────────────────────────────────┼──────────────────────────────────────┼────────────────────────┼─────────────────┼─────────────────────┼────────────────────────┼──────────────────────────┼────────────────────────────────┼────────────────────────────────────────────────┼───────────────┼─────────────┼──────────────┤\n",
            "│  82 │                        0.852677   │                           2.43044    │             3.67658    │      2.54393    │          2.16166    │              0.14586   │               0.203256   │                    3.99348     │                                     2.07515    │    0.143393   │  0.50339    │  1.49529     │\n",
            "├─────┼───────────────────────────────────┼──────────────────────────────────────┼────────────────────────┼─────────────────┼─────────────────────┼────────────────────────┼──────────────────────────┼────────────────────────────────┼────────────────────────────────────────────────┼───────────────┼─────────────┼──────────────┤\n",
            "│  83 │                        0.421679   │                          -0.886782   │            -0.395679   │     -0.613131   │          0.881729   │              0.14586   │               0.203256   │                    1.33053     │                                     0.0405351  │    0.143393   │ -0.357606   │ -0.165395    │\n",
            "├─────┼───────────────────────────────────┼──────────────────────────────────────┼────────────────────────┼─────────────────┼─────────────────────┼────────────────────────┼──────────────────────────┼────────────────────────────────┼────────────────────────────────────────────────┼───────────────┼─────────────┼──────────────┤\n",
            "│  84 │                       -0.440317   │                           1.2147     │             0.225876   │      0.836285   │         -0.433754   │              0.14586   │               0.203256   │                   -0.40617     │                                    -0.366387   │    0.143393   │  1.24804    │  0.291293    │\n",
            "├─────┼───────────────────────────────────┼──────────────────────────────────────┼────────────────────────┼─────────────────┼─────────────────────┼────────────────────────┼──────────────────────────┼────────────────────────────────┼────────────────────────────────────────────────┼───────────────┼─────────────┼──────────────┤\n",
            "│  85 │                       -0.440317   │                           2.01361    │             0.661679   │     -0.513172   │          0.330648   │              0.14586   │               0.203256   │                    0.693743    │                                     1.90075    │    0.143393   │ -0.613578   │  0.249776    │\n",
            "├─────┼───────────────────────────────────┼──────────────────────────────────────┼────────────────────────┼─────────────────┼─────────────────────┼────────────────────────┼──────────────────────────┼────────────────────────────────┼────────────────────────────────────────────────┼───────────────┼─────────────┼──────────────┤\n",
            "│  86 │                       -0.871314   │                          -0.643635   │            -0.395679   │     -0.596471   │         -0.282651   │             -0.404837  │              -0.34972    │                   -0.174609    │                                    -0.366387   │   -0.503626   │  0.549931   │  0.166742    │\n",
            "├─────┼───────────────────────────────────┼──────────────────────────────────────┼────────────────────────┼─────────────────┼─────────────────────┼────────────────────────┼──────────────────────────┼────────────────────────────────┼────────────────────────────────────────────────┼───────────────┼─────────────┼──────────────┤\n",
            "│  87 │                       -0.440317   │                          -0.348385   │            -0.474266   │      0.144897   │         -0.149325   │              0.14586   │               0.203256   │                   -0.46406     │                                    -0.13386    │    0.143393   │  0.131068   │ -1.16181     │\n",
            "├─────┼───────────────────────────────────┼──────────────────────────────────────┼────────────────────────┼─────────────────┼─────────────────────┼────────────────────────┼──────────────────────────┼────────────────────────────────┼────────────────────────────────────────────────┼───────────────┼─────────────┼──────────────┤\n",
            "│  88 │                       -0.440317   │                          -1.12993    │            -0.588575   │     -0.146653   │         -0.869285   │              0.14586   │               0.203256   │                   -0.927181    │                                    -0.889573   │    0.143393   │  0.945524   │ -1.28636     │\n",
            "├─────┼───────────────────────────────────┼──────────────────────────────────────┼────────────────────────┼─────────────────┼─────────────────────┼────────────────────────┼──────────────────────────┼────────────────────────────────┼────────────────────────────────────────────────┼───────────────┼─────────────┼──────────────┤\n",
            "│  89 │                       -0.871314   │                          -0.6089     │            -0.495699   │     -0.371562   │         -0.67374    │              0.696558  │              -0.34972    │                   -0.57984     │                                    -0.831441   │   -0.503626   │  0.131068   │ -0.0408439   │\n",
            "├─────┼───────────────────────────────────┼──────────────────────────────────────┼────────────────────────┼─────────────────┼─────────────────────┼────────────────────────┼──────────────────────────┼────────────────────────────────┼────────────────────────────────────────────────┼───────────────┼─────────────┼──────────────┤\n",
            "│  90 │                        0.421679   │                          -0.0357679  │            -0.238504   │      0.819625   │          0.15288    │              0.696558  │               0.756232   │                    0.751633    │                                     0.505589   │    0.790413   │ -0.380876   │ -0.372981    │\n",
            "├─────┼───────────────────────────────────┼──────────────────────────────────────┼────────────────────────┼─────────────────┼─────────────────────┼────────────────────────┼──────────────────────────┼────────────────────────────────┼────────────────────────────────────────────────┼───────────────┼─────────────┼──────────────┤\n",
            "│  91 │                        1.28367    │                           1.44048    │            -0.124195   │     -0.688101   │          0.0373312  │              0.14586   │               0.203256   │                   -0.116719    │                                    -0.0757284  │    0.143393   │ -0.171445   │  1.32922     │\n",
            "├─────┼───────────────────────────────────┼──────────────────────────────────────┼────────────────────────┼─────────────────┼─────────────────────┼────────────────────────┼──────────────────────────┼────────────────────────────────┼────────────────────────────────────────────────┼───────────────┼─────────────┼──────────────┤\n",
            "│  92 │                       -0.00931887 │                           2.53464    │             2.59064    │      0.236526   │          1.71724    │              0.14586   │               0.203256   │                    3.76192     │                                     0.621853   │    0.143393   │  0.898983   │  2.61625     │\n",
            "├─────┼───────────────────────────────────┼──────────────────────────────────────┼────────────────────────┼─────────────────┼─────────────────────┼────────────────────────┼──────────────────────────┼────────────────────────────────┼────────────────────────────────────────────────┼───────────────┼─────────────┼──────────────┤\n",
            "│  93 │                       -0.440317   │                           0.780511   │            -0.688596   │     -0.454862   │         -0.504861   │              0.14586   │              -0.34972    │                    0.114842    │                                    -0.657046   │   -0.503626   │ -0.660118   │  0.249776    │\n",
            "├─────┼───────────────────────────────────┼──────────────────────────────────────┼────────────────────────┼─────────────────┼─────────────────────┼────────────────────────┼──────────────────────────┼────────────────────────────────┼────────────────────────────────────────────────┼───────────────┼─────────────┼──────────────┤\n",
            "│  94 │                       -0.440317   │                          -0.97362    │            -0.952935   │     -1.1879     │         -0.513749   │              0.14586   │               0.203256   │                   -0.116719    │                                    -1.23836    │    0.143393   │ -0.89282    │ -1.36939     │\n",
            "├─────┼───────────────────────────────────┼──────────────────────────────────────┼────────────────────────┼─────────────────┼─────────────────────┼────────────────────────┼──────────────────────────┼────────────────────────────────┼────────────────────────────────────────────────┼───────────────┼─────────────┼──────────────┤\n",
            "│  95 │                       -0.440317   │                          -0.817312   │            -0.931502   │     -0.271602   │         -0.691517   │              0.14586   │               0.203256   │                   -0.753511    │                                    -0.250124   │    0.143393   │ -0.567037   │ -1.36939     │\n",
            "├─────┼───────────────────────────────────┼──────────────────────────────────────┼────────────────────────┼─────────────────┼─────────────────────┼────────────────────────┼──────────────────────────┼────────────────────────────────┼────────────────────────────────────────────────┼───────────────┼─────────────┼──────────────┤\n",
            "│  96 │                       -0.00931887 │                           1.1105     │             1.20465    │     -0.363232   │          0.268429   │             -0.404837  │              -0.34972    │                    0.404292    │                                     2.13328    │   -0.503626   │  0.736092   │  0.581913    │\n",
            "├─────┼───────────────────────────────────┼──────────────────────────────────────┼────────────────────────┼─────────────────┼─────────────────────┼────────────────────────┼──────────────────────────┼────────────────────────────────┼────────────────────────────────────────────────┼───────────────┼─────────────┼──────────────┤\n",
            "│  97 │                       -0.871314   │                           0.0858055  │             1.56901    │     -0.962991   │         -0.780401   │              0.696558  │               0.756232   │                   -0.927181    │                                     2.59833    │    0.790413   │  3.17946    │  0.457362    │\n",
            "├─────┼───────────────────────────────────┼──────────────────────────────────────┼────────────────────────┼─────────────────┼─────────────────────┼────────────────────────┼──────────────────────────┼────────────────────────────────┼────────────────────────────────────────────────┼───────────────┼─────────────┼──────────────┤\n",
            "│  98 │                        3.43866    │                          -0.90415    │             0.468783   │      0.169887   │          0.499528   │              0.14586   │               0.203256   │                    1.67788     │                                     1.14504    │    0.143393   │ -0.311066   │  0.581913    │\n",
            "├─────┼───────────────────────────────────┼──────────────────────────────────────┼────────────────────────┼─────────────────┼─────────────────────┼────────────────────────┼──────────────────────────┼────────────────────────────────┼────────────────────────────────────────────────┼───────────────┼─────────────┼──────────────┤\n",
            "│  99 │                       -0.00931887 │                           1.05839    │            -0.517132   │      0.286506   │         -0.780401   │              0.14586   │               0.203256   │                   -0.63773     │                                     0.85438    │    0.143393   │ -0.334336   │  0.249776    │\n",
            "├─────┼───────────────────────────────────┼──────────────────────────────────────┼────────────────────────┼─────────────────┼─────────────────────┼────────────────────────┼──────────────────────────┼────────────────────────────────┼────────────────────────────────────────────────┼───────────────┼─────────────┼──────────────┤\n",
            "│ 100 │                        0.421679   │                           0.93682    │            -0.167061   │      0.136567   │         -0.104883   │              0.14586   │               0.203256   │                   -0.232499    │                                    -0.598914   │    0.143393   │ -0.520497   │  0.457362    │\n",
            "├─────┼───────────────────────────────────┼──────────────────────────────────────┼────────────────────────┼─────────────────┼─────────────────────┼────────────────────────┼──────────────────────────┼────────────────────────────────┼────────────────────────────────────────────────┼───────────────┼─────────────┼──────────────┤\n",
            "│ 101 │                       -0.871314   │                           0.172644   │             2.29773    │      1.61097    │          7.5658     │              0.14586   │               0.203256   │                    1.44632     │                                     0.156799   │    0.143393   │ -0.101634   │  1.45377     │\n",
            "├─────┼───────────────────────────────────┼──────────────────────────────────────┼────────────────────────┼─────────────────┼─────────────────────┼────────────────────────┼──────────────────────────┼────────────────────────────────┼────────────────────────────────────────────────┼───────────────┼─────────────┼──────────────┤\n",
            "│ 102 │                       -0.440317   │                          -0.0184003  │            -0.524276   │      0.428116   │         -0.371535   │              0.14586   │               0.203256   │                   -0.0588289   │                                     1.4357     │    0.143393   │ -1.10225    │  0.33281     │\n",
            "├─────┼───────────────────────────────────┼──────────────────────────────────────┼────────────────────────┼─────────────────┼─────────────────────┼────────────────────────┼──────────────────────────┼────────────────────────────────┼────────────────────────────────────────────────┼───────────────┼─────────────┼──────────────┤\n",
            "│ 103 │                       -0.440317   │                          -0.122606   │             0.161577   │      0.386466   │         -0.12266    │              0.14586   │               0.203256   │                   -0.116719    │                                     0.156799   │    0.143393   │ -0.00855336 │ -0.53905     │\n",
            "├─────┼───────────────────────────────────┼──────────────────────────────────────┼────────────────────────┼─────────────────┼─────────────────────┼────────────────────────┼──────────────────────────┼────────────────────────────────┼────────────────────────────────────────────────┼───────────────┼─────────────┼──────────────┤\n",
            "│ 104 │                       -0.871314   │                          -0.747841   │            -0.495699   │     -0.271602   │         -0.67374    │              0.696558  │               0.756232   │                   -0.63773     │                                    -0.889573   │    0.790413   │  0.0612572  │  0.166742    │\n",
            "├─────┼───────────────────────────────────┼──────────────────────────────────────┼────────────────────────┼─────────────────┼─────────────────────┼────────────────────────┼──────────────────────────┼────────────────────────────────┼────────────────────────────────────────────────┼───────────────┼─────────────┼──────────────┤\n",
            "│ 105 │                       -0.00931887 │                          -0.226812   │             1.22608    │      1.99415    │          0.472862   │              0.14586   │               0.203256   │                   -0.46406     │                                     1.49383    │    0.143393   │  0.293959   │ -0.663601    │\n",
            "├─────┼───────────────────────────────────┼──────────────────────────────────────┼────────────────────────┼─────────────────┼─────────────────────┼────────────────────────┼──────────────────────────┼────────────────────────────────┼────────────────────────────────────────────────┼───────────────┼─────────────┼──────────────┤\n",
            "│ 106 │                        1.28367    │                          -0.417856   │             0.304463   │      1.2028     │         -0.247097   │              0.14586   │               0.203256   │                   -0.000938759 │                                     1.2613     │    0.143393   │  0.43358    │ -0.53905     │\n",
            "├─────┼───────────────────────────────────┼──────────────────────────────────────┼────────────────────────┼─────────────────┼─────────────────────┼────────────────────────┼──────────────────────────┼────────────────────────────────┼────────────────────────────────────────────────┼───────────────┼─────────────┼──────────────┤\n",
            "│ 107 │                        1.28367    │                          -0.0705032  │             0.161577   │     -0.313252   │          1.15727    │              0.14586   │               0.203256   │                    1.27264     │                                     0.970643   │    0.143393   │ -0.520497   │ -0.206912    │\n",
            "├─────┼───────────────────────────────────┼──────────────────────────────────────┼────────────────────────┼─────────────────┼─────────────────────┼────────────────────────┼──────────────────────────┼────────────────────────────────┼────────────────────────────────────────────────┼───────────────┼─────────────┼──────────────┤\n",
            "│ 108 │                        0.852677   │                           1.30154    │             0.218732   │     -0.00504301 │          0.0195545  │              0.14586   │               0.203256   │                   -0.34828     │                                    -0.657046   │    0.143393   │ -0.357606   │  0.706465    │\n",
            "├─────┼───────────────────────────────────┼──────────────────────────────────────┼────────────────────────┼─────────────────┼─────────────────────┼────────────────────────┼──────────────────────────┼────────────────────────────────┼────────────────────────────────────────────────┼───────────────┼─────────────┼──────────────┤\n",
            "│ 109 │                       -0.871314   │                          -0.122606   │            -0.602864   │     -1.29619    │         -0.327093   │              0.14586   │               0.203256   │                   -0.927181    │                                    -0.947705   │    0.143393   │ -0.89282    │ -0.456015    │\n",
            "├─────┼───────────────────────────────────┼──────────────────────────────────────┼────────────────────────┼─────────────────┼─────────────────────┼────────────────────────┼──────────────────────────┼────────────────────────────────┼────────────────────────────────────────────────┼───────────────┼─────────────┼──────────────┤\n",
            "│ 110 │                       -0.871314   │                          -2.05041    │            -0.724317   │     -1.16291    │         -0.0693295  │              0.14586   │               0.203256   │                   -0.000938759 │                                    -1.2965     │    0.790413   │ -0.823009   │ -0.995738    │\n",
            "├─────┼───────────────────────────────────┼──────────────────────────────────────┼────────────────────────┼─────────────────┼─────────────────────┼────────────────────────┼──────────────────────────┼────────────────────────────────┼────────────────────────────────────────────────┼───────────────┼─────────────┼──────────────┤\n",
            "│ 111 │                        0.421679   │                          -1.32097    │             0.354474   │      0.777975   │          0.055108   │              0.696558  │               0.756232   │                    0.0569514   │                                    -0.773309   │    0.790413   │  0.154338   │ -0.414498    │\n",
            "├─────┼───────────────────────────────────┼──────────────────────────────────────┼────────────────────────┼─────────────────┼─────────────────────┼────────────────────────┼──────────────────────────┼────────────────────────────────┼────────────────────────────────────────────────┼───────────────┼─────────────┼──────────────┤\n",
            "│ 112 │                        0.421679   │                           1.00629    │             0.218732   │      0.653025   │         -0.833731   │             -0.404837  │              -0.34972    │                   -0.985071    │                                    -0.250124   │   -0.503626   │  1.29458    │  2.45018     │\n",
            "├─────┼───────────────────────────────────┼──────────────────────────────────────┼────────────────────────┼─────────────────┼─────────────────────┼────────────────────────┼──────────────────────────┼────────────────────────────────┼────────────────────────────────────────────────┼───────────────┼─────────────┼──────────────┤\n",
            "│ 113 │                       -0.871314   │                           1.42311    │             0.704545   │      1.58598    │         -0.0871062  │              0.14586   │               0.203256   │                    0.577963    │                                    -0.715178   │    0.143393   │  0.712822   │  2.4917      │\n",
            "├─────┼───────────────────────────────────┼──────────────────────────────────────┼────────────────────────┼─────────────────┼─────────────────────┼────────────────────────┼──────────────────────────┼────────────────────────────────┼────────────────────────────────────────────────┼───────────────┼─────────────┼──────────────┤\n",
            "│ 114 │                       -0.440317   │                          -0.487327   │             0.940307   │      1.29443    │          0.748403   │              0.696558  │               0.203256   │                   -0.46406     │                                    -0.657046   │    0.143393   │  0.619741   │  0.166742    │\n",
            "├─────┼───────────────────────────────────┼──────────────────────────────────────┼────────────────────────┼─────────────────┼─────────────────────┼────────────────────────┼──────────────────────────┼────────────────────────────────┼────────────────────────────────────────────────┼───────────────┼─────────────┼──────────────┤\n",
            "│ 115 │                       -0.00931887 │                           0.745776   │            -0.417112   │      0.503086   │         -0.638187   │              0.14586   │               0.203256   │                   -1.04296     │                                    -0.250124   │    0.143393   │  0.0612572  │  0.415845    │\n",
            "├─────┼───────────────────────────────────┼──────────────────────────────────────┼────────────────────────┼─────────────────┼─────────────────────┼────────────────────────┼──────────────────────────┼────────────────────────────────┼────────────────────────────────────────────────┼───────────────┼─────────────┼──────────────┤\n",
            "│ 116 │                       -0.440317   │                           0.259482   │             0.0972785  │      0.669685   │         -0.131548   │              0.14586   │               0.203256   │                    0.114842    │                                     0.796248   │    0.143393   │  0.177608   │  0.208259    │\n",
            "├─────┼───────────────────────────────────┼──────────────────────────────────────┼────────────────────────┼─────────────────┼─────────────────────┼────────────────────────┼──────────────────────────┼────────────────────────────────┼────────────────────────────────────────────────┼───────────────┼─────────────┼──────────────┤\n",
            "│ 117 │                       -0.00931887 │                          -0.435224   │            -0.295659   │     -0.438202   │         -0.362646   │              0.14586   │               0.203256   │                   -0.174609    │                                     0.912511   │    0.143393   │ -0.683388   │ -0.331464    │\n",
            "├─────┼───────────────────────────────────┼──────────────────────────────────────┼────────────────────────┼─────────────────┼─────────────────────┼────────────────────────┼──────────────────────────┼────────────────────────────────┼────────────────────────────────────────────────┼───────────────┼─────────────┼──────────────┤\n",
            "│ 118 │                       -1.30231    │                           0.190011   │             0.040124   │      0.877935   │          0.455086   │              0.14586   │               0.203256   │                    1.27264     │                                    -1.1221     │    0.143393   │  0.549931   │  1.08012     │\n",
            "├─────┼───────────────────────────────────┼──────────────────────────────────────┼────────────────────────┼─────────────────┼─────────────────────┼────────────────────────┼──────────────────────────┼────────────────────────────────┼────────────────────────────────────────────────┼───────────────┼─────────────┼──────────────┤\n",
            "│ 119 │                       -0.00931887 │                          -0.417856   │            -1.30301    │     -0.954661   │         -0.807066   │              0.14586   │               0.203256   │                   -0.40617     │                                    -0.947705   │    0.143393   │ -1.24187    │ -0.871187    │\n",
            "├─────┼───────────────────────────────────┼──────────────────────────────────────┼────────────────────────┼─────────────────┼─────────────────────┼────────────────────────┼──────────────────────────┼────────────────────────────────┼────────────────────────────────────────────────┼───────────────┼─────────────┼──────────────┤\n",
            "│ 120 │                        2.14567    │                           1.8052     │             1.33324    │      1.54433    │         -0.327093   │              0.14586   │               0.203256   │                   -0.0588289   │                                     2.19141    │    0.143393   │  3.226      │  0.415845    │\n",
            "├─────┼───────────────────────────────────┼──────────────────────────────────────┼────────────────────────┼─────────────────┼─────────────────────┼────────────────────────┼──────────────────────────┼────────────────────────────────┼────────────────────────────────────────────────┼───────────────┼─────────────┼──────────────┤\n",
            "│ 121 │                        0.421679   │                           0.0510702  │            -0.152772   │      0.236526   │         -0.824843   │              0.14586   │               0.203256   │                   -0.985071    │                                     0.389326   │    0.143393   │  0.224148   │  0.125225    │\n",
            "├─────┼───────────────────────────────────┼──────────────────────────────────────┼────────────────────────┼─────────────────┼─────────────────────┼────────────────────────┼──────────────────────────┼────────────────────────────────┼────────────────────────────────────────────────┼───────────────┼─────────────┼──────────────┤\n",
            "│ 122 │                       -0.440317   │                          -1.40781    │            -0.717173   │      0.0449369  │          0.215099   │              0.14586   │               0.203256   │                   -0.34828     │                                     0.389326   │    0.143393   │ -1.10225    │ -0.746635    │\n",
            "├─────┼───────────────────────────────────┼──────────────────────────────────────┼────────────────────────┼─────────────────┼─────────────────────┼────────────────────────┼──────────────────────────┼────────────────────────────────┼────────────────────────────────────────────────┼───────────────┼─────────────┼──────────────┤\n",
            "│ 123 │                       -1.73331    │                          -2.3804     │            -2.08888    │     -1.83764    │         -1.32259    │             -3.70902   │              -3.66758    │                   -1.27452     │                                    -1.93594    │   -3.0917     │ -1.82363    │ -1.70153     │\n",
            "├─────┼───────────────────────────────────┼──────────────────────────────────────┼────────────────────────┼─────────────────┼─────────────────────┼────────────────────────┼──────────────────────────┼────────────────────────────────┼────────────────────────────────────────────────┼───────────────┼─────────────┼──────────────┤\n",
            "│ 124 │                       -0.871314   │                           0.502629   │            -0.524276   │     -0.579812   │          0.09955    │             -0.404837  │              -0.34972    │                    1.38842     │                                    -1.1221     │   -0.503626   │ -0.660118   │ -0.871187    │\n",
            "├─────┼───────────────────────────────────┼──────────────────────────────────────┼────────────────────────┼─────────────────┼─────────────────────┼────────────────────────┼──────────────────────────┼────────────────────────────────┼────────────────────────────────────────────────┼───────────────┼─────────────┼──────────────┤\n",
            "│ 125 │                       -0.440317   │                          -0.661003   │             0.290175   │     -0.938001   │         -0.389312   │              0.696558  │               0.203256   │                   -0.695621    │                                    -1.00584    │    0.143393   │  2.66752    │ -1.24484     │\n",
            "├─────┼───────────────────────────────────┼──────────────────────────────────────┼────────────────────────┼─────────────────┼─────────────────────┼────────────────────────┼──────────────────────────┼────────────────────────────────┼────────────────────────────────────────────────┼───────────────┼─────────────┼──────────────┤\n",
            "│ 126 │                       -0.440317   │                          -0.765209   │            -1.01009    │     -0.313252   │         -0.691517   │              0.14586   │              -0.34972    │                   -0.753511    │                                    -0.831441   │    0.143393   │ -1.00917    │ -0.53905     │\n",
            "├─────┼───────────────────────────────────┼──────────────────────────────────────┼────────────────────────┼─────────────────┼─────────────────────┼────────────────────────┼──────────────────────────┼────────────────────────────────┼────────────────────────────────────────────────┼───────────────┼─────────────┼──────────────┤\n",
            "│ 127 │                       -0.440317   │                          -0.296283   │            -1.14583    │     -0.521502   │         -0.513749   │              0.14586   │              -0.34972    │                   -0.811401    │                                    -0.773309   │   -0.503626   │ -0.91609    │ -1.28636     │\n",
            "├─────┼───────────────────────────────────┼──────────────────────────────────────┼────────────────────────┼─────────────────┼─────────────────────┼────────────────────────┼──────────────────────────┼────────────────────────────────┼────────────────────────────────────────────────┼───────────────┼─────────────┼──────────────┤\n",
            "│ 128 │                        0.421679   │                           0.103173   │            -0.481411   │     -0.179973   │          0.143992   │             -0.404837  │              -0.34972    │                    2.37256     │                                    -0.657046   │   -0.503626   │ -0.520497   │ -0.0408439   │\n",
            "├─────┼───────────────────────────────────┼──────────────────────────────────────┼────────────────────────┼─────────────────┼─────────────────────┼────────────────────────┼──────────────────────────┼────────────────────────────────┼────────────────────────────────────────────────┼───────────────┼─────────────┼──────────────┤\n",
            "│ 129 │                        0.852677   │                           1.33628    │            -0.0241748  │      0.669685   │          0.241764   │              0.14586   │               0.203256   │                    1.04108     │                                     2.01701    │    0.143393   │ -1.12552    │  2.07653     │\n",
            "├─────┼───────────────────────────────────┼──────────────────────────────────────┼────────────────────────┼─────────────────┼─────────────────────┼────────────────────────┼──────────────────────────┼────────────────────────────────┼────────────────────────────────────────────────┼───────────────┼─────────────┼──────────────┤\n",
            "│ 130 │                        2.57667    │                          -0.0531356  │             1.33324    │      1.16948    │         -0.273762   │              0.696558  │               0.756232   │                   -0.174609    │                                     0.621853   │    0.790413   │  1.71344    │  1.41226     │\n",
            "├─────┼───────────────────────────────────┼──────────────────────────────────────┼────────────────────────┼─────────────────┼─────────────────────┼────────────────────────┼──────────────────────────┼────────────────────────────────┼────────────────────────────────────────────────┼───────────────┼─────────────┼──────────────┤\n",
            "│ 131 │                       -0.871314   │                          -0.452591   │            -0.0313191  │      0.103247   │          0.0817732  │             -0.404837  │              -0.34972    │                    0.925304    │                                    -0.424519   │   -0.503626   │ -0.590308   │ -0.497532    │\n",
            "├─────┼───────────────────────────────────┼──────────────────────────────────────┼────────────────────────┼─────────────────┼─────────────────────┼────────────────────────┼──────────────────────────┼────────────────────────────────┼────────────────────────────────────────────────┼───────────────┼─────────────┼──────────────┤\n",
            "│ 132 │                        2.57667    │                           0.120541   │            -0.23136    │      0.169887   │          0.206211   │              0.14586   │               0.203256   │                    1.67788     │                                     1.4357     │    0.143393   │ -0.985901   │ -0.871187    │\n",
            "├─────┼───────────────────────────────────┼──────────────────────────────────────┼────────────────────────┼─────────────────┼─────────────────────┼────────────────────────┼──────────────────────────┼────────────────────────────────┼────────────────────────────────────────────────┼───────────────┼─────────────┼──────────────┤\n",
            "│ 133 │                        0.421679   │                          -0.97362    │            -0.781472   │     -0.546492   │         -0.878173   │              0.14586   │               0.203256   │                   -0.57984     │                                    -0.889573   │    0.143393   │  0.270689   │ -1.57698     │\n",
            "├─────┼───────────────────────────────────┼──────────────────────────────────────┼────────────────────────┼─────────────────┼─────────────────────┼────────────────────────┼──────────────────────────┼────────────────────────────────┼────────────────────────────────────────────────┼───────────────┼─────────────┼──────────────┤\n",
            "│ 134 │                       -0.871314   │                           0.0510702  │             1.07605    │     -0.213292   │          0.997278   │              0.14586   │               0.203256   │                    1.27264     │                                     0.389326   │    0.143393   │  1.15496    │  1.32922     │\n",
            "├─────┼───────────────────────────────────┼──────────────────────────────────────┼────────────────────────┼─────────────────┼─────────────────────┼────────────────────────┼──────────────────────────┼────────────────────────────────┼────────────────────────────────────────────────┼───────────────┼─────────────┼──────────────┤\n",
            "│ 135 │                       -0.871314   │                           0.259482   │             0.633102   │      0.0865868  │          1.20171    │              0.14586   │               0.203256   │                    0.577963    │                                     1.20317    │    0.143393   │  0.224148   │  0.457362    │\n",
            "├─────┼───────────────────────────────────┼──────────────────────────────────────┼────────────────────────┼─────────────────┼─────────────────────┼────────────────────────┼──────────────────────────┼────────────────────────────────┼────────────────────────────────────────────────┼───────────────┼─────────────┼──────────────┤\n",
            "│ 136 │                        0.421679   │                          -0.192077   │            -0.109907   │     -0.729751   │          0.499528   │              0.696558  │               0.756232   │                   -0.116719    │                                     0.796248   │    1.43743    │ -0.636848   │ -1.24484     │\n",
            "├─────┼───────────────────────────────────┼──────────────────────────────────────┼────────────────────────┼─────────────────┼─────────────────────┼────────────────────────┼──────────────────────────┼────────────────────────────────┼────────────────────────────────────────────────┼───────────────┼─────────────┼──────────────┤\n",
            "│ 137 │                        2.57667    │                          -1.00836    │            -0.545709   │     -0.254942   │         -0.84262    │             -2.05693   │              -2.00865    │                   -1.10085     │                                     1.2613     │   -2.44468    │  0.270689   │ -0.82967     │\n",
            "├─────┼───────────────────────────────────┼──────────────────────────────────────┼────────────────────────┼─────────────────┼─────────────────────┼────────────────────────┼──────────────────────────┼────────────────────────────────┼────────────────────────────────────────────────┼───────────────┼─────────────┼──────────────┤\n",
            "│ 138 │                        0.421679   │                          -0.574165   │            -1.02438    │     -0.629791   │         -0.202655   │              0.14586   │               0.203256   │                   -0.811401    │                                    -0.366387   │    0.143393   │ -1.19533    │ -1.24484     │\n",
            "├─────┼───────────────────────────────────┼──────────────────────────────────────┼────────────────────────┼─────────────────┼─────────────────────┼────────────────────────┼──────────────────────────┼────────────────────────────────┼────────────────────────────────────────────────┼───────────────┼─────────────┼──────────────┤\n",
            "│ 139 │                       -0.440317   │                          -0.400488   │             0.261598   │     -0.496512   │          0.721737   │              0.14586   │               0.203256   │                    0.751633    │                                    -0.889573   │    0.143393   │ -0.357606   │  0.706465    │\n",
            "├─────┼───────────────────────────────────┼──────────────────────────────────────┼────────────────────────┼─────────────────┼─────────────────────┼────────────────────────┼──────────────────────────┼────────────────────────────────┼────────────────────────────────────────────────┼───────────────┼─────────────┼──────────────┤\n",
            "│ 140 │                       -0.871314   │                           0.172644   │             0.383051   │      0.0615968  │          0.312871   │              0.696558  │               0.756232   │                   -0.174609    │                                    -0.424519   │    0.790413   │  0.643011   │  0.33281     │\n",
            "├─────┼───────────────────────────────────┼──────────────────────────────────────┼────────────────────────┼─────────────────┼─────────────────────┼────────────────────────┼──────────────────────────┼────────────────────────────────┼────────────────────────────────────────────────┼───────────────┼─────────────┼──────────────┤\n",
            "│ 141 │                        1.71467    │                           0.0858055  │             0.283031   │     -0.329912   │          0.0639964  │              0.696558  │               0.756232   │                   -0.000938759 │                                     1.55196    │    0.790413   │ -0.0783639  │  0.457362    │\n",
            "├─────┼───────────────────────────────────┼──────────────────────────────────────┼────────────────────────┼─────────────────┼─────────────────────┼────────────────────────┼──────────────────────────┼────────────────────────────────┼────────────────────────────────────────────────┼───────────────┼─────────────┼──────────────┤\n",
            "│ 142 │                       -0.871314   │                          -0.695738   │            -1.09582    │     -1.01297    │         -0.753736   │              0.14586   │               0.203256   │                   -0.46406     │                                    -0.715178   │    0.143393   │ -1.24187    │ -0.82967     │\n",
            "├─────┼───────────────────────────────────┼──────────────────────────────────────┼────────────────────────┼─────────────────┼─────────────────────┼────────────────────────┼──────────────────────────┼────────────────────────────────┼────────────────────────────────────────────────┼───────────────┼─────────────┼──────────────┤\n",
            "│ 143 │                       -0.00931887 │                           0.0337026  │             0.983173   │      1.56099    │          0.81951    │              0.14586   │               0.203256   │                    1.21475     │                                     0.156799   │    0.143393   │  0.270689   │  0.374328    │\n",
            "├─────┼───────────────────────────────────┼──────────────────────────────────────┼────────────────────────┼─────────────────┼─────────────────────┼────────────────────────┼──────────────────────────┼────────────────────────────────┼────────────────────────────────────────────────┼───────────────┼─────────────┼──────────────┤\n",
            "│ 144 │                       -0.440317   │                           1.23207    │             0.790277   │      0.827955   │         -0.0515527  │              0.14586   │               0.203256   │                   -0.174609    │                                    -0.598914   │    0.143393   │  1.29458    │  1.20467     │\n",
            "├─────┼───────────────────────────────────┼──────────────────────────────────────┼────────────────────────┼─────────────────┼─────────────────────┼────────────────────────┼──────────────────────────┼────────────────────────────────┼────────────────────────────────────────────────┼───────────────┼─────────────┼──────────────┤\n",
            "│ 145 │                       -0.00931887 │                          -0.24418    │            -0.245648   │     -0.754741   │         -0.158213   │              0.14586   │              -0.34972    │                   -0.52195     │                                     0.679984   │   -0.503626   │ -1.05571    │ -0.82967     │\n",
            "├─────┼───────────────────────────────────┼──────────────────────────────────────┼────────────────────────┼─────────────────┼─────────────────────┼────────────────────────┼──────────────────────────┼────────────────────────────────┼────────────────────────────────────────────────┼───────────────┼─────────────┼──────────────┤\n",
            "│ 146 │                       -2.16431    │                          -2.17199    │            -2.21748    │     -2.11253    │         -1.30482    │             -5.91181   │              -5.87948    │                   -1.27452     │                                    -2.16847    │   -5.67978    │ -2.03306    │ -1.45243     │\n",
            "├─────┼───────────────────────────────────┼──────────────────────────────────────┼────────────────────────┼─────────────────┼─────────────────────┼────────────────────────┼──────────────────────────┼────────────────────────────────┼────────────────────────────────────────────────┼───────────────┼─────────────┼──────────────┤\n",
            "│ 147 │                        1.28367    │                           1.8052     │             0.854575   │      0.844615   │          0.410644   │              0.14586   │               0.203256   │                    0.346402    │                                     0.738116   │    0.143393   │ -0.241255   │  0.415845    │\n",
            "├─────┼───────────────────────────────────┼──────────────────────────────────────┼────────────────────────┼─────────────────┼─────────────────────┼────────────────────────┼──────────────────────────┼────────────────────────────────┼────────────────────────────────────────────────┼───────────────┼─────────────┼──────────────┤\n",
            "│ 148 │                       -2.16431    │                          -2.4325     │            -2.30321    │     -2.19583    │         -1.40259    │             -5.91181   │              -5.87948    │                   -1.3903      │                                    -2.16847    │   -5.67978    │ -2.05633    │ -1.74305     │\n",
            "├─────┼───────────────────────────────────┼──────────────────────────────────────┼────────────────────────┼─────────────────┼─────────────────────┼────────────────────────┼──────────────────────────┼────────────────────────────────┼────────────────────────────────────────────────┼───────────────┼─────────────┼──────────────┤\n",
            "│ 149 │                       -0.00931887 │                          -0.0184003  │             0.675968   │      1.51101    │          0.437309   │              0.14586   │               0.203256   │                    0.809523    │                                     0.505589   │    0.143393   │  0.224148   │  1.61984     │\n",
            "├─────┼───────────────────────────────────┼──────────────────────────────────────┼────────────────────────┼─────────────────┼─────────────────────┼────────────────────────┼──────────────────────────┼────────────────────────────────┼────────────────────────────────────────────────┼───────────────┼─────────────┼──────────────┤\n",
            "│ 150 │                       -0.871314   │                          -0.765209   │            -1.29586    │     -1.62939    │         -0.984834   │             -0.955535  │              -0.902696   │                   -1.15874     │                                    -0.598914   │   -1.15065    │ -0.473957   │ -1.20332     │\n",
            "├─────┼───────────────────────────────────┼──────────────────────────────────────┼────────────────────────┼─────────────────┼─────────────────────┼────────────────────────┼──────────────────────────┼────────────────────────────────┼────────────────────────────────────────────────┼───────────────┼─────────────┼──────────────┤\n",
            "│ 151 │                       -0.440317   │                          -0.0705032  │             0.775988   │      0.977894   │          0.401755   │              0.14586   │              -0.34972    │                   -0.0588289   │                                     0.505589   │    0.143393   │ -0.590308   │ -0.580567    │\n",
            "├─────┼───────────────────────────────────┼──────────────────────────────────────┼────────────────────────┼─────────────────┼─────────────────────┼────────────────────────┼──────────────────────────┼────────────────────────────────┼────────────────────────────────────────────────┼───────────────┼─────────────┼──────────────┤\n",
            "│ 152 │                        0.421679   │                           1.71836    │             0.675968   │      0.977894   │          0.170657   │              0.14586   │               0.203256   │                    1.33053     │                                     1.78449    │    0.143393   │  0.643011   │  1.74439     │\n",
            "├─────┼───────────────────────────────────┼──────────────────────────────────────┼────────────────────────┼─────────────────┼─────────────────────┼────────────────────────┼──────────────────────────┼────────────────────────────────┼────────────────────────────────────────────────┼───────────────┼─────────────┼──────────────┤\n",
            "│ 153 │                        2.57667    │                           1.04103    │            -0.638585   │     -0.379892   │         -0.167102   │              0.14586   │               0.203256   │                    0.867414    │                                     1.37757    │    0.143393   │ -0.729929   │  0.125225    │\n",
            "├─────┼───────────────────────────────────┼──────────────────────────────────────┼────────────────────────┼─────────────────┼─────────────────────┼────────────────────────┼──────────────────────────┼────────────────────────────────┼────────────────────────────────────────────────┼───────────────┼─────────────┼──────────────┤\n",
            "│ 154 │                        0.421679   │                           1.23207    │            -0.259937   │     -0.179973   │         -0.540414   │              0.14586   │               0.203256   │                    0.0569514   │                                     0.156799   │    0.143393   │ -0.753199   │  0.125225    │\n",
            "├─────┼───────────────────────────────────┼──────────────────────────────────────┼────────────────────────┼─────────────────┼─────────────────────┼────────────────────────┼──────────────────────────┼────────────────────────────────┼────────────────────────────────────────────────┼───────────────┼─────────────┼──────────────┤\n",
            "│ 155 │                       -0.00931887 │                          -0.278915   │            -0.588575   │     -0.0966728  │         -0.709294   │              0.14586   │               0.203256   │                   -0.63773     │                                    -0.191992   │    0.143393   │ -0.473957   │ -0.995738    │\n",
            "├─────┼───────────────────────────────────┼──────────────────────────────────────┼────────────────────────┼─────────────────┼─────────────────────┼────────────────────────┼──────────────────────────┼────────────────────────────────┼────────────────────────────────────────────────┼───────────────┼─────────────┼──────────────┤\n",
            "│ 156 │                        0.421679   │                          -0.487327   │             1.07605    │     -0.688101   │          1.30837    │              0.696558  │               0.203256   │                    0.983194    │                                    -0.13386    │    0.143393   │ -0.567037   │  0.000673251 │\n",
            "├─────┼───────────────────────────────────┼──────────────────────────────────────┼────────────────────────┼─────────────────┼─────────────────────┼────────────────────────┼──────────────────────────┼────────────────────────────────┼────────────────────────────────────────────────┼───────────────┼─────────────┼──────────────┤\n",
            "│ 157 │                       -0.00931887 │                           0.016335   │             1.03318    │      0.0615968  │          1.53947    │              0.14586   │               0.203256   │                    1.90944     │                                     0.0986669  │    0.143393   │  0.992064   │  1.45377     │\n",
            "├─────┼───────────────────────────────────┼──────────────────────────────────────┼────────────────────────┼─────────────────┼─────────────────────┼────────────────────────┼──────────────────────────┼────────────────────────────────┼────────────────────────────────────────────────┼───────────────┼─────────────┼──────────────┤\n",
            "│ 158 │                       -0.00931887 │                           1.38838    │             0.418772   │     -0.346572   │         -0.0248875  │              0.14586   │               0.203256   │                   -0.985071    │                                     0.273062   │    0.143393   │  0.270689   │  1.12164     │\n",
            "├─────┼───────────────────────────────────┼──────────────────────────────────────┼────────────────────────┼─────────────────┼─────────────────────┼────────────────────────┼──────────────────────────┼────────────────────────────────┼────────────────────────────────────────────────┼───────────────┼─────────────┼──────────────┤\n",
            "│ 159 │                       -0.00931887 │                          -0.00103267 │            -0.509988   │      0.119907   │         -0.300428   │              0.14586   │              -0.902696   │                    0.288512    │                                    -0.598914   │   -0.503626   │  0.340499   │ -0.82967     │\n",
            "├─────┼───────────────────────────────────┼──────────────────────────────────────┼────────────────────────┼─────────────────┼─────────────────────┼────────────────────────┼──────────────────────────┼────────────────────────────────┼────────────────────────────────────────────────┼───────────────┼─────────────┼──────────────┤\n",
            "│ 160 │                       -0.871314   │                          -0.139974   │            -0.667163   │     -0.463192   │         -0.771512   │              0.696558  │               0.756232   │                   -0.63773     │                                    -1.47089    │    0.790413   │  0.224148   │ -0.705118    │\n",
            "├─────┼───────────────────────────────────┼──────────────────────────────────────┼────────────────────────┼─────────────────┼─────────────────────┼────────────────────────┼──────────────────────────┼────────────────────────────────┼────────────────────────────────────────────────┼───────────────┼─────────────┼──────────────┤\n",
            "│ 161 │                        0.421679   │                          -0.00103267 │            -0.638585   │     -0.913011   │         -0.353758   │              0.14586   │              -0.34972    │                   -0.116719    │                                    -0.191992   │   -0.503626   │ -0.497227   │ -0.0408439   │\n",
            "├─────┼───────────────────────────────────┼──────────────────────────────────────┼────────────────────────┼─────────────────┼─────────────────────┼────────────────────────┼──────────────────────────┼────────────────────────────────┼────────────────────────────────────────────────┼───────────────┼─────────────┼──────────────┤\n",
            "│ 162 │                       -0.00931887 │                           1.63153    │             1.16178    │      1.21113    │          0.890617   │              0.14586   │               0.203256   │                    0.983194    │                                     1.20317    │    0.143393   │  0.0612572  │  1.20467     │\n",
            "├─────┼───────────────────────────────────┼──────────────────────────────────────┼────────────────────────┼─────────────────┼─────────────────────┼────────────────────────┼──────────────────────────┼────────────────────────────────┼────────────────────────────────────────────────┼───────────────┼─────────────┼──────────────┤\n",
            "│ 163 │                       -0.440317   │                           1.07576    │            -0.0456077  │     -0.679771   │         -0.567079   │             -0.404837  │              -0.34972    │                   -0.695621    │                                    -0.482651   │   -0.503626   │  1.52728    │  0.33281     │\n",
            "├─────┼───────────────────────────────────┼──────────────────────────────────────┼────────────────────────┼─────────────────┼─────────────────────┼────────────────────────┼──────────────────────────┼────────────────────────────────┼────────────────────────────────────────────────┼───────────────┼─────────────┼──────────────┤\n",
            "│ 164 │                       -0.871314   │                          -0.0705032  │            -1.11011    │     -1.15458    │         -0.549303   │              0.14586   │               0.203256   │                   -0.63773     │                                    -1.70342    │    0.143393   │ -1.03244    │ -0.622084    │\n",
            "├─────┼───────────────────────────────────┼──────────────────────────────────────┼────────────────────────┼─────────────────┼─────────────────────┼────────────────────────┼──────────────────────────┼────────────────────────────────┼────────────────────────────────────────────────┼───────────────┼─────────────┼──────────────┤\n",
            "│ 165 │                       -0.00931887 │                           1.52732    │             0.968884   │      0.0865868  │          0.437309   │             -1.50623   │              -1.45567    │                   -0.40617     │                                     1.49383    │   -1.79766    │  0.526661   │  1.66136     │\n",
            "├─────┼───────────────────────────────────┼──────────────────────────────────────┼────────────────────────┼─────────────────┼─────────────────────┼────────────────────────┼──────────────────────────┼────────────────────────────────┼────────────────────────────────────────────────┼───────────────┼─────────────┼──────────────┤\n",
            "│ 166 │                       -0.00931887 │                           0.120541   │             0.661679   │      1.42771    │          1.43281    │              0.696558  │               0.756232   │                    2.08311     │                                     0.156799   │    0.790413   │  0.782632   │ -0.622084    │\n",
            "├─────┼───────────────────────────────────┼──────────────────────────────────────┼────────────────────────┼─────────────────┼─────────────────────┼────────────────────────┼──────────────────────────┼────────────────────────────────┼────────────────────────────────────────────────┼───────────────┼─────────────┼──────────────┤\n",
            "│ 167 │                       -0.440317   │                           0.867349   │            -0.0884736  │      1.1195     │         -0.0693295  │              0.14586   │               0.203256   │                   -0.232499    │                                    -1.00584    │    0.143393   │  0.363769   │  0.581913    │\n",
            "├─────┼───────────────────────────────────┼──────────────────────────────────────┼────────────────────────┼─────────────────┼─────────────────────┼────────────────────────┼──────────────────────────┼────────────────────────────────┼────────────────────────────────────────────────┼───────────────┼─────────────┼──────────────┤\n",
            "│ 168 │                       -0.871314   │                           0.120541   │             1.03318    │     -0.021703   │          0.632854   │              0.14586   │               0.203256   │                    1.50421     │                                    -0.657046   │    0.143393   │ -0.311066   │  1.0386      │\n",
            "├─────┼───────────────────────────────────┼──────────────────────────────────────┼────────────────────────┼─────────────────┼─────────────────────┼────────────────────────┼──────────────────────────┼────────────────────────────────┼────────────────────────────────────────────────┼───────────────┼─────────────┼──────────────┤\n",
            "│ 169 │                       -0.440317   │                           0.780511   │             0.154433   │      0.0699268  │         -0.273762   │              0.14586   │               0.203256   │                   -0.116719    │                                    -0.250124   │    0.143393   │ -0.241255   │  0.374328    │\n",
            "├─────┼───────────────────────────────────┼──────────────────────────────────────┼────────────────────────┼─────────────────┼─────────────────────┼────────────────────────┼──────────────────────────┼────────────────────────────────┼────────────────────────────────────────────────┼───────────────┼─────────────┼──────────────┤\n",
            "│ 170 │                        0.421679   │                           0.0337026  │             0.283031   │     -0.962991   │          0.863952   │              0.696558  │               0.756232   │                    0.172732    │                                     0.0405351  │    0.790413   │  0.922254   │  0.706465    │\n",
            "├─────┼───────────────────────────────────┼──────────────────────────────────────┼────────────────────────┼─────────────────┼─────────────────────┼────────────────────────┼──────────────────────────┼────────────────────────────────┼────────────────────────────────────────────────┼───────────────┼─────────────┼──────────────┤\n",
            "│ 171 │                        1.28367    │                           1.33628    │             0.747411   │      0.969564   │          0.312871   │              0.14586   │               0.203256   │                   -0.52195     │                                     1.66822    │    0.143393   │ -0.194715   │  0.457362    │\n",
            "├─────┼───────────────────────────────────┼──────────────────────────────────────┼────────────────────────┼─────────────────┼─────────────────────┼────────────────────────┼──────────────────────────┼────────────────────────────────┼────────────────────────────────────────────────┼───────────────┼─────────────┼──────────────┤\n",
            "│ 172 │                        1.71467    │                          -0.331018   │             0.668823   │     -0.105003   │          0.712849   │              0.14586   │               0.203256   │                    0.635853    │                                     1.31943    │    0.143393   │  0.50339    │  0.91405     │\n",
            "├─────┼───────────────────────────────────┼──────────────────────────────────────┼────────────────────────┼─────────────────┼─────────────────────┼────────────────────────┼──────────────────────────┼────────────────────────────────┼────────────────────────────────────────────────┼───────────────┼─────────────┼──────────────┤\n",
            "│ 173 │                        0.421679   │                          -1.72043    │            -0.945791   │     -1.3545     │         -0.860396   │             -0.404837  │              -0.34972    │                   -0.753511    │                                    -0.773309   │   -0.503626   │  0.340499   │ -1.36939     │\n",
            "├─────┼───────────────────────────────────┼──────────────────────────────────────┼────────────────────────┼─────────────────┼─────────────────────┼────────────────────────┼──────────────────────────┼────────────────────────────────┼────────────────────────────────────────────────┼───────────────┼─────────────┼──────────────┤\n",
            "│ 174 │                       -0.440317   │                           0.0510702  │            -0.102762   │     -0.604801   │         -0.940392   │              0.696558  │               0.756232   │                   -1.04296     │                                    -0.598914   │    0.790413   │ -0.334336   │ -1.70153     │\n",
            "├─────┼───────────────────────────────────┼──────────────────────────────────────┼────────────────────────┼─────────────────┼─────────────────────┼────────────────────────┼──────────────────────────┼────────────────────────────────┼────────────────────────────────────────────────┼───────────────┼─────────────┼──────────────┤\n",
            "│ 175 │                       -0.871314   │                          -2.13725    │            -0.752894   │     -0.413212   │          0.472862   │              0.696558  │               0.203256   │                   -0.232499    │                                    -1.18023    │    0.790413   │ -0.93936    │ -0.995738    │\n",
            "├─────┼───────────────────────────────────┼──────────────────────────────────────┼────────────────────────┼─────────────────┼─────────────────────┼────────────────────────┼──────────────────────────┼────────────────────────────────┼────────────────────────────────────────────────┼───────────────┼─────────────┼──────────────┤\n",
            "│ 176 │                       -0.00931887 │                           1.45785    │            -0.424256   │      0.236526   │         -0.664852   │              0.14586   │               0.203256   │                   -0.753511    │                                    -0.540782   │    0.143393   │ -0.753199   │  1.37074     │\n",
            "├─────┼───────────────────────────────────┼──────────────────────────────────────┼────────────────────────┼─────────────────┼─────────────────────┼────────────────────────┼──────────────────────────┼────────────────────────────────┼────────────────────────────────────────────────┼───────────────┼─────────────┼──────────────┤\n",
            "│ 177 │                       -0.440317   │                          -1.44255    │            -0.474266   │     -1.07128    │         -0.380423   │              0.696558  │               0.756232   │                    0.404292    │                                    -1.23836    │    0.790413   │  0.154338   │  0.125225    │\n",
            "├─────┼───────────────────────────────────┼──────────────────────────────────────┼────────────────────────┼─────────────────┼─────────────────────┼────────────────────────┼──────────────────────────┼────────────────────────────────┼────────────────────────────────────────────────┼───────────────┼─────────────┼──────────────┤\n",
            "│ 178 │                       -0.00931887 │                          -1.1994     │            -0.28137    │     -0.329912   │          0.295095   │              0.696558  │               0.756232   │                   -0.29039     │                                     0.156799   │    0.790413   │  0.736092   │ -1.20332     │\n",
            "├─────┼───────────────────────────────────┼──────────────────────────────────────┼────────────────────────┼─────────────────┼─────────────────────┼────────────────────────┼──────────────────────────┼────────────────────────────────┼────────────────────────────────────────────────┼───────────────┼─────────────┼──────────────┤\n",
            "│ 179 │                       -0.00931887 │                          -0.174709   │             0.125856   │      0.569726   │          0.00177768 │             -0.404837  │              -0.34972    │                    0.114842    │                                     0.912511   │   -0.503626   │  0.666282   │ -0.788152    │\n",
            "├─────┼───────────────────────────────────┼──────────────────────────────────────┼────────────────────────┼─────────────────┼─────────────────────┼────────────────────────┼──────────────────────────┼────────────────────────────────┼────────────────────────────────────────────────┼───────────────┼─────────────┼──────────────┤\n",
            "│ 180 │                        4.30066    │                          -0.226812   │            -0.717173   │     -0.98798    │         -0.442642   │             -0.404837  │              -0.34972    │                   -0.174609    │                                     0.389326   │   -0.503626   │ -0.543767   │ -0.622084    │\n",
            "├─────┼───────────────────────────────────┼──────────────────────────────────────┼────────────────────────┼─────────────────┼─────────────────────┼────────────────────────┼──────────────────────────┼────────────────────────────────┼────────────────────────────────────────────────┼───────────────┼─────────────┼──────────────┤\n",
            "│ 181 │                        0.852677   │                          -0.0878709  │             0.0186911  │     -0.346572   │          0.0728848  │              0.14586   │               0.203256   │                    0.230622    │                                    -0.0757284  │    0.143393   │  0.224148   │  0.166742    │\n",
            "├─────┼───────────────────────────────────┼──────────────────────────────────────┼────────────────────────┼─────────────────┼─────────────────────┼────────────────────────┼──────────────────────────┼────────────────────────────────┼────────────────────────────────────────────────┼───────────────┼─────────────┼──────────────┤\n",
            "│ 182 │                       -0.440317   │                          -0.417856   │             0.190154   │     -0.138323   │          0.552858   │              0.696558  │               0.756232   │                   -0.29039     │                                     0.21493    │    0.790413   │  0.666282   │ -0.53905     │\n",
            "├─────┼───────────────────────────────────┼──────────────────────────────────────┼────────────────────────┼─────────────────┼─────────────────────┼────────────────────────┼──────────────────────────┼────────────────────────────────┼────────────────────────────────────────────────┼───────────────┼─────────────┼──────────────┤\n",
            "│ 183 │                       -0.440317   │                           0.971555   │            -0.109907   │      0.253186   │          0.0639964  │              0.14586   │               0.203256   │                   -0.811401    │                                     0.0986669  │    0.143393   │  0.689552   │  0.789499    │\n",
            "├─────┼───────────────────────────────────┼──────────────────────────────────────┼────────────────────────┼─────────────────┼─────────────────────┼────────────────────────┼──────────────────────────┼────────────────────────────────┼────────────────────────────────────────────────┼───────────────┼─────────────┼──────────────┤\n",
            "│ 184 │                       -0.440317   │                          -1.7899     │            -0.902925   │     -0.554822   │         -0.220432   │              0.696558  │               0.756232   │                   -0.29039     │                                    -0.831441   │    1.43743    │ -1.14879    │ -0.24843     │\n",
            "├─────┼───────────────────────────────────┼──────────────────────────────────────┼────────────────────────┼─────────────────┼─────────────────────┼────────────────────────┼──────────────────────────┼────────────────────────────────┼────────────────────────────────────────────────┼───────────────┼─────────────┼──────────────┤\n",
            "│ 185 │                       -0.382239   │                          -1.28291    │            -0.911639   │     -0.296946   │         -0.361323   │             -0.330629  │              -0.275205   │                   -0.992872    │                                    -0.250124   │    0.143393   │ -0.301163   │ -0.589988    │\n",
            "├─────┼───────────────────────────────────┼──────────────────────────────────────┼────────────────────────┼─────────────────┼─────────────────────┼────────────────────────┼──────────────────────────┼────────────────────────────────┼────────────────────────────────────────────────┼───────────────┼─────────────┼──────────────┤\n",
            "│ 186 │                       -2.05227    │                          -2.13587    │            -2.1079     │     -1.95878    │         -1.30251    │             -5.76866   │              -5.73573    │                   -1.30462     │                                    -2.0778     │   -5.51158    │ -1.83948    │ -1.32292     │\n",
            "├─────┼───────────────────────────────────┼──────────────────────────────────────┼────────────────────────┼─────────────────┼─────────────────────┼────────────────────────┼──────────────────────────┼────────────────────────────────┼────────────────────────────────────────────────┼───────────────┼─────────────┼──────────────┤\n",
            "│ 187 │                       -1.44675    │                          -1.57115    │            -1.56677    │     -1.18464    │         -1.1866     │             -4.44575   │              -4.40735    │                   -1.33257     │                                    -1.55879    │   -4.17239    │ -1.06407    │ -0.726491    │\n",
            "├─────┼───────────────────────────────────┼──────────────────────────────────────┼────────────────────────┼─────────────────┼─────────────────────┼────────────────────────┼──────────────────────────┼────────────────────────────────┼────────────────────────────────────────────────┼───────────────┼─────────────┼──────────────┤\n",
            "│ 188 │                       -0.555099   │                          -1.6374     │            -1.06032    │     -0.519153   │         -0.405      │             -0.84482   │              -0.791523   │                   -1.02104     │                                    -0.389458   │   -0.316109   │ -0.440236   │ -0.765063    │\n",
            "├─────┼───────────────────────────────────┼──────────────────────────────────────┼────────────────────────┼─────────────────┼─────────────────────┼────────────────────────┼──────────────────────────┼────────────────────────────────┼────────────────────────────────────────────────┼───────────────┼─────────────┼──────────────┤\n",
            "│ 189 │                       -1.87023    │                          -1.39718    │            -1.77676    │     -1.56153    │         -1.20287    │             -4.97242   │              -4.9362     │                   -1.32118     │                                    -1.69659    │   -4.68645    │ -1.18754    │ -1.36647     │\n",
            "├─────┼───────────────────────────────────┼──────────────────────────────────────┼────────────────────────┼─────────────────┼─────────────────────┼────────────────────────┼──────────────────────────┼────────────────────────────────┼────────────────────────────────────────────────┼───────────────┼─────────────┼──────────────┤\n",
            "│ 190 │                       -0.807988   │                          -1.77665    │            -1.26901    │     -0.79994    │         -0.549469   │             -1.5793    │              -1.52904    │                   -1.07149     │                                    -0.659245   │   -1.0985     │ -0.719889   │ -0.959138    │\n",
            "├─────┼───────────────────────────────────┼──────────────────────────────────────┼────────────────────────┼─────────────────┼─────────────────────┼────────────────────────┼──────────────────────────┼────────────────────────────────┼────────────────────────────────────────────────┼───────────────┼─────────────┼──────────────┤\n",
            "│ 191 │                       -2.16431    │                          -2.35128    │            -2.27648    │     -2.16986    │         -1.37211    │             -5.91181   │              -5.87948    │                   -1.3542      │                                    -2.16847    │   -5.67978    │ -2.04907    │ -1.65244     │\n",
            "├─────┼───────────────────────────────────┼──────────────────────────────────────┼────────────────────────┼─────────────────┼─────────────────────┼────────────────────────┼──────────────────────────┼────────────────────────────────┼────────────────────────────────────────────────┼───────────────┼─────────────┼──────────────┤\n",
            "│ 192 │                       -2.16431    │                          -2.06647    │            -2.17935    │     -2.05991    │         -1.39655    │             -5.91181   │              -5.87948    │                   -1.3903      │                                    -2.10919    │   -5.67978    │ -1.81902    │ -1.65837     │\n",
            "├─────┼───────────────────────────────────┼──────────────────────────────────────┼────────────────────────┼─────────────────┼─────────────────────┼────────────────────────┼──────────────────────────┼────────────────────────────────┼────────────────────────────────────────────────┼───────────────┼─────────────┼──────────────┤\n",
            "│ 193 │                       -1.97271    │                          -2.40934    │            -2.20793    │     -2.0366     │         -1.36703    │             -4.93258   │              -4.8962     │                   -1.33883     │                                    -2.0651     │   -4.52927    │ -1.95288    │ -1.72459     │\n",
            "├─────┼───────────────────────────────────┼──────────────────────────────────────┼────────────────────────┼─────────────────┼─────────────────────┼────────────────────────┼──────────────────────────┼────────────────────────────────┼────────────────────────────────────────────────┼───────────────┼─────────────┼──────────────┤\n",
            "│ 194 │                       -1.73331    │                          -2.16029    │            -1.90327    │     -1.63706    │         -1.3057     │             -4.75589   │              -4.71878    │                   -1.34789     │                                    -1.86227    │   -4.32168    │ -1.48448    │ -1.22799     │\n",
            "├─────┼───────────────────────────────────┼──────────────────────────────────────┼────────────────────────┼─────────────────┼─────────────────────┼────────────────────────┼──────────────────────────┼────────────────────────────────┼────────────────────────────────────────────────┼───────────────┼─────────────┼──────────────┤\n",
            "│ 195 │                       -2.09555    │                          -1.46377    │            -1.91605    │     -1.75213    │         -1.37063    │             -5.82396   │              -5.79126    │                   -1.3903      │                                    -1.96625    │   -5.57656    │ -1.34709    │ -1.40784     │\n",
            "├─────┼───────────────────────────────────┼──────────────────────────────────────┼────────────────────────┼─────────────────┼─────────────────────┼────────────────────────┼──────────────────────────┼────────────────────────────────┼────────────────────────────────────────────────┼───────────────┼─────────────┼──────────────┤\n",
            "│ 196 │                       -0.150825   │                          -0.0240185  │            -0.604763   │      0.19951    │         -0.533129   │             -0.0349458 │               0.0217018  │                   -1.02395     │                                    -0.250124   │    0.143393   │ -0.0762649  │  0.0341768   │\n",
            "├─────┼───────────────────────────────────┼──────────────────────────────────────┼────────────────────────┼─────────────────┼─────────────────────┼────────────────────────┼──────────────────────────┼────────────────────────────────┼────────────────────────────────────────────────┼───────────────┼─────────────┼──────────────┤\n",
            "│ 197 │                       -0.148348   │                          -0.0105436  │            -0.601478   │      0.204824   │         -0.534968   │             -0.0317808 │               0.0248798  │                   -1.02429     │                                    -0.250124   │    0.143393   │ -0.0738576  │  0.0408577   │\n",
            "├─────┼───────────────────────────────────┼──────────────────────────────────────┼────────────────────────┼─────────────────┼─────────────────────┼────────────────────────┼──────────────────────────┼────────────────────────────────┼────────────────────────────────────────────────┼───────────────┼─────────────┼──────────────┤\n",
            "│ 198 │                       -2.05275    │                          -1.37144    │            -1.87736    │     -1.70705    │         -1.31579    │             -5.55546   │              -5.52165    │                   -1.36408     │                                    -1.88123    │   -5.30297    │ -1.29347    │ -1.44559     │\n",
            "├─────┼───────────────────────────────────┼──────────────────────────────────────┼────────────────────────┼─────────────────┼─────────────────────┼────────────────────────┼──────────────────────────┼────────────────────────────────┼────────────────────────────────────────────────┼───────────────┼─────────────┼──────────────┤\n",
            "│ 199 │                       -1.7678     │                          -2.38457    │            -2.10603    │     -1.8663     │         -1.32899    │             -3.88527   │              -3.84456    │                   -1.28379     │                                    -1.95455    │   -3.29878    │ -1.84225    │ -1.70485     │\n",
            "├─────┼───────────────────────────────────┼──────────────────────────────────────┼────────────────────────┼─────────────────┼─────────────────────┼────────────────────────┼──────────────────────────┼────────────────────────────────┼────────────────────────────────────────────────┼───────────────┼─────────────┼──────────────┤\n",
            "│ 200 │                       -1.74681    │                          -2.38203    │            -2.09559    │     -1.84886    │         -1.3251     │             -3.77803   │              -3.73687    │                   -1.27815     │                                    -1.94323    │   -3.17278    │ -1.83092    │ -1.70283     │\n",
            "├─────┼───────────────────────────────────┼──────────────────────────────────────┼────────────────────────┼─────────────────┼─────────────────────┼────────────────────────┼──────────────────────────┼────────────────────────────────┼────────────────────────────────────────────────┼───────────────┼─────────────┼──────────────┤\n",
            "│ 201 │                       -2.08136    │                          -2.35563    │            -2.20559    │     -2.06598    │         -1.38206    │             -5.80583   │              -5.77306    │                   -1.3903      │                                    -2.10135    │   -5.55526    │ -1.90854    │ -1.59124     │\n",
            "├─────┼───────────────────────────────────┼──────────────────────────────────────┼────────────────────────┼─────────────────┼─────────────────────┼────────────────────────┼──────────────────────────┼────────────────────────────────┼────────────────────────────────────────────────┼───────────────┼─────────────┼──────────────┤\n",
            "│ 202 │                       -2.16431    │                          -2.19463    │            -2.22493    │     -2.11977    │         -1.31331    │             -5.91181   │              -5.87948    │                   -1.28459     │                                    -2.16847    │   -5.67978    │ -2.03508    │ -1.47769     │\n",
            "├─────┼───────────────────────────────────┼──────────────────────────────────────┼────────────────────────┼─────────────────┼─────────────────────┼────────────────────────┼──────────────────────────┼────────────────────────────────┼────────────────────────────────────────────────┼───────────────┼─────────────┼──────────────┤\n",
            "│ 203 │                       -0.557863   │                          -1.63833    │            -1.06205    │     -0.521503   │         -0.40709    │             -0.855415  │              -0.802162   │                   -1.02191     │                                    -0.392813   │   -0.327174   │ -0.442226   │ -0.765507    │\n",
            "├─────┼───────────────────────────────────┼──────────────────────────────────────┼────────────────────────┼─────────────────┼─────────────────────┼────────────────────────┼──────────────────────────┼────────────────────────────────┼────────────────────────────────────────────────┼───────────────┼─────────────┼──────────────┤\n",
            "│ 204 │                       -1.97341    │                          -2.25558    │            -2.07854    │     -1.89698    │         -1.35535    │             -5.6679    │              -5.63456    │                   -1.3903      │                                    -2.01399    │   -5.3932     │ -1.7162     │ -1.39366     │\n",
            "├─────┼───────────────────────────────────┼──────────────────────────────────────┼────────────────────────┼─────────────────┼─────────────────────┼────────────────────────┼──────────────────────────┼────────────────────────────────┼────────────────────────────────────────────────┼───────────────┼─────────────┼──────────────┤\n",
            "│ 205 │                       -1.48537    │                          -1.63341    │            -1.59766    │     -1.22999    │         -1.20133    │             -4.56912   │              -4.53123    │                   -1.34035     │                                    -1.59395    │   -4.28835    │ -1.09431    │ -0.757183    │\n",
            "├─────┼───────────────────────────────────┼──────────────────────────────────────┼────────────────────────┼─────────────────┼─────────────────────┼────────────────────────┼──────────────────────────┼────────────────────────────────┼────────────────────────────────────────────────┼───────────────┼─────────────┼──────────────┤\n",
            "│ 206 │                       -1.78322    │                          -2.04914    │            -1.84478    │     -1.58959    │         -1.29696    │             -5.42489   │              -5.39054    │                   -1.37689     │                                    -1.86007    │   -5.10769    │ -1.37464    │ -1.01191     │\n",
            "├─────┼───────────────────────────────────┼──────────────────────────────────────┼────────────────────────┼─────────────────┼─────────────────────┼────────────────────────┼──────────────────────────┼────────────────────────────────┼────────────────────────────────────────────────┼───────────────┼─────────────┼──────────────┤\n",
            "│ 207 │                       -1.88983    │                          -2.30471    │            -2.13558    │     -1.93746    │         -1.31614    │             -4.50897   │              -4.47083    │                   -1.27452     │                                    -2.02039    │   -4.03157    │ -1.89968    │ -1.61107     │\n",
            "├─────┼───────────────────────────────────┼──────────────────────────────────────┼────────────────────────┼─────────────────┼─────────────────────┼────────────────────────┼──────────────────────────┼────────────────────────────────┼────────────────────────────────────────────────┼───────────────┼─────────────┼──────────────┤\n",
            "│ 208 │                       -1.75236    │                          -2.03919    │            -1.81459    │     -1.54724    │         -1.29632    │             -5.38545   │              -5.35094    │                   -1.38519     │                                    -1.8351     │   -5.06136    │ -1.32132    │ -0.976239    │\n",
            "├─────┼───────────────────────────────────┼──────────────────────────────────────┼────────────────────────┼─────────────────┼─────────────────────┼────────────────────────┼──────────────────────────┼────────────────────────────────┼────────────────────────────────────────────────┼───────────────┼─────────────┼──────────────┤\n",
            "│ 209 │                       -1.79877    │                          -2.22476    │            -2.06609    │     -1.83131    │         -1.33204    │             -4.0436    │              -4.00353    │                   -1.29211     │                                    -1.94477    │   -3.48479    │ -1.75294    │ -1.67        │\n",
            "├─────┼───────────────────────────────────┼──────────────────────────────────────┼────────────────────────┼─────────────────┼─────────────────────┼────────────────────────┼──────────────────────────┼────────────────────────────────┼────────────────────────────────────────────────┼───────────────┼─────────────┼──────────────┤\n",
            "│ 210 │                       -1.73331    │                          -2.11001    │            -1.86087    │     -1.59124    │         -1.30184    │             -4.99504   │              -4.95892    │                   -1.36465     │                                    -1.84544    │   -4.60266    │ -1.40701    │ -1.11981     │\n",
            "├─────┼───────────────────────────────────┼──────────────────────────────────────┼────────────────────────┼─────────────────┼─────────────────────┼────────────────────────┼──────────────────────────┼────────────────────────────────┼────────────────────────────────────────────────┼───────────────┼─────────────┼──────────────┤\n",
            "│ 211 │                        0.278374   │                           1.07038    │            -0.436187   │      0.169468   │         -1.05943    │              0.14586   │               0.203256   │                   -1.23617     │                                     0.370728   │    0.575282   │  0.0923231  │  0.443558    │\n",
            "├─────┼───────────────────────────────────┼──────────────────────────────────────┼────────────────────────┼─────────────────┼─────────────────────┼────────────────────────┼──────────────────────────┼────────────────────────────────┼────────────────────────────────────────────────┼───────────────┼─────────────┼──────────────┤\n",
            "│ 212 │                       -1.72158    │                          -2.0248     │            -1.90191    │     -1.67827    │         -1.05145    │             -4.4976    │              -4.45941    │                   -1.20019     │                                    -1.67583    │   -4.18436    │ -1.60279    │ -1.27118     │\n",
            "├─────┼───────────────────────────────────┼──────────────────────────────────────┼────────────────────────┼─────────────────┼─────────────────────┼────────────────────────┼──────────────────────────┼────────────────────────────────┼────────────────────────────────────────────────┼───────────────┼─────────────┼──────────────┤\n",
            "│ 213 │                       -2.16431    │                          -1.91714    │            -2.13049    │     -2.0137     │         -1.32979    │             -5.91181   │              -5.87948    │                   -1.31067     │                                    -2.11402    │   -5.67978    │ -1.82237    │ -1.46539     │\n",
            "├─────┼───────────────────────────────────┼──────────────────────────────────────┼────────────────────────┼─────────────────┼─────────────────────┼────────────────────────┼──────────────────────────┼────────────────────────────────┼────────────────────────────────────────────────┼───────────────┼─────────────┼──────────────┤\n",
            "│ 214 │                        0.16643    │                           0.804189   │            -0.640318   │     -0.214762   │         -1.27558    │             -0.310733  │              -0.255227   │                   -1.32556     │                                     0.370139   │    0.330594   │ -0.120971   │  0.201651    │\n",
            "├─────┼───────────────────────────────────┼──────────────────────────────────────┼────────────────────────┼─────────────────┼─────────────────────┼────────────────────────┼──────────────────────────┼────────────────────────────────┼────────────────────────────────────────────────┼───────────────┼─────────────┼──────────────┤\n",
            "│ 215 │                       -0.387175   │                          -0.123835   │            -1.06244    │     -0.687686   │         -1.28928    │             -1.30103   │              -1.24962    │                   -1.31068     │                                    -0.301879   │   -0.666701   │ -0.617144   │ -0.352957    │\n",
            "├─────┼───────────────────────────────────┼──────────────────────────────────────┼────────────────────────┼─────────────────┼─────────────────────┼────────────────────────┼──────────────────────────┼────────────────────────────────┼────────────────────────────────────────────────┼───────────────┼─────────────┼──────────────┤\n",
            "│ 216 │                       -1.73331    │                          -2.37006    │            -2.08016    │     -1.82821    │         -1.3218     │             -3.75821   │              -3.71697    │                   -1.27797     │                                    -1.93248    │   -3.1495     │ -1.80769    │ -1.67928     │\n",
            "├─────┼───────────────────────────────────┼──────────────────────────────────────┼────────────────────────┼─────────────────┼─────────────────────┼────────────────────────┼──────────────────────────┼────────────────────────────────┼────────────────────────────────────────────────┼───────────────┼─────────────┼──────────────┤\n",
            "│ 217 │                       -1.36745    │                          -1.4681     │            -1.49965    │     -1.16069    │         -0.891806   │             -3.36639   │              -3.32352    │                   -1.203       │                                    -1.18799    │   -2.9882     │ -0.89572    │ -1.14852     │\n",
            "├─────┼───────────────────────────────────┼──────────────────────────────────────┼────────────────────────┼─────────────────┼─────────────────────┼────────────────────────┼──────────────────────────┼────────────────────────────────┼────────────────────────────────────────────────┼───────────────┼─────────────┼──────────────┤\n",
            "│ 218 │                       -1.75666    │                          -1.99635    │            -1.8037     │     -1.53599    │         -1.30074    │             -5.39095   │              -5.35646    │                   -1.3903      │                                    -1.82913    │   -5.06781    │ -1.29219    │ -0.983459    │\n",
            "├─────┼───────────────────────────────────┼──────────────────────────────────────┼────────────────────────┼─────────────────┼─────────────────────┼────────────────────────┼──────────────────────────┼────────────────────────────────┼────────────────────────────────────────────────┼───────────────┼─────────────┼──────────────┤\n",
            "│ 219 │                       -0.776711   │                          -0.491148   │            -1.03087    │     -0.39793    │         -0.930964   │             -2.30543   │              -2.25818    │                   -1.19757     │                                    -0.948773   │   -2.16064    │ -0.539515   │ -0.194006    │\n",
            "├─────┼───────────────────────────────────┼──────────────────────────────────────┼────────────────────────┼─────────────────┼─────────────────────┼────────────────────────┼──────────────────────────┼────────────────────────────────┼────────────────────────────────────────────────┼───────────────┼─────────────┼──────────────┤\n",
            "│ 220 │                       -2.16431    │                          -2.33459    │            -2.27099    │     -2.16452    │         -1.36584    │             -5.91181   │              -5.87948    │                   -1.34679     │                                    -2.16847    │   -5.67978    │ -2.04758    │ -1.63382     │\n",
            "├─────┼───────────────────────────────────┼──────────────────────────────────────┼────────────────────────┼─────────────────┼─────────────────────┼────────────────────────┼──────────────────────────┼────────────────────────────────┼────────────────────────────────────────────────┼───────────────┼─────────────┼──────────────┤\n",
            "│ 221 │                       -1.06408    │                          -1.16686    │            -1.43992    │     -0.928998   │         -1.05691    │             -2.21261   │              -2.16497    │                   -1.18463     │                                    -1.28153    │   -1.83588    │ -1.09194    │ -0.879591    │\n",
            "├─────┼───────────────────────────────────┼──────────────────────────────────────┼────────────────────────┼─────────────────┼─────────────────────┼────────────────────────┼──────────────────────────┼────────────────────────────────┼────────────────────────────────────────────────┼───────────────┼─────────────┼──────────────┤\n",
            "│ 222 │                       -1.73331    │                          -2.35726    │            -2.06937    │     -1.81655    │         -1.32082    │             -3.81909   │              -3.77809    │                   -1.28224     │                                    -1.9282     │   -3.22102    │ -1.78797    │ -1.65174     │\n",
            "├─────┼───────────────────────────────────┼──────────────────────────────────────┼────────────────────────┼─────────────────┼─────────────────────┼────────────────────────┼──────────────────────────┼────────────────────────────────┼────────────────────────────────────────────────┼───────────────┼─────────────┼──────────────┤\n",
            "│ 223 │                       -2.16431    │                          -2.14663    │            -2.20648    │     -2.08968    │         -1.39787    │             -5.91181   │              -5.87948    │                   -1.3903      │                                    -2.12217    │   -5.67978    │ -1.87099    │ -1.67691     │\n",
            "├─────┼───────────────────────────────────┼──────────────────────────────────────┼────────────────────────┼─────────────────┼─────────────────────┼────────────────────────┼──────────────────────────┼────────────────────────────────┼────────────────────────────────────────────────┼───────────────┼─────────────┼──────────────┤\n",
            "│ 224 │                       -1.4313     │                          -1.54625    │            -1.55442    │     -1.1665     │         -1.18071    │             -4.39641   │              -4.35781    │                   -1.32946     │                                    -1.54473    │   -4.12601    │ -1.05198    │ -0.714214    │\n",
            "├─────┼───────────────────────────────────┼──────────────────────────────────────┼────────────────────────┼─────────────────┼─────────────────────┼────────────────────────┼──────────────────────────┼────────────────────────────────┼────────────────────────────────────────────────┼───────────────┼─────────────┼──────────────┤\n",
            "│ 225 │                       -0.150816   │                          -0.648091   │            -0.806301   │     -0.278863   │         -0.637617   │             -0.219886  │              -0.164003   │                   -1.10173     │                                     0.0622526  │    0.360695   │ -0.2013     │ -0.342274    │\n",
            "├─────┼───────────────────────────────────┼──────────────────────────────────────┼────────────────────────┼─────────────────┼─────────────────────┼────────────────────────┼──────────────────────────┼────────────────────────────────┼────────────────────────────────────────────────┼───────────────┼─────────────┼──────────────┤\n",
            "│ 226 │                       -0.599847   │                          -1.676      │            -1.1103     │     -0.585726   │         -0.418548   │             -0.914427  │              -0.861418   │                   -1.02257     │                                    -0.427639   │   -0.395456   │ -0.514798   │ -0.838839    │\n",
            "├─────┼───────────────────────────────────┼──────────────────────────────────────┼────────────────────────┼─────────────────┼─────────────────────┼────────────────────────┼──────────────────────────┼────────────────────────────────┼────────────────────────────────────────────────┼───────────────┼─────────────┼──────────────┤\n",
            "│ 227 │                       -0.679791   │                          -1.7436     │            -1.19243    │     -0.683816   │         -0.504226   │             -1.0168    │              -0.964217   │                   -1.03868     │                                    -0.562353   │   -0.455776   │ -0.629127   │ -0.92349     │\n",
            "├─────┼───────────────────────────────────┼──────────────────────────────────────┼────────────────────────┼─────────────────┼─────────────────────┼────────────────────────┼──────────────────────────┼────────────────────────────────┼────────────────────────────────────────────────┼───────────────┼─────────────┼──────────────┤\n",
            "│ 228 │                       -1.14367    │                          -1.49966    │            -1.37632    │     -0.982292   │         -0.753361   │             -2.65159   │              -2.60576    │                   -1.1504      │                                    -0.961625   │   -2.23236    │ -0.76584    │ -1.05152     │\n",
            "├─────┼───────────────────────────────────┼──────────────────────────────────────┼────────────────────────┼─────────────────┼─────────────────────┼────────────────────────┼──────────────────────────┼────────────────────────────────┼────────────────────────────────────────────────┼───────────────┼─────────────┼──────────────┤\n",
            "│ 229 │                       -1.16752    │                          -1.1758     │            -1.44145    │     -1.12087    │         -1.28893    │             -3.91527   │              -3.87468    │                   -1.3751      │                                    -1.1634     │   -3.5039     │ -0.921841   │ -0.583613    │\n",
            "├─────┼───────────────────────────────────┼──────────────────────────────────────┼────────────────────────┼─────────────────┼─────────────────────┼────────────────────────┼──────────────────────────┼────────────────────────────────┼────────────────────────────────────────────────┼───────────────┼─────────────┼──────────────┤\n",
            "│ 230 │                       -0.153038   │                          -0.0360564  │            -0.607697   │      0.194763   │         -0.531487   │             -0.0377732 │               0.0188627  │                   -1.02366     │                                    -0.250124   │    0.143393   │ -0.0784154  │  0.0282083   │\n",
            "├─────┼───────────────────────────────────┼──────────────────────────────────────┼────────────────────────┼─────────────────┼─────────────────────┼────────────────────────┼──────────────────────────┼────────────────────────────────┼────────────────────────────────────────────────┼───────────────┼─────────────┼──────────────┤\n",
            "│ 231 │                       -2.16431    │                          -2.40284    │            -2.29345    │     -2.18634    │         -1.39146    │             -5.91181   │              -5.87948    │                   -1.37712     │                                    -2.16847    │   -5.67978    │ -2.05368    │ -1.70995     │\n",
            "├─────┼───────────────────────────────────┼──────────────────────────────────────┼────────────────────────┼─────────────────┼─────────────────────┼────────────────────────┼──────────────────────────┼────────────────────────────────┼────────────────────────────────────────────────┼───────────────┼─────────────┼──────────────┤\n",
            "│ 232 │                        0.0507381  │                           0.813538   │            -0.421094   │      0.433442   │         -0.726123   │              0.14586   │               0.203256   │                   -1.08329     │                                    -0.120519   │    0.233552   │  0.0677423  │  0.42163     │\n",
            "├─────┼───────────────────────────────────┼──────────────────────────────────────┼────────────────────────┼─────────────────┼─────────────────────┼────────────────────────┼──────────────────────────┼────────────────────────────────┼────────────────────────────────────────────────┼───────────────┼─────────────┼──────────────┤\n",
            "│ 233 │                       -2.16431    │                          -2.2547     │            -2.24305    │     -2.12981    │         -1.39965    │             -5.91181   │              -5.87948    │                   -1.3903      │                                    -2.13968    │   -5.67978    │ -1.94106    │ -1.70192     │\n",
            "├─────┼───────────────────────────────────┼──────────────────────────────────────┼────────────────────────┼─────────────────┼─────────────────────┼────────────────────────┼──────────────────────────┼────────────────────────────────┼────────────────────────────────────────────────┼───────────────┼─────────────┼──────────────┤\n",
            "│ 234 │                       -1.83276    │                          -2.39242    │            -2.13834    │     -1.92029    │         -1.34105    │             -4.21731   │              -4.17796    │                   -1.30124     │                                    -1.9896     │   -3.68889    │ -1.87732    │ -1.71111     │\n",
            "├─────┼───────────────────────────────────┼──────────────────────────────────────┼────────────────────────┼─────────────────┼─────────────────────┼────────────────────────┼──────────────────────────┼────────────────────────────────┼────────────────────────────────────────────────┼───────────────┼─────────────┼──────────────┤\n",
            "│ 235 │                       -0.508115   │                          -1.62162    │            -1.03099    │     -0.479197   │         -0.369471   │             -0.664719  │              -0.610677   │                   -1.00632     │                                    -0.332423   │   -0.128018   │ -0.406413   │ -0.75752     │\n",
            "├─────┼───────────────────────────────────┼──────────────────────────────────────┼────────────────────────┼─────────────────┼─────────────────────┼────────────────────────┼──────────────────────────┼────────────────────────────────┼────────────────────────────────────────────────┼───────────────┼─────────────┼──────────────┤\n",
            "│ 236 │                       -1.7942     │                          -2.08948    │            -1.86763    │     -1.61642    │         -1.311      │             -5.43892   │              -5.40463    │                   -1.3903      │                                    -1.86896    │   -5.12417    │ -1.3969     │ -1.06567     │\n",
            "├─────┼───────────────────────────────────┼──────────────────────────────────────┼────────────────────────┼─────────────────┼─────────────────────┼────────────────────────┼──────────────────────────┼────────────────────────────────┼────────────────────────────────────────────────┼───────────────┼─────────────┼──────────────┤\n",
            "│ 237 │                       -0.878932   │                          -1.74614    │            -1.26252    │     -0.794539   │         -0.649873   │             -2.08613   │              -2.03797    │                   -1.12254     │                                    -0.782557   │   -1.61249    │ -0.673359   │ -0.817053    │\n",
            "├─────┼───────────────────────────────────┼──────────────────────────────────────┼────────────────────────┼─────────────────┼─────────────────────┼────────────────────────┼──────────────────────────┼────────────────────────────────┼────────────────────────────────────────────────┼───────────────┼─────────────┼──────────────┤\n",
            "│ 238 │                       -1.48635    │                          -2.10467    │            -1.78627    │     -1.4981     │         -0.976158   │             -3.74621   │              -3.70492    │                   -1.23095     │                                    -1.41409    │   -3.38984    │ -1.38831    │ -1.35121     │\n",
            "├─────┼───────────────────────────────────┼──────────────────────────────────────┼────────────────────────┼─────────────────┼─────────────────────┼────────────────────────┼──────────────────────────┼────────────────────────────────┼────────────────────────────────────────────────┼───────────────┼─────────────┼──────────────┤\n",
            "│ 239 │                       -2.04778    │                          -2.13442    │            -2.10351    │     -1.95263    │         -1.30241    │             -5.76292   │              -5.72997    │                   -1.30583     │                                    -2.07417    │   -5.50485    │ -1.83173    │ -1.31773     │\n",
            "├─────┼───────────────────────────────────┼──────────────────────────────────────┼────────────────────────┼─────────────────┼─────────────────────┼────────────────────────┼──────────────────────────┼────────────────────────────────┼────────────────────────────────────────────────┼───────────────┼─────────────┼──────────────┤\n",
            "│ 240 │                       -2.16431    │                          -2.20409    │            -2.22804    │     -2.12279    │         -1.31686    │             -5.91181   │              -5.87948    │                   -1.28879     │                                    -2.16847    │   -5.67978    │ -2.03593    │ -1.48824     │\n",
            "├─────┼───────────────────────────────────┼──────────────────────────────────────┼────────────────────────┼─────────────────┼─────────────────────┼────────────────────────┼──────────────────────────┼────────────────────────────────┼────────────────────────────────────────────────┼───────────────┼─────────────┼──────────────┤\n",
            "│ 241 │                       -1.14249    │                          -1.83465    │            -1.42707    │     -1.01867    │         -0.849168   │             -3.0964    │              -3.05242    │                   -1.20514     │                                    -1.10249    │   -2.66757    │ -0.863091   │ -0.859367    │\n",
            "├─────┼───────────────────────────────────┼──────────────────────────────────────┼────────────────────────┼─────────────────┼─────────────────────┼────────────────────────┼──────────────────────────┼────────────────────────────────┼────────────────────────────────────────────────┼───────────────┼─────────────┼──────────────┤\n",
            "│ 242 │                       -2.16431    │                          -1.60845    │            -2.02437    │     -1.88984    │         -1.38898    │             -5.91181   │              -5.87948    │                   -1.3903      │                                    -2.03501    │   -5.67978    │ -1.52208    │ -1.55241     │\n",
            "├─────┼───────────────────────────────────┼──────────────────────────────────────┼────────────────────────┼─────────────────┼─────────────────────┼────────────────────────┼──────────────────────────┼────────────────────────────────┼────────────────────────────────────────────────┼───────────────┼─────────────┼──────────────┤\n",
            "│ 243 │                       -1.16847    │                          -1.84337    │            -1.44329    │     -1.04076    │         -0.868812   │             -3.19598   │              -3.15241    │                   -1.21328     │                                    -1.13402    │   -2.77157    │ -0.881793   │ -0.863538    │\n",
            "├─────┼───────────────────────────────────┼──────────────────────────────────────┼────────────────────────┼─────────────────┼─────────────────────┼────────────────────────┼──────────────────────────┼────────────────────────────────┼────────────────────────────────────────────────┼───────────────┼─────────────┼──────────────┤\n",
            "│ 244 │                       -2.16431    │                          -2.21417    │            -2.22933    │     -2.11475    │         -1.39898    │             -5.91181   │              -5.87948    │                   -1.3903      │                                    -2.13311    │   -5.67978    │ -1.91478    │ -1.69254     │\n",
            "├─────┼───────────────────────────────────┼──────────────────────────────────────┼────────────────────────┼─────────────────┼─────────────────────┼────────────────────────┼──────────────────────────┼────────────────────────────────┼────────────────────────────────────────────────┼───────────────┼─────────────┼──────────────┤\n",
            "│ 245 │                       -2.16431    │                          -1.75455    │            -2.07499    │     -1.95065    │         -1.34572    │             -5.91181   │              -5.87948    │                   -1.33373     │                                    -2.07929    │   -5.67978    │ -1.68796    │ -1.47366     │\n",
            "├─────┼───────────────────────────────────┼──────────────────────────────────────┼────────────────────────┼─────────────────┼─────────────────────┼────────────────────────┼──────────────────────────┼────────────────────────────────┼────────────────────────────────────────────────┼───────────────┼─────────────┼──────────────┤\n",
            "│ 246 │                       -1.62195    │                          -2.19373    │            -2.00397    │     -1.74251    │         -1.31984    │             -3.50983   │              -3.46755    │                   -1.27751     │                                    -1.80077    │   -2.8911     │ -1.72382    │ -1.58997     │\n",
            "├─────┼───────────────────────────────────┼──────────────────────────────────────┼────────────────────────┼─────────────────┼─────────────────────┼────────────────────────┼──────────────────────────┼────────────────────────────────┼────────────────────────────────────────────────┼───────────────┼─────────────┼──────────────┤\n",
            "│ 247 │                       -1.52327    │                          -1.44612    │            -1.58554    │     -1.28492    │         -0.988211   │             -3.86413   │              -3.82333    │                   -1.23962     │                                    -1.34562    │   -3.51453    │ -0.98616    │ -1.21607     │\n",
            "├─────┼───────────────────────────────────┼──────────────────────────────────────┼────────────────────────┼─────────────────┼─────────────────────┼────────────────────────┼──────────────────────────┼────────────────────────────────┼────────────────────────────────────────────────┼───────────────┼─────────────┼──────────────┤\n",
            "│ 248 │                       -2.08538    │                          -1.36684    │            -1.89535    │     -1.73306    │         -1.33598    │             -5.6597    │              -5.62632    │                   -1.37175     │                                    -1.91424    │   -5.41319    │ -1.31241    │ -1.45973     │\n",
            "├─────┼───────────────────────────────────┼──────────────────────────────────────┼────────────────────────┼─────────────────┼─────────────────────┼────────────────────────┼──────────────────────────┼────────────────────────────────┼────────────────────────────────────────────────┼───────────────┼─────────────┼──────────────┤\n",
            "│ 249 │                       -1.65934    │                          -2.00821    │            -1.74978    │     -1.4582     │         -1.24       │             -5.07759   │              -5.0418     │                   -1.36712     │                                    -1.72989    │   -4.73665    │ -1.23517    │ -0.942346    │\n",
            "├─────┼───────────────────────────────────┼──────────────────────────────────────┼────────────────────────┼─────────────────┼─────────────────────┼────────────────────────┼──────────────────────────┼────────────────────────────────┼────────────────────────────────────────────────┼───────────────┼─────────────┼──────────────┤\n",
            "│ 250 │                       -1.73331    │                          -2.22368    │            -1.95672    │     -1.69482    │         -1.31056    │             -4.45444   │              -4.41608    │                   -1.32676     │                                    -1.88349    │   -3.9675     │ -1.58214    │ -1.36435     │\n",
            "├─────┼───────────────────────────────────┼──────────────────────────────────────┼────────────────────────┼─────────────────┼─────────────────────┼────────────────────────┼──────────────────────────┼────────────────────────────────┼────────────────────────────────────────────────┼───────────────┼─────────────┼──────────────┤\n",
            "│ 251 │                       -0.957776   │                          -1.77262    │            -1.31174    │     -0.861587   │         -0.709492   │             -2.38835   │              -2.34144    │                   -1.14725     │                                    -0.878264   │   -1.92812    │ -0.730117   │ -0.829712    │\n",
            "├─────┼───────────────────────────────────┼──────────────────────────────────────┼────────────────────────┼─────────────────┼─────────────────────┼────────────────────────┼──────────────────────────┼────────────────────────────────┼────────────────────────────────────────────────┼───────────────┼─────────────┼──────────────┤\n",
            "│ 252 │                       -0.506254   │                          -1.63074    │            -1.03893    │     -0.489402   │         -0.359679   │             -0.615461  │              -0.561215   │                   -1.00057     │                                    -0.323494   │   -0.0793236  │ -0.422576   │ -0.784745    │\n",
            "├─────┼───────────────────────────────────┼──────────────────────────────────────┼────────────────────────┼─────────────────┼─────────────────────┼────────────────────────┼──────────────────────────┼────────────────────────────────┼────────────────────────────────────────────────┼───────────────┼─────────────┼──────────────┤\n",
            "│ 253 │                        0.357189   │                           1.02027    │            -0.486311   │     -0.0284966  │         -1.19811    │              0.10466   │               0.161885   │                   -1.30643     │                                     0.610399   │    0.742006   │  0.0729784  │  0.367285    │\n",
            "├─────┼───────────────────────────────────┼──────────────────────────────────────┼────────────────────────┼─────────────────┼─────────────────────┼────────────────────────┼──────────────────────────┼────────────────────────────────┼────────────────────────────────────────────────┼───────────────┼─────────────┼──────────────┤\n",
            "│ 254 │                       -1.94411    │                          -2.101      │            -2.00212    │     -1.81036    │         -1.30027    │             -5.63046   │              -5.59696    │                   -1.33368     │                                    -1.99027    │   -5.34921    │ -1.65261    │ -1.19789     │\n",
            "├─────┼───────────────────────────────────┼──────────────────────────────────────┼────────────────────────┼─────────────────┼─────────────────────┼────────────────────────┼──────────────────────────┼────────────────────────────────┼────────────────────────────────────────────────┼───────────────┼─────────────┼──────────────┤\n",
            "│ 255 │                       -1.73331    │                          -2.29686    │            -2.01843    │     -1.76151    │         -1.31618    │             -4.10637   │              -4.06657    │                   -1.30237     │                                    -1.90798    │   -3.55855    │ -1.6949     │ -1.52179     │\n",
            "├─────┼───────────────────────────────────┼──────────────────────────────────────┼────────────────────────┼─────────────────┼─────────────────────┼────────────────────────┼──────────────────────────┼────────────────────────────────┼────────────────────────────────────────────────┼───────────────┼─────────────┼──────────────┤\n",
            "│ 256 │                       -1.69177    │                          -2.30507    │            -2.0486     │     -1.78124    │         -1.3061     │             -3.61614   │              -3.57431    │                   -1.26894     │                                    -1.89533    │   -3.01375    │ -1.77821    │ -1.65051     │\n",
            "├─────┼───────────────────────────────────┼──────────────────────────────────────┼────────────────────────┼─────────────────┼─────────────────────┼────────────────────────┼──────────────────────────┼────────────────────────────────┼────────────────────────────────────────────────┼───────────────┼─────────────┼──────────────┤\n",
            "│ 257 │                       -1.16547    │                          -1.42851    │            -1.6559     │     -1.35255    │         -1.30854    │             -2.69326   │              -2.64761    │                   -1.28978     │                                    -1.24665    │   -2.06877    │ -1.3147     │ -1.13266     │\n",
            "├─────┼───────────────────────────────────┼──────────────────────────────────────┼────────────────────────┼─────────────────┼─────────────────────┼────────────────────────┼──────────────────────────┼────────────────────────────────┼────────────────────────────────────────────────┼───────────────┼─────────────┼──────────────┤\n",
            "│ 258 │                       -2.14446    │                          -2.4301     │            -2.29334    │     -2.17933    │         -1.39891    │             -5.81039   │              -5.77763    │                   -1.38497     │                                    -2.15777    │   -5.56061    │ -2.04561    │ -1.74113     │\n",
            "├─────┼───────────────────────────────────┼──────────────────────────────────────┼────────────────────────┼─────────────────┼─────────────────────┼────────────────────────┼──────────────────────────┼────────────────────────────────┼────────────────────────────────────────────────┼───────────────┼─────────────┼──────────────┤\n",
            "│ 259 │                       -1.75965    │                          -2.36766    │            -2.09674    │     -1.85444    │         -1.32151    │             -3.84363   │              -3.80274    │                   -1.27452     │                                    -1.95015    │   -3.24985    │ -1.83642    │ -1.68631     │\n",
            "├─────┼───────────────────────────────────┼──────────────────────────────────────┼────────────────────────┼─────────────────┼─────────────────────┼────────────────────────┼──────────────────────────┼────────────────────────────────┼────────────────────────────────────────────────┼───────────────┼─────────────┼──────────────┤\n",
            "│ 260 │                       -0.839881   │                          -0.760313   │            -1.22251    │     -0.624598   │         -0.967911   │             -1.7113    │              -1.66158    │                   -1.15452     │                                    -1.0623     │   -1.41517    │ -0.846818   │ -0.604237    │\n",
            "├─────┼───────────────────────────────────┼──────────────────────────────────────┼────────────────────────┼─────────────────┼─────────────────────┼────────────────────────┼──────────────────────────┼────────────────────────────────┼────────────────────────────────────────────────┼───────────────┼─────────────┼──────────────┤\n",
            "│ 261 │                        0.137266   │                           0.911167   │            -0.426831   │      0.333101   │         -0.852819   │              0.14586   │               0.203256   │                   -1.14141     │                                     0.0662115  │    0.363448   │  0.0770858  │  0.429965    │\n",
            "├─────┼───────────────────────────────────┼──────────────────────────────────────┼────────────────────────┼─────────────────┼─────────────────────┼────────────────────────┼──────────────────────────┼────────────────────────────────┼────────────────────────────────────────────────┼───────────────┼─────────────┼──────────────┤\n",
            "│ 262 │                       -2.08679    │                          -1.54       │            -1.96583    │     -1.80348    │         -1.37362    │             -5.51564   │              -5.48167    │                   -1.36948     │                                    -1.98362    │   -5.21432    │ -1.44193    │ -1.53128     │\n",
            "├─────┼───────────────────────────────────┼──────────────────────────────────────┼────────────────────────┼─────────────────┼─────────────────────┼────────────────────────┼──────────────────────────┼────────────────────────────────┼────────────────────────────────────────────────┼───────────────┼─────────────┼──────────────┤\n",
            "│ 263 │                       -1.92167    │                          -1.73703    │            -1.85841    │     -1.64123    │         -1.33477    │             -5.60178   │              -5.56817    │                   -1.3903      │                                    -1.8959     │   -5.31552    │ -1.31892    │ -1.19009     │\n",
            "├─────┼───────────────────────────────────┼──────────────────────────────────────┼────────────────────────┼─────────────────┼─────────────────────┼────────────────────────┼──────────────────────────┼────────────────────────────────┼────────────────────────────────────────────────┼───────────────┼─────────────┼──────────────┤\n",
            "│ 264 │                       -2.16431    │                          -2.06271    │            -2.18018    │     -2.07015    │         -1.31553    │             -5.91181   │              -5.87948    │                   -1.29002     │                                    -2.14512    │   -5.67978    │ -1.94271    │ -1.45798     │\n",
            "├─────┼───────────────────────────────────┼──────────────────────────────────────┼────────────────────────┼─────────────────┼─────────────────────┼────────────────────────┼──────────────────────────┼────────────────────────────────┼────────────────────────────────────────────────┼───────────────┼─────────────┼──────────────┤\n",
            "│ 265 │                       -1.18667    │                          -2.04999    │            -1.62374    │     -1.23896    │         -0.89797    │             -2.31212   │              -2.26489    │                   -1.15215     │                                    -1.22323    │   -1.72401    │ -1.20384    │ -1.29783     │\n",
            "├─────┼───────────────────────────────────┼──────────────────────────────────────┼────────────────────────┼─────────────────┼─────────────────────┼────────────────────────┼──────────────────────────┼────────────────────────────────┼────────────────────────────────────────────────┼───────────────┼─────────────┼──────────────┤\n",
            "│ 266 │                       -2.04386    │                          -2.41794    │            -2.24331    │     -2.09573    │         -1.38023    │             -5.29624   │              -5.26135    │                   -1.35795     │                                    -2.10349    │   -4.95653    │ -1.9913     │ -1.73144     │\n",
            "├─────┼───────────────────────────────────┼──────────────────────────────────────┼────────────────────────┼─────────────────┼─────────────────────┼────────────────────────┼──────────────────────────┼────────────────────────────────┼────────────────────────────────────────────────┼───────────────┼─────────────┼──────────────┤\n",
            "│ 267 │                        0.368757   │                           1.17236    │            -0.44218    │      0.0646569  │         -1.19177    │              0.14586   │               0.203256   │                   -1.29687     │                                     0.565777   │    0.710966   │  0.102083   │  0.452264    │\n",
            "├─────┼───────────────────────────────────┼──────────────────────────────────────┼────────────────────────┼─────────────────┼─────────────────────┼────────────────────────┼──────────────────────────┼────────────────────────────────┼────────────────────────────────────────────────┼───────────────┼─────────────┼──────────────┤\n",
            "│ 268 │                       -1.83324    │                          -1.876      │            -1.82909    │     -1.58483    │         -1.31654    │             -5.4888    │              -5.45471    │                   -1.3903      │                                    -1.86012    │   -5.18278    │ -1.3046     │ -1.07936     │\n",
            "├─────┼───────────────────────────────────┼──────────────────────────────────────┼────────────────────────┼─────────────────┼─────────────────────┼────────────────────────┼──────────────────────────┼────────────────────────────────┼────────────────────────────────────────────────┼───────────────┼─────────────┼──────────────┤\n",
            "│ 269 │                       -0.224805   │                           0.398444   │            -0.589458   │      0.250078   │         -0.720399   │             -0.542471  │              -0.487923   │                   -1.08638     │                                    -0.446307   │   -0.503587   │ -0.107442   │  0.244597    │\n",
            "├─────┼───────────────────────────────────┼──────────────────────────────────────┼────────────────────────┼─────────────────┼─────────────────────┼────────────────────────┼──────────────────────────┼────────────────────────────────┼────────────────────────────────────────────────┼───────────────┼─────────────┼──────────────┤\n",
            "│ 270 │                       -2.06355    │                          -2.22071    │            -2.18741    │     -2.04826    │         -1.30897    │             -5.39684   │              -5.36238    │                   -1.27452     │                                    -2.11411    │   -5.07474    │ -1.9841     │ -1.51066     │\n",
            "├─────┼───────────────────────────────────┼──────────────────────────────────────┼────────────────────────┼─────────────────┼─────────────────────┼────────────────────────┼──────────────────────────┼────────────────────────────────┼────────────────────────────────────────────────┼───────────────┼─────────────┼──────────────┤\n",
            "│ 271 │                       -2.16431    │                          -1.85888    │            -2.1106     │     -1.99111    │         -1.3355     │             -5.91181   │              -5.87948    │                   -1.31893     │                                    -2.10158    │   -5.67978    │ -1.77421    │ -1.46835     │\n",
            "├─────┼───────────────────────────────────┼──────────────────────────────────────┼────────────────────────┼─────────────────┼─────────────────────┼────────────────────────┼──────────────────────────┼────────────────────────────────┼────────────────────────────────────────────────┼───────────────┼─────────────┼──────────────┤\n",
            "│ 272 │                       -2.16431    │                          -2.42133    │            -2.29953    │     -2.19225    │         -1.39839    │             -5.91181   │              -5.87948    │                   -1.38534     │                                    -2.16847    │   -5.67978    │ -2.05533    │ -1.73058     │\n",
            "├─────┼───────────────────────────────────┼──────────────────────────────────────┼────────────────────────┼─────────────────┼─────────────────────┼────────────────────────┼──────────────────────────┼────────────────────────────────┼────────────────────────────────────────────────┼───────────────┼─────────────┼──────────────┤\n",
            "│ 273 │                       -2.16431    │                          -2.39048    │            -2.28938    │     -2.18239    │         -1.38682    │             -5.91181   │              -5.87948    │                   -1.37163     │                                    -2.16847    │   -5.67978    │ -2.05258    │ -1.69617     │\n",
            "├─────┼───────────────────────────────────┼──────────────────────────────────────┼────────────────────────┼─────────────────┼─────────────────────┼────────────────────────┼──────────────────────────┼────────────────────────────────┼────────────────────────────────────────────────┼───────────────┼─────────────┼──────────────┤\n",
            "│ 274 │                       -1.90735    │                          -2.08915    │            -1.96618    │     -1.75992    │         -1.29952    │             -5.58349   │              -5.5498     │                   -1.34355     │                                    -1.96053    │   -5.29403    │ -1.58911    │ -1.1554      │\n",
            "├─────┼───────────────────────────────────┼──────────────────────────────────────┼────────────────────────┼─────────────────┼─────────────────────┼────────────────────────┼──────────────────────────┼────────────────────────────────┼────────────────────────────────────────────────┼───────────────┼─────────────┼──────────────┤\n",
            "│ 275 │                       -1.73331    │                          -2.23012    │            -1.96216    │     -1.70069    │         -1.31106    │             -4.42377   │              -4.38528    │                   -1.32461     │                                    -1.88565    │   -3.93146    │ -1.59208    │ -1.37822     │\n",
            "├─────┼───────────────────────────────────┼──────────────────────────────────────┼────────────────────────┼─────────────────┼─────────────────────┼────────────────────────┼──────────────────────────┼────────────────────────────────┼────────────────────────────────────────────────┼───────────────┼─────────────┼──────────────┤\n",
            "│ 276 │                       -1.10601    │                          -1.24289    │            -1.48058    │     -0.985928   │         -1.07356    │             -2.30636   │              -2.25911    │                   -1.19027     │                                    -1.32253    │   -1.91456    │ -1.13778    │ -0.931089    │\n",
            "├─────┼───────────────────────────────────┼──────────────────────────────────────┼────────────────────────┼─────────────────┼─────────────────────┼────────────────────────┼──────────────────────────┼────────────────────────────────┼────────────────────────────────────────────────┼───────────────┼─────────────┼──────────────┤\n",
            "│ 277 │                       -2.16431    │                          -1.46414    │            -1.97586    │     -1.83804    │         -1.37418    │             -5.91181   │              -5.87948    │                   -1.37492     │                                    -2.01724    │   -5.67978    │ -1.44787    │ -1.48843     │\n",
            "├─────┼───────────────────────────────────┼──────────────────────────────────────┼────────────────────────┼─────────────────┼─────────────────────┼────────────────────────┼──────────────────────────┼────────────────────────────────┼────────────────────────────────────────────────┼───────────────┼─────────────┼──────────────┤\n",
            "│ 278 │                        0.0263279  │                           0.785996   │            -0.419475   │      0.461749   │         -0.690381   │              0.14586   │               0.203256   │                   -1.0669      │                                    -0.173197   │    0.196907   │  0.0651064  │  0.419278    │\n",
            "├─────┼───────────────────────────────────┼──────────────────────────────────────┼────────────────────────┼─────────────────┼─────────────────────┼────────────────────────┼──────────────────────────┼────────────────────────────────┼────────────────────────────────────────────────┼───────────────┼─────────────┼──────────────┤\n",
            "│ 279 │                        0.286749   │                           0.788939   │            -0.530681   │     -0.0632124  │         -1.12039    │              0.0596585 │               0.116697   │                   -1.27804     │                                     0.534393   │    0.689133   │  0.0349469  │  0.268897    │\n",
            "├─────┼───────────────────────────────────┼──────────────────────────────────────┼────────────────────────┼─────────────────┼─────────────────────┼────────────────────────┼──────────────────────────┼────────────────────────────────┼────────────────────────────────────────────────┼───────────────┼─────────────┼──────────────┤\n",
            "│ 280 │                       -1.7155     │                          -2.36963    │            -2.07372    │     -1.81813    │         -1.30876    │             -3.66351   │              -3.62187    │                   -1.27053     │                                    -1.91272    │   -3.04714    │ -1.80343    │ -1.68838     │\n",
            "├─────┼───────────────────────────────────┼──────────────────────────────────────┼────────────────────────┼─────────────────┼─────────────────────┼────────────────────────┼──────────────────────────┼────────────────────────────────┼────────────────────────────────────────────────┼───────────────┼─────────────┼──────────────┤\n",
            "│ 281 │                       -2.16431    │                          -1.44102    │            -1.96797    │     -1.82907    │         -1.37645    │             -5.91181   │              -5.87948    │                   -1.3782      │                                    -2.0123     │   -5.67978    │ -1.42875    │ -1.4896      │\n",
            "├─────┼───────────────────────────────────┼──────────────────────────────────────┼────────────────────────┼─────────────────┼─────────────────────┼────────────────────────┼──────────────────────────┼────────────────────────────────┼────────────────────────────────────────────────┼───────────────┼─────────────┼──────────────┤\n",
            "│ 282 │                       -1.43565    │                          -2.08016    │            -1.74761    │     -1.44592    │         -0.944267   │             -3.58426   │              -3.54229    │                   -1.21903     │                                    -1.35767    │   -3.21858    │ -1.33835    │ -1.32191     │\n",
            "├─────┼───────────────────────────────────┼──────────────────────────────────────┼────────────────────────┼─────────────────┼─────────────────────┼────────────────────────┼──────────────────────────┼────────────────────────────────┼────────────────────────────────────────────────┼───────────────┼─────────────┼──────────────┤\n",
            "│ 283 │                       -1.51792    │                          -1.98982    │            -1.88001    │     -1.54519    │         -1.23708    │             -3.2274    │              -3.18396    │                   -1.24559     │                                    -1.72532    │   -2.68752    │ -1.58813    │ -1.43699     │\n",
            "├─────┼───────────────────────────────────┼──────────────────────────────────────┼────────────────────────┼─────────────────┼─────────────────────┼────────────────────────┼──────────────────────────┼────────────────────────────────┼────────────────────────────────────────────────┼───────────────┼─────────────┼──────────────┤\n",
            "│ 284 │                        0.169857   │                           0.94794    │            -0.428992   │      0.295307   │         -0.90054    │              0.14586   │               0.203256   │                   -1.16329     │                                     0.136545   │    0.412375   │  0.0806051  │  0.433104    │\n",
            "├─────┼───────────────────────────────────┼──────────────────────────────────────┼────────────────────────┼─────────────────┼─────────────────────┼────────────────────────┼──────────────────────────┼────────────────────────────────┼────────────────────────────────────────────────┼───────────────┼─────────────┼──────────────┤\n",
            "│ 285 │                       -1.73331    │                          -2.03914    │            -1.8011     │     -1.52665    │         -1.2964     │             -5.33215   │              -5.29742    │                   -1.38827     │                                    -1.82172    │   -4.99873    │ -1.2978     │ -0.967324    │\n",
            "├─────┼───────────────────────────────────┼──────────────────────────────────────┼────────────────────────┼─────────────────┼─────────────────────┼────────────────────────┼──────────────────────────┼────────────────────────────────┼────────────────────────────────────────────────┼───────────────┼─────────────┼──────────────┤\n",
            "│ 286 │                       -2.16431    │                          -2.08114    │            -2.18647    │     -2.0773     │         -1.31372    │             -5.91181   │              -5.87948    │                   -1.28741     │                                    -2.14906    │   -5.67978    │ -1.95795    │ -1.45705     │\n",
            "├─────┼───────────────────────────────────┼──────────────────────────────────────┼────────────────────────┼─────────────────┼─────────────────────┼────────────────────────┼──────────────────────────┼────────────────────────────────┼────────────────────────────────────────────────┼───────────────┼─────────────┼──────────────┤\n",
            "│ 287 │                       -1.50204    │                          -1.95182    │            -1.74543    │     -1.46294    │         -0.925812   │             -3.79632   │              -3.75524    │                   -1.16333     │                                    -1.43154    │   -3.44282    │ -1.38944    │ -1.1813      │\n",
            "├─────┼───────────────────────────────────┼──────────────────────────────────────┼────────────────────────┼─────────────────┼─────────────────────┼────────────────────────┼──────────────────────────┼────────────────────────────────┼────────────────────────────────────────────────┼───────────────┼─────────────┼──────────────┤\n",
            "│ 288 │                       -0.298484   │                           0.279683   │            -0.648387   │      0.163569   │         -0.74851    │             -0.777826  │              -0.724252   │                   -1.10122     │                                    -0.513386   │   -0.724804   │ -0.165123   │  0.186043    │\n",
            "├─────┼───────────────────────────────────┼──────────────────────────────────────┼────────────────────────┼─────────────────┼─────────────────────┼────────────────────────┼──────────────────────────┼────────────────────────────────┼────────────────────────────────────────────────┼───────────────┼─────────────┼──────────────┤\n",
            "│ 289 │                       -2.01898    │                          -2.41493    │            -2.23094    │     -2.07505    │         -1.37562    │             -5.16908   │              -5.13367    │                   -1.35126     │                                    -2.09007    │   -4.80713    │ -1.97787    │ -1.72905     │\n",
            "├─────┼───────────────────────────────────┼──────────────────────────────────────┼────────────────────────┼─────────────────┼─────────────────────┼────────────────────────┼──────────────────────────┼────────────────────────────────┼────────────────────────────────────────────────┼───────────────┼─────────────┼──────────────┤\n",
            "│ 290 │                       -1.20855    │                          -2.06321    │            -1.64235    │     -1.26291    │         -0.91496    │             -2.36801   │              -2.32102    │                   -1.15705     │                                    -1.25175    │   -1.77873    │ -1.22864    │ -1.31398     │\n",
            "├─────┼───────────────────────────────────┼──────────────────────────────────────┼────────────────────────┼─────────────────┼─────────────────────┼────────────────────────┼──────────────────────────┼────────────────────────────────┼────────────────────────────────────────────────┼───────────────┼─────────────┼──────────────┤\n",
            "│ 291 │                       -1.74958    │                          -2.34172    │            -2.08322    │     -1.83607    │         -1.32494    │             -3.79217   │              -3.75106    │                   -1.27889     │                                    -1.93814    │   -3.18939    │ -1.80606    │ -1.69369     │\n",
            "├─────┼───────────────────────────────────┼──────────────────────────────────────┼────────────────────────┼─────────────────┼─────────────────────┼────────────────────────┼──────────────────────────┼────────────────────────────────┼────────────────────────────────────────────────┼───────────────┼─────────────┼──────────────┤\n",
            "│ 292 │                       -2.16431    │                          -2.04842    │            -2.17325    │     -2.05321    │         -1.39625    │             -5.91181   │              -5.87948    │                   -1.3903      │                                    -2.10627    │   -5.67978    │ -1.80732    │ -1.65419     │\n",
            "├─────┼───────────────────────────────────┼──────────────────────────────────────┼────────────────────────┼─────────────────┼─────────────────────┼────────────────────────┼──────────────────────────┼────────────────────────────────┼────────────────────────────────────────────────┼───────────────┼─────────────┼──────────────┤\n",
            "│ 293 │                       -1.99626    │                          -1.6198     │            -1.88314    │     -1.68881    │         -1.35016    │             -5.6971    │              -5.66388    │                   -1.3903      │                                    -1.92608    │   -5.42751    │ -1.331      │ -1.28351     │\n",
            "├─────┼───────────────────────────────────┼──────────────────────────────────────┼────────────────────────┼─────────────────┼─────────────────────┼────────────────────────┼──────────────────────────┼────────────────────────────────┼────────────────────────────────────────────────┼───────────────┼─────────────┼──────────────┤\n",
            "│ 294 │                       -2.0657     │                          -2.34111    │            -2.18715    │     -2.04145    │         -1.37819    │             -5.78582   │              -5.75296    │                   -1.3903      │                                    -2.08867    │   -5.53175    │ -1.88063    │ -1.56257     │\n",
            "├─────┼───────────────────────────────────┼──────────────────────────────────────┼────────────────────────┼─────────────────┼─────────────────────┼────────────────────────┼──────────────────────────┼────────────────────────────────┼────────────────────────────────────────────────┼───────────────┼─────────────┼──────────────┤\n",
            "│ 295 │                       -1.9807     │                          -2.1128     │            -2.03791    │     -1.86057    │         -1.30103    │             -5.67721   │              -5.6439     │                   -1.32385     │                                    -2.01988    │   -5.40414    │ -1.71583    │ -1.24018     │\n",
            "├─────┼───────────────────────────────────┼──────────────────────────────────────┼────────────────────────┼─────────────────┼─────────────────────┼────────────────────────┼──────────────────────────┼────────────────────────────────┼────────────────────────────────────────────────┼───────────────┼─────────────┼──────────────┤\n",
            "│ 296 │                       -1.73331    │                          -2.31318    │            -2.0322     │     -1.77638    │         -1.31743    │             -4.02873   │              -3.9886     │                   -1.29693     │                                    -1.91345    │   -3.46733    │ -1.72005    │ -1.55691     │\n",
            "├─────┼───────────────────────────────────┼──────────────────────────────────────┼────────────────────────┼─────────────────┼─────────────────────┼────────────────────────┼──────────────────────────┼────────────────────────────────┼────────────────────────────────────────────────┼───────────────┼─────────────┼──────────────┤\n",
            "│ 297 │                       -2.15511    │                          -2.42398    │            -2.29239    │     -2.18144    │         -1.40031    │             -5.90007   │              -5.86768    │                   -1.3903      │                                    -2.16103    │   -5.66598    │ -2.03995    │ -1.72622     │\n",
            "├─────┼───────────────────────────────────┼──────────────────────────────────────┼────────────────────────┼─────────────────┼─────────────────────┼────────────────────────┼──────────────────────────┼────────────────────────────────┼────────────────────────────────────────────────┼───────────────┼─────────────┼──────────────┤\n",
            "│ 298 │                       -1.15764    │                          -1.94572    │            -1.53562    │     -1.15979    │         -0.769395   │             -2.69618   │              -2.65054    │                   -1.15368     │                                    -1.04831    │   -2.27951    │ -1.06441    │ -1.16122     │\n",
            "├─────┼───────────────────────────────────┼──────────────────────────────────────┼────────────────────────┼─────────────────┼─────────────────────┼────────────────────────┼──────────────────────────┼────────────────────────────────┼────────────────────────────────────────────────┼───────────────┼─────────────┼──────────────┤\n",
            "│ 299 │                       -0.248369   │                          -0.554657   │            -0.734115   │     -0.00975252 │         -0.460711   │             -0.15958   │              -0.103448   │                   -1.01085     │                                    -0.250124   │    0.143393   │ -0.171062   │ -0.228917    │\n",
            "├─────┼───────────────────────────────────┼──────────────────────────────────────┼────────────────────────┼─────────────────┼─────────────────────┼────────────────────────┼──────────────────────────┼────────────────────────────────┼────────────────────────────────────────────────┼───────────────┼─────────────┼──────────────┤\n",
            "│ 300 │                       -1.89201    │                          -1.39411    │            -1.78877    │     -1.5789     │         -1.21635    │             -5.04202   │              -5.00609    │                   -1.3263      │                                    -1.71863    │   -4.76005    │ -1.20018    │ -1.37591     │\n",
            "├─────┼───────────────────────────────────┼──────────────────────────────────────┼────────────────────────┼─────────────────┼─────────────────────┼────────────────────────┼──────────────────────────┼────────────────────────────────┼────────────────────────────────────────────────┼───────────────┼─────────────┼──────────────┤\n",
            "│ 301 │                       -2.16431    │                          -1.51819    │            -1.99431    │     -1.859      │         -1.36889    │             -5.91181   │              -5.87948    │                   -1.36726     │                                    -2.02879    │   -5.67978    │ -1.49255    │ -1.48568     │\n",
            "├─────┼───────────────────────────────────┼──────────────────────────────────────┼────────────────────────┼─────────────────┼─────────────────────┼────────────────────────┼──────────────────────────┼────────────────────────────────┼────────────────────────────────────────────────┼───────────────┼─────────────┼──────────────┤\n",
            "│ 302 │                       -0.958805   │                          -0.180136   │            -1.08759    │     -0.509884   │         -0.967149   │             -2.52315   │              -2.47679    │                   -1.196       │                                    -1.01851    │   -2.42229    │ -0.564165   │ -0.425606    │\n",
            "├─────┼───────────────────────────────────┼──────────────────────────────────────┼────────────────────────┼─────────────────┼─────────────────────┼────────────────────────┼──────────────────────────┼────────────────────────────────┼────────────────────────────────────────────────┼───────────────┼─────────────┼──────────────┤\n",
            "│ 303 │                       -0.870296   │                          -1.85875    │            -1.35453    │     -0.892458   │         -0.652209   │             -1.50363   │              -1.45306    │                   -1.08133     │                                    -0.810736   │   -0.932423   │ -0.845125   │ -1.06418     │\n",
            "├─────┼───────────────────────────────────┼──────────────────────────────────────┼────────────────────────┼─────────────────┼─────────────────────┼────────────────────────┼──────────────────────────┼────────────────────────────────┼────────────────────────────────────────────────┼───────────────┼─────────────┼──────────────┤\n",
            "│ 304 │                       -1.64495    │                          -2.32699    │            -2.0137     │     -1.74087    │         -1.25396    │             -3.48323   │              -3.44085    │                   -1.25474     │                                    -1.82074    │   -2.87063    │ -1.72345    │ -1.63628     │\n",
            "├─────┼───────────────────────────────────┼──────────────────────────────────────┼────────────────────────┼─────────────────┼─────────────────────┼────────────────────────┼──────────────────────────┼────────────────────────────────┼────────────────────────────────────────────────┼───────────────┼─────────────┼──────────────┤\n",
            "│ 305 │                       -2.16431    │                          -2.04988    │            -2.17374    │     -2.05375    │         -1.39627    │             -5.91181   │              -5.87948    │                   -1.3903      │                                    -2.1065     │   -5.67978    │ -1.80827    │ -1.65453     │\n",
            "├─────┼───────────────────────────────────┼──────────────────────────────────────┼────────────────────────┼─────────────────┼─────────────────────┼────────────────────────┼──────────────────────────┼────────────────────────────────┼────────────────────────────────────────────────┼───────────────┼─────────────┼──────────────┤\n",
            "│ 306 │                       -2.02899    │                          -2.30709    │            -2.14395    │     -1.98399    │         -1.3691     │             -5.73891   │              -5.70586    │                   -1.3903      │                                    -2.05896    │   -5.47664    │ -1.81523    │ -1.49538     │\n",
            "├─────┼───────────────────────────────────┼──────────────────────────────────────┼────────────────────────┼─────────────────┼─────────────────────┼────────────────────────┼──────────────────────────┼────────────────────────────────┼────────────────────────────────────────────────┼───────────────┼─────────────┼──────────────┤\n",
            "│ 307 │                       -0.212074   │                           0.597878   │            -0.811621   │     -0.437665   │         -1.29758    │             -1.33871   │              -1.28745    │                   -1.3466      │                                     0.0246473  │   -0.79525    │ -0.251483   │ -0.0208484   │\n",
            "├─────┼───────────────────────────────────┼──────────────────────────────────────┼────────────────────────┼─────────────────┼─────────────────────┼────────────────────────┼──────────────────────────┼────────────────────────────────┼────────────────────────────────────────────────┼───────────────┼─────────────┼──────────────┤\n",
            "│ 308 │                        0.107932   │                           0.201677   │            -0.643317   │     -0.151341   │         -0.923099   │             -0.054581  │               0.00198532 │                   -1.20599     │                                     0.341446   │    0.554912   │ -0.0615988  │  0.0191342   │\n",
            "├─────┼───────────────────────────────────┼──────────────────────────────────────┼────────────────────────┼─────────────────┼─────────────────────┼────────────────────────┼──────────────────────────┼────────────────────────────────┼────────────────────────────────────────────────┼───────────────┼─────────────┼──────────────┤\n",
            "│ 309 │                       -2.16431    │                          -2.28209    │            -2.25371    │     -2.14773    │         -1.34614    │             -5.91181   │              -5.87948    │                   -1.32346     │                                    -2.16847    │   -5.67978    │ -2.04289    │ -1.57525     │\n",
            "├─────┼───────────────────────────────────┼──────────────────────────────────────┼────────────────────────┼─────────────────┼─────────────────────┼────────────────────────┼──────────────────────────┼────────────────────────────────┼────────────────────────────────────────────────┼───────────────┼─────────────┼──────────────┤\n",
            "│ 310 │                       -0.715182   │                          -0.534191   │            -1.10159    │     -0.45529    │         -0.918407   │             -1.43247   │              -1.3816     │                   -1.13777     │                                    -0.940359   │   -1.18117    │ -0.710481   │ -0.451084    │\n",
            "├─────┼───────────────────────────────────┼──────────────────────────────────────┼────────────────────────┼─────────────────┼─────────────────────┼────────────────────────┼──────────────────────────┼────────────────────────────────┼────────────────────────────────────────────────┼───────────────┼─────────────┼──────────────┤\n",
            "│ 311 │                       -2.1112     │                          -1.48197    │            -1.95734    │     -1.80112    │         -1.37715    │             -5.64039   │              -5.60693    │                   -1.37604     │                                    -1.98691    │   -5.36088    │ -1.41557    │ -1.51952     │\n",
            "├─────┼───────────────────────────────────┼──────────────────────────────────────┼────────────────────────┼─────────────────┼─────────────────────┼────────────────────────┼──────────────────────────┼────────────────────────────────┼────────────────────────────────────────────────┼───────────────┼─────────────┼──────────────┤\n",
            "│ 312 │                       -1.7937     │                          -1.93814    │            -1.81598    │     -1.55962    │         -1.30838    │             -5.43828   │              -5.40399    │                   -1.3903      │                                    -1.84412    │   -5.12342    │ -1.29819    │ -1.02985     │\n",
            "├─────┼───────────────────────────────────┼──────────────────────────────────────┼────────────────────────┼─────────────────┼─────────────────────┼────────────────────────┼──────────────────────────┼────────────────────────────────┼────────────────────────────────────────────────┼───────────────┼─────────────┼──────────────┤\n",
            "│ 313 │                       -0.297205   │                          -1.12886    │            -0.898511   │     -0.351011   │         -0.476102   │             -0.313409  │              -0.257913   │                   -1.04274     │                                    -0.0957042  │    0.250814   │ -0.280338   │ -0.546744    │\n",
            "├─────┼───────────────────────────────────┼──────────────────────────────────────┼────────────────────────┼─────────────────┼─────────────────────┼────────────────────────┼──────────────────────────┼────────────────────────────────┼────────────────────────────────────────────────┼───────────────┼─────────────┼──────────────┤\n",
            "│ 314 │                       -1.98059    │                          -1.64444    │            -1.87794    │     -1.67881    │         -1.34692    │             -5.67707   │              -5.64376    │                   -1.3903      │                                    -1.91974    │   -5.40397    │ -1.32847    │ -1.26388     │\n",
            "├─────┼───────────────────────────────────┼──────────────────────────────────────┼────────────────────────┼─────────────────┼─────────────────────┼────────────────────────┼──────────────────────────┼────────────────────────────────┼────────────────────────────────────────────────┼───────────────┼─────────────┼──────────────┤\n",
            "│ 315 │                       -2.08236    │                          -1.48449    │            -1.91168    │     -1.74372    │         -1.36791    │             -5.80711   │              -5.77434    │                   -1.3903      │                                    -1.96092    │   -5.55676    │ -1.34495    │ -1.39133     │\n",
            "├─────┼───────────────────────────────────┼──────────────────────────────────────┼────────────────────────┼─────────────────┼─────────────────────┼────────────────────────┼──────────────────────────┼────────────────────────────────┼────────────────────────────────────────────────┼───────────────┼─────────────┼──────────────┤\n",
            "│ 316 │                       -2.00866    │                          -2.41369    │            -2.22581    │     -2.06647    │         -1.3737     │             -5.11631   │              -5.08068    │                   -1.34849     │                                    -2.0845     │   -4.74513    │ -1.97229    │ -1.72805     │\n",
            "├─────┼───────────────────────────────────┼──────────────────────────────────────┼────────────────────────┼─────────────────┼─────────────────────┼────────────────────────┼──────────────────────────┼────────────────────────────────┼────────────────────────────────────────────────┼───────────────┼─────────────┼──────────────┤\n",
            "│ 317 │                       -1.97977    │                          -2.41019    │            -2.21144    │     -2.04247    │         -1.36834    │             -4.96868   │              -4.93244    │                   -1.34073     │                                    -2.06891    │   -4.57168    │ -1.9567     │ -1.72527     │\n",
            "├─────┼───────────────────────────────────┼──────────────────────────────────────┼────────────────────────┼─────────────────┼─────────────────────┼────────────────────────┼──────────────────────────┼────────────────────────────────┼────────────────────────────────────────────────┼───────────────┼─────────────┼──────────────┤\n",
            "│ 318 │                        0.203677   │                           0.986099   │            -0.431234   │      0.256089   │         -0.95006    │              0.14586   │               0.203256   │                   -1.18601     │                                     0.209529   │    0.463146   │  0.0842571  │  0.436362    │\n",
            "├─────┼───────────────────────────────────┼──────────────────────────────────────┼────────────────────────┼─────────────────┼─────────────────────┼────────────────────────┼──────────────────────────┼────────────────────────────────┼────────────────────────────────────────────────┼───────────────┼─────────────┼──────────────┤\n",
            "│ 319 │                       -2.01391    │                          -2.24471    │            -2.1726     │     -2.01661    │         -1.31102    │             -5.14315   │              -5.10764    │                   -1.27452     │                                    -2.08733    │   -4.77667    │ -1.95998    │ -1.53935     │\n",
            "├─────┼───────────────────────────────────┼──────────────────────────────────────┼────────────────────────┼─────────────────┼─────────────────────┼────────────────────────┼──────────────────────────┼────────────────────────────────┼────────────────────────────────────────────────┼───────────────┼─────────────┼──────────────┤\n",
            "│ 320 │                       -1.65565    │                          -2.33346    │            -2.0228     │     -1.75259    │         -1.26227    │             -3.51058   │              -3.46831    │                   -1.25714     │                                    -1.8347     │   -2.89741    │ -1.73558    │ -1.64418     │\n",
            "├─────┼───────────────────────────────────┼──────────────────────────────────────┼────────────────────────┼─────────────────┼─────────────────────┼────────────────────────┼──────────────────────────┼────────────────────────────────┼────────────────────────────────────────────────┼───────────────┼─────────────┼──────────────┤\n",
            "│ 321 │                       -2.08166    │                          -2.42251    │            -2.26211    │     -2.12714    │         -1.38725    │             -5.48943   │              -5.45535    │                   -1.3681      │                                    -2.12388    │   -5.18352    │ -2.01171    │ -1.73509     │\n",
            "├─────┼───────────────────────────────────┼──────────────────────────────────────┼────────────────────────┼─────────────────┼─────────────────────┼────────────────────────┼──────────────────────────┼────────────────────────────────┼────────────────────────────────────────────────┼───────────────┼─────────────┼──────────────┤\n",
            "│ 322 │                       -1.73331    │                          -2.3376     │            -2.05279    │     -1.79864    │         -1.31931    │             -3.91259   │              -3.87198    │                   -1.28879     │                                    -1.92162    │   -3.33087    │ -1.75768    │ -1.60945     │\n",
            "├─────┼───────────────────────────────────┼──────────────────────────────────────┼────────────────────────┼─────────────────┼─────────────────────┼────────────────────────┼──────────────────────────┼────────────────────────────────┼────────────────────────────────────────────────┼───────────────┼─────────────┼──────────────┤\n",
            "│ 323 │                       -1.77319    │                          -2.28558    │            -2.075      │     -1.83378    │         -1.32835    │             -3.91286   │              -3.87226    │                   -1.28524     │                                    -1.94132    │   -3.3312     │ -1.78056    │ -1.68232     │\n",
            "├─────┼───────────────────────────────────┼──────────────────────────────────────┼────────────────────────┼─────────────────┼─────────────────────┼────────────────────────┼──────────────────────────┼────────────────────────────────┼────────────────────────────────────────────────┼───────────────┼─────────────┼──────────────┤\n",
            "│ 324 │                       -0.857866   │                          -1.73907    │            -1.24936    │     -0.776625   │         -0.633943   │             -2.00538   │              -1.95689    │                   -1.11593     │                                    -0.756985   │   -1.52816    │ -0.658194   │ -0.813671    │\n",
            "├─────┼───────────────────────────────────┼──────────────────────────────────────┼────────────────────────┼─────────────────┼─────────────────────┼────────────────────────┼──────────────────────────┼────────────────────────────────┼────────────────────────────────────────────────┼───────────────┼─────────────┼──────────────┤\n",
            "│ 325 │                       -1.73331    │                          -2.144      │            -1.88953    │     -1.62221    │         -1.30445    │             -4.8334    │              -4.7966     │                   -1.35332     │                                    -1.85682    │   -4.41274    │ -1.45937    │ -1.19293     │\n",
            "├─────┼───────────────────────────────────┼──────────────────────────────────────┼────────────────────────┼─────────────────┼─────────────────────┼────────────────────────┼──────────────────────────┼────────────────────────────────┼────────────────────────────────────────────────┼───────────────┼─────────────┼──────────────┤\n",
            "│ 326 │                       -1.84968    │                          -1.85016    │            -1.83454    │     -1.59532    │         -1.31993    │             -5.50981   │              -5.47581    │                   -1.3903      │                                    -1.86677    │   -5.20746    │ -1.30726    │ -1.09995     │\n",
            "├─────┼───────────────────────────────────┼──────────────────────────────────────┼────────────────────────┼─────────────────┼─────────────────────┼────────────────────────┼──────────────────────────┼────────────────────────────────┼────────────────────────────────────────────────┼───────────────┼─────────────┼──────────────┤\n",
            "│ 327 │                       -1.9596     │                          -2.106      │            -2.01727    │     -1.83162    │         -1.30059    │             -5.65025   │              -5.61684    │                   -1.32951     │                                    -2.00281    │   -5.37247    │ -1.67938    │ -1.2158      │\n",
            "├─────┼───────────────────────────────────┼──────────────────────────────────────┼────────────────────────┼─────────────────┼─────────────────────┼────────────────────────┼──────────────────────────┼────────────────────────────────┼────────────────────────────────────────────────┼───────────────┼─────────────┼──────────────┤\n",
            "│ 328 │                       -1.97511    │                          -2.26347    │            -2.16103    │     -1.99186    │         -1.31262    │             -4.94486   │              -4.90853    │                   -1.27452     │                                    -2.0664     │   -4.5437     │ -1.94112    │ -1.56177     │\n",
            "├─────┼───────────────────────────────────┼──────────────────────────────────────┼────────────────────────┼─────────────────┼─────────────────────┼────────────────────────┼──────────────────────────┼────────────────────────────────┼────────────────────────────────────────────────┼───────────────┼─────────────┼──────────────┤\n",
            "│ 329 │                        0.0525937  │                           0.0199375  │            -0.678174   │     -0.178614   │         -0.862043   │             -0.0899347 │              -0.0335146  │                   -1.18369     │                                     0.281735   │    0.513375   │ -0.0914768  │ -0.05816     │\n",
            "├─────┼───────────────────────────────────┼──────────────────────────────────────┼────────────────────────┼─────────────────┼─────────────────────┼────────────────────────┼──────────────────────────┼────────────────────────────────┼────────────────────────────────────────────────┼───────────────┼─────────────┼──────────────┤\n",
            "│ 330 │                        0.0952213  │                           0.684819   │            -0.694615   │     -0.275593   │         -1.27734    │             -0.438113  │              -0.383133   │                   -1.32364     │                                     0.283699   │    0.202314   │ -0.184793   │  0.130313    │\n",
            "├─────┼───────────────────────────────────┼──────────────────────────────────────┼────────────────────────┼─────────────────┼─────────────────────┼────────────────────────┼──────────────────────────┼────────────────────────────────┼────────────────────────────────────────────────┼───────────────┼─────────────┼──────────────┤\n",
            "│ 331 │                       -2.16431    │                          -2.3382     │            -2.27218    │     -2.16567    │         -1.3672     │             -5.91181   │              -5.87948    │                   -1.34839     │                                    -2.16847    │   -5.67978    │ -2.04791    │ -1.63785     │\n",
            "├─────┼───────────────────────────────────┼──────────────────────────────────────┼────────────────────────┼─────────────────┼─────────────────────┼────────────────────────┼──────────────────────────┼────────────────────────────────┼────────────────────────────────────────────────┼───────────────┼─────────────┼──────────────┤\n",
            "│ 332 │                       -0.517325   │                          -0.342008   │            -1.16168    │     -0.798868   │         -1.2925     │             -1.53385   │              -1.4834     │                   -1.30719     │                                    -0.459867   │   -0.90116    │ -0.733791   │ -0.483342    │\n",
            "├─────┼───────────────────────────────────┼──────────────────────────────────────┼────────────────────────┼─────────────────┼─────────────────────┼────────────────────────┼──────────────────────────┼────────────────────────────────┼────────────────────────────────────────────────┼───────────────┼─────────────┼──────────────┤\n",
            "│ 333 │                        0.3968     │                           1.204      │            -0.444039   │      0.0321379  │         -1.23283    │              0.14586   │               0.203256   │                   -1.3157      │                                     0.626294   │    0.753063   │  0.105111   │  0.454965    │\n",
            "├─────┼───────────────────────────────────┼──────────────────────────────────────┼────────────────────────┼─────────────────┼─────────────────────┼────────────────────────┼──────────────────────────┼────────────────────────────────┼────────────────────────────────────────────────┼───────────────┼─────────────┼──────────────┤\n",
            "│ 334 │                        0.109752   │                           0.880123   │            -0.425007   │      0.365008   │         -0.812532   │              0.14586   │               0.203256   │                   -1.12293     │                                     0.00683496 │    0.322144   │  0.0741147  │  0.427314    │\n",
            "├─────┼───────────────────────────────────┼──────────────────────────────────────┼────────────────────────┼─────────────────┼─────────────────────┼────────────────────────┼──────────────────────────┼────────────────────────────────┼────────────────────────────────────────────────┼───────────────┼─────────────┼──────────────┤\n",
            "│ 335 │                       -2.16431    │                          -2.34736    │            -2.27519    │     -2.1686     │         -1.37064    │             -5.91181   │              -5.87948    │                   -1.35246     │                                    -2.16847    │   -5.67978    │ -2.04872    │ -1.64807     │\n",
            "├─────┼───────────────────────────────────┼──────────────────────────────────────┼────────────────────────┼─────────────────┼─────────────────────┼────────────────────────┼──────────────────────────┼────────────────────────────────┼────────────────────────────────────────────────┼───────────────┼─────────────┼──────────────┤\n",
            "│ 336 │                       -1.34222    │                          -1.89869    │            -1.63151    │     -1.30618    │         -0.834347   │             -3.2858    │              -3.2426     │                   -1.1365      │                                    -1.2537     │   -2.90298    │ -1.23411    │ -1.11587     │\n",
            "├─────┼───────────────────────────────────┼──────────────────────────────────────┼────────────────────────┼─────────────────┼─────────────────────┼────────────────────────┼──────────────────────────┼────────────────────────────────┼────────────────────────────────────────────────┼───────────────┼─────────────┼──────────────┤\n",
            "│ 337 │                       -2.14192    │                          -1.40893    │            -1.94664    │     -1.79815    │         -1.38158    │             -5.7974    │              -5.76459    │                   -1.38429     │                                    -1.99106    │   -5.54535    │ -1.3824     │ -1.50473     │\n",
            "├─────┼───────────────────────────────────┼──────────────────────────────────────┼────────────────────────┼─────────────────┼─────────────────────┼────────────────────────┼──────────────────────────┼────────────────────────────────┼────────────────────────────────────────────────┼───────────────┼─────────────┼──────────────┤\n",
            "│ 338 │                       -1.79022    │                          -1.94362    │            -1.81483    │     -1.55739    │         -1.30766    │             -5.43383   │              -5.39951    │                   -1.3903      │                                    -1.84271    │   -5.11819    │ -1.29763    │ -1.02548     │\n",
            "├─────┼───────────────────────────────────┼──────────────────────────────────────┼────────────────────────┼─────────────────┼─────────────────────┼────────────────────────┼──────────────────────────┼────────────────────────────────┼────────────────────────────────────────────────┼───────────────┼─────────────┼──────────────┤\n",
            "│ 339 │                       -1.85101    │                          -2.32348    │            -2.124      │     -1.91271    │         -1.31774    │             -4.3106    │              -4.27164    │                   -1.27452     │                                    -1.99945    │   -3.7985     │ -1.88082    │ -1.6335      │\n",
            "├─────┼───────────────────────────────────┼──────────────────────────────────────┼────────────────────────┼─────────────────┼─────────────────────┼────────────────────────┼──────────────────────────┼────────────────────────────────┼────────────────────────────────────────────────┼───────────────┼─────────────┼──────────────┤\n",
            "│ 340 │                       -1.90583    │                          -2.19294    │            -1.999      │     -1.79117    │         -1.33862    │             -5.58155   │              -5.54784    │                   -1.3903      │                                    -1.95929    │   -5.29174    │ -1.59579    │ -1.26997     │\n",
            "├─────┼───────────────────────────────────┼──────────────────────────────────────┼────────────────────────┼─────────────────┼─────────────────────┼────────────────────────┼──────────────────────────┼────────────────────────────────┼────────────────────────────────────────────────┼───────────────┼─────────────┼──────────────┤\n",
            "│ 341 │                       -0.994122   │                          -0.841582   │            -1.20476    │     -0.653198   │         -1.01391    │             -2.99991   │              -2.95553    │                   -1.24137     │                                    -1.14671    │   -2.8134     │ -0.709721   │ -0.366784    │\n",
            "├─────┼───────────────────────────────────┼──────────────────────────────────────┼────────────────────────┼─────────────────┼─────────────────────┼────────────────────────┼──────────────────────────┼────────────────────────────────┼────────────────────────────────────────────────┼───────────────┼─────────────┼──────────────┤\n",
            "│ 342 │                        0.370182   │                           1.17397    │            -0.442275   │      0.0630039  │         -1.19386    │              0.14586   │               0.203256   │                   -1.29783     │                                     0.568853   │    0.713106   │  0.102237   │  0.452401    │\n",
            "├─────┼───────────────────────────────────┼──────────────────────────────────────┼────────────────────────┼─────────────────┼─────────────────────┼────────────────────────┼──────────────────────────┼────────────────────────────────┼────────────────────────────────────────────────┼───────────────┼─────────────┼──────────────┤\n",
            "│ 343 │                       -0.352473   │                          -1.12098    │            -0.872167   │     -0.233088   │         -0.383422   │             -0.292596  │              -0.237015   │                   -0.99687     │                                    -0.250124   │    0.143393   │ -0.272235   │ -0.509704    │\n",
            "├─────┼───────────────────────────────────┼──────────────────────────────────────┼────────────────────────┼─────────────────┼─────────────────────┼────────────────────────┼──────────────────────────┼────────────────────────────────┼────────────────────────────────────────────────┼───────────────┼─────────────┼──────────────┤\n",
            "│ 344 │                       -2.02477    │                          -2.30318    │            -2.13899    │     -1.97738    │         -1.36806    │             -5.73352   │              -5.70045    │                   -1.3903      │                                    -2.05555    │   -5.47031    │ -1.80771    │ -1.48766     │\n",
            "├─────┼───────────────────────────────────┼──────────────────────────────────────┼────────────────────────┼─────────────────┼─────────────────────┼────────────────────────┼──────────────────────────┼────────────────────────────────┼────────────────────────────────────────────────┼───────────────┼─────────────┼──────────────┤\n",
            "│ 345 │                       -1.78315    │                          -2.3563     │            -2.10375    │     -1.86942    │         -1.32054    │             -3.96373   │              -3.92334    │                   -1.27452     │                                    -1.96283    │   -3.39096    │ -1.84784    │ -1.67273     │\n",
            "├─────┼───────────────────────────────────┼──────────────────────────────────────┼────────────────────────┼─────────────────┼─────────────────────┼────────────────────────┼──────────────────────────┼────────────────────────────────┼────────────────────────────────────────────────┼───────────────┼─────────────┼──────────────┤\n",
            "│ 346 │                       -1.65952    │                          -1.4269     │            -1.66063    │     -1.39355    │         -1.07251    │             -4.29937   │              -4.26036    │                   -1.27165     │                                    -1.48345    │   -3.97475    │ -1.06524    │ -1.27513     │\n",
            "├─────┼───────────────────────────────────┼──────────────────────────────────────┼────────────────────────┼─────────────────┼─────────────────────┼────────────────────────┼──────────────────────────┼────────────────────────────────┼────────────────────────────────────────────────┼───────────────┼─────────────┼──────────────┤\n",
            "│ 347 │                       -1.73331    │                          -2.20154    │            -1.93806    │     -1.67465    │         -1.30886    │             -4.5597    │              -4.52177    │                   -1.33414     │                                    -1.87608    │   -4.09117    │ -1.54804    │ -1.31673     │\n",
            "├─────┼───────────────────────────────────┼──────────────────────────────────────┼────────────────────────┼─────────────────┼─────────────────────┼────────────────────────┼──────────────────────────┼────────────────────────────────┼────────────────────────────────────────────────┼───────────────┼─────────────┼──────────────┤\n",
            "│ 348 │                       -0.475357   │                          -1.61062    │            -1.01053    │     -0.45134    │         -0.344701   │             -0.539154  │              -0.484593   │                   -0.996053    │                                    -0.292659   │    0.00311761 │ -0.382831   │ -0.752261    │\n",
            "├─────┼───────────────────────────────────┼──────────────────────────────────────┼────────────────────────┼─────────────────┼─────────────────────┼────────────────────────┼──────────────────────────┼────────────────────────────────┼────────────────────────────────────────────────┼───────────────┼─────────────┼──────────────┤\n",
            "│ 349 │                       -1.00563    │                          -1.94056    │            -1.46969    │     -1.04068    │         -0.75734    │             -1.84948   │              -1.80034    │                   -1.11162     │                                    -0.987192   │   -1.27104    │ -0.998574   │ -1.16413     │\n",
            "├─────┼───────────────────────────────────┼──────────────────────────────────────┼────────────────────────┼─────────────────┼─────────────────────┼────────────────────────┼──────────────────────────┼────────────────────────────────┼────────────────────────────────────────────────┼───────────────┼─────────────┼──────────────┤\n",
            "│ 350 │                        0.320053   │                           1.11741    │            -0.438951   │      0.121135   │         -1.12046    │              0.14586   │               0.203256   │                   -1.26416     │                                     0.460673   │    0.637851   │  0.0968237  │  0.447572    │\n",
            "├─────┼───────────────────────────────────┼──────────────────────────────────────┼────────────────────────┼─────────────────┼─────────────────────┼────────────────────────┼──────────────────────────┼────────────────────────────────┼────────────────────────────────────────────────┼───────────────┼─────────────┼──────────────┤\n",
            "│ 351 │                       -1.74669    │                          -2.04545    │            -1.81171    │     -1.54204    │         -1.29924    │             -5.37821   │              -5.34367    │                   -1.3903      │                                    -1.83051    │   -5.05285    │ -1.31225    │ -0.978708    │\n",
            "├─────┼───────────────────────────────────┼──────────────────────────────────────┼────────────────────────┼─────────────────┼─────────────────────┼────────────────────────┼──────────────────────────┼────────────────────────────────┼────────────────────────────────────────────────┼───────────────┼─────────────┼──────────────┤\n",
            "│ 352 │                       -0.995415   │                          -0.91503    │            -1.33361    │     -0.99913    │         -1.2868     │             -3.47546   │              -3.43305    │                   -1.37048     │                                    -0.963765   │   -3.03883    │ -0.810333   │ -0.470878    │\n",
            "├─────┼───────────────────────────────────┼──────────────────────────────────────┼────────────────────────┼─────────────────┼─────────────────────┼────────────────────────┼──────────────────────────┼────────────────────────────────┼────────────────────────────────────────────────┼───────────────┼─────────────┼──────────────┤\n",
            "│ 353 │                       -1.84112    │                          -2.0678     │            -1.9014     │     -1.66904    │         -1.29815    │             -5.49887   │              -5.46483    │                   -1.36134     │                                    -1.90693    │   -5.19461    │ -1.47468    │ -1.07884     │\n",
            "╘═════╧═══════════════════════════════════╧══════════════════════════════════════╧════════════════════════╧═════════════════╧═════════════════════╧════════════════════════╧══════════════════════════╧════════════════════════════════╧════════════════════════════════════════════════╧═══════════════╧═════════════╧══════════════╛\n"
          ],
          "name": "stdout"
        }
      ]
    },
    {
      "cell_type": "code",
      "metadata": {
        "id": "OeBsPnOvCU2X"
      },
      "source": [
        ""
      ],
      "execution_count": null,
      "outputs": []
    },
    {
      "cell_type": "code",
      "metadata": {
        "id": "QNq4CiIbCUzh"
      },
      "source": [
        ""
      ],
      "execution_count": null,
      "outputs": []
    },
    {
      "cell_type": "markdown",
      "metadata": {
        "id": "1RPehNuWgDuf"
      },
      "source": [
        "# Penentuan Parameter Optimal untuk SVM-RFE"
      ]
    },
    {
      "cell_type": "code",
      "metadata": {
        "colab": {
          "base_uri": "https://localhost:8080/"
        },
        "id": "1fkCXbO-ij-X",
        "outputId": "d06cccce-5f12-49c7-8064-aedb5e9f1699"
      },
      "source": [
        "from sklearn.model_selection import GridSearchCV\n",
        "\n",
        "# mendefinisikan range dari parameter\n",
        "param_grid = {'C': [0.1, 1, 10, 100, 1000],\n",
        "              'kernel': ['linear']}\n",
        "\n",
        "grid = GridSearchCV(SVC(), param_grid, refit = True, verbose = 3)\n",
        "\n",
        "# fitting model untuk grid search\n",
        "\n",
        "grid.fit(X_train_res, y_train_res)\n",
        "# print parameter terbaik setelah tuning\n",
        "print(grid.best_params_)\n",
        "\n",
        "# print bagaimana model terlihat setelah hyper-parameter tuning\n",
        "print(grid.best_estimator_)"
      ],
      "execution_count": null,
      "outputs": [
        {
          "output_type": "stream",
          "text": [
            "Fitting 5 folds for each of 5 candidates, totalling 25 fits\n",
            "[CV] C=0.1, kernel=linear ............................................\n",
            "[CV] ................ C=0.1, kernel=linear, score=0.930, total=   0.0s\n",
            "[CV] C=0.1, kernel=linear ............................................\n",
            "[CV] ................ C=0.1, kernel=linear, score=0.986, total=   0.0s\n",
            "[CV] C=0.1, kernel=linear ............................................\n",
            "[CV] ................ C=0.1, kernel=linear, score=0.972, total=   0.0s\n",
            "[CV] C=0.1, kernel=linear ............................................\n",
            "[CV] ................ C=0.1, kernel=linear, score=0.972, total=   0.0s\n",
            "[CV] C=0.1, kernel=linear ............................................\n",
            "[CV] ................ C=0.1, kernel=linear, score=0.971, total=   0.0s\n",
            "[CV] C=1, kernel=linear ..............................................\n",
            "[CV] .................. C=1, kernel=linear, score=0.986, total=   0.0s\n",
            "[CV] C=1, kernel=linear ..............................................\n",
            "[CV] .................. C=1, kernel=linear, score=0.944, total=   0.0s\n",
            "[CV] C=1, kernel=linear ..............................................\n",
            "[CV] .................. C=1, kernel=linear, score=0.972, total=   0.0s\n",
            "[CV] C=1, kernel=linear ..............................................\n",
            "[CV] .................. C=1, kernel=linear, score=0.972, total=   0.0s\n",
            "[CV] C=1, kernel=linear ..............................................\n",
            "[CV] .................. C=1, kernel=linear, score=0.986, total=   0.0s\n",
            "[CV] C=10, kernel=linear .............................................\n",
            "[CV] ................. C=10, kernel=linear, score=0.986, total=   0.0s\n",
            "[CV] C=10, kernel=linear .............................................\n",
            "[CV] ................. C=10, kernel=linear, score=0.986, total=   0.0s\n",
            "[CV] C=10, kernel=linear .............................................\n",
            "[CV] ................. C=10, kernel=linear, score=0.986, total=   0.0s\n",
            "[CV] C=10, kernel=linear .............................................\n",
            "[CV] ................. C=10, kernel=linear, score=0.972, total=   0.0s\n",
            "[CV] C=10, kernel=linear .............................................\n",
            "[CV] ................. C=10, kernel=linear, score=0.986, total=   0.0s\n",
            "[CV] C=100, kernel=linear ............................................\n",
            "[CV] ................ C=100, kernel=linear, score=0.986, total=   0.0s\n",
            "[CV] C=100, kernel=linear ............................................\n",
            "[CV] ................ C=100, kernel=linear, score=0.986, total=   0.0s\n",
            "[CV] C=100, kernel=linear ............................................\n",
            "[CV] ................ C=100, kernel=linear, score=0.986, total=   0.0s\n",
            "[CV] C=100, kernel=linear ............................................\n",
            "[CV] ................ C=100, kernel=linear, score=0.972, total=   0.0s\n",
            "[CV] C=100, kernel=linear ............................................\n",
            "[CV] ................ C=100, kernel=linear, score=0.986, total=   0.0s\n",
            "[CV] C=1000, kernel=linear ...........................................\n",
            "[CV] ............... C=1000, kernel=linear, score=0.986, total=   0.0s\n",
            "[CV] C=1000, kernel=linear ...........................................\n",
            "[CV] ............... C=1000, kernel=linear, score=0.986, total=   0.0s\n",
            "[CV] C=1000, kernel=linear ...........................................\n",
            "[CV] ............... C=1000, kernel=linear, score=0.986, total=   0.0s\n",
            "[CV] C=1000, kernel=linear ...........................................\n",
            "[CV] ............... C=1000, kernel=linear, score=0.972, total=   0.0s\n",
            "[CV] C=1000, kernel=linear ...........................................\n",
            "[CV] ............... C=1000, kernel=linear, score=0.986, total=   0.0s\n",
            "{'C': 10, 'kernel': 'linear'}\n",
            "SVC(C=10, break_ties=False, cache_size=200, class_weight=None, coef0=0.0,\n",
            "    decision_function_shape='ovr', degree=3, gamma='scale', kernel='linear',\n",
            "    max_iter=-1, probability=False, random_state=None, shrinking=True,\n",
            "    tol=0.001, verbose=False)\n"
          ],
          "name": "stdout"
        },
        {
          "output_type": "stream",
          "text": [
            "[Parallel(n_jobs=1)]: Using backend SequentialBackend with 1 concurrent workers.\n",
            "[Parallel(n_jobs=1)]: Done   1 out of   1 | elapsed:    0.0s remaining:    0.0s\n",
            "[Parallel(n_jobs=1)]: Done   2 out of   2 | elapsed:    0.0s remaining:    0.0s\n",
            "[Parallel(n_jobs=1)]: Done  25 out of  25 | elapsed:    0.1s finished\n"
          ],
          "name": "stderr"
        }
      ]
    },
    {
      "cell_type": "markdown",
      "metadata": {
        "id": "0D27v26ejey3"
      },
      "source": [
        "# Seleksi Fitur"
      ]
    },
    {
      "cell_type": "code",
      "metadata": {
        "colab": {
          "base_uri": "https://localhost:8080/"
        },
        "id": "ZxbM_Rfh70fE",
        "outputId": "70caccd7-7136-445c-9c48-1794542ccc4a"
      },
      "source": [
        "#PEMBENTUKAN SVM DENGAN KERNEL LINEAR DAN PARAMETER OPTIMAL C=10\n",
        "\n",
        "# import SVC classifier\n",
        "from sklearn.svm import SVC\n",
        "\n",
        "\n",
        "# import metrics to compute accuracy\n",
        "from sklearn.metrics import accuracy_score\n",
        "\n",
        "# instantiate classifier with linear kernel and C=10\n",
        "linear_svc=SVC(kernel='linear', C=10) \n",
        "\n",
        "\n",
        "# fit classifier to training set\n",
        "linear_svc.fit(X_train_res, y_train_res)\n",
        "\n",
        "\n",
        "# make predictions on test set\n",
        "y_pred_test=linear_svc.predict(X_test)\n",
        "\n",
        "\n",
        "# compute and print accuracy score\n",
        "print('Model accuracy score with linear kernel and C=10 : {0:0.4f}'. format(accuracy_score(y_test, y_pred_test)))\n",
        "print ('coefficients',linear_svc.coef_)"
      ],
      "execution_count": null,
      "outputs": [
        {
          "output_type": "stream",
          "text": [
            "Model accuracy score with linear kernel and C=10 : 0.8936\n",
            "coefficients [[-0.68911227 -0.78892791  5.06172484 -3.4998017  -2.31041773  1.70847015\n",
            "   1.71553815  5.38416633  0.72207373 -2.90908343 -0.97514096  0.50053372]]\n"
          ],
          "name": "stdout"
        }
      ]
    },
    {
      "cell_type": "code",
      "metadata": {
        "colab": {
          "base_uri": "https://localhost:8080/"
        },
        "id": "zwkIm6z15mPF",
        "outputId": "857b4fa8-f776-479a-b351-ebf441a750d9"
      },
      "source": [
        "# Proses seleksi fitur menggunakan SVM-RFE\n",
        "from sklearn.datasets import load_digits\n",
        "from sklearn.feature_selection import RFE\n",
        "import matplotlib.pyplot as plt\n",
        "\n",
        "# membuat proses rekursif dan memberi peringkat tiap fitur\n",
        "rfe = RFE(estimator=linear_svc, n_features_to_select=1, step=1)\n",
        "rfe.fit(X_train_res, y_train_res)\n",
        "# print ringkasan untuk atribut yang terpilih\n",
        "print(rfe.support_)\n",
        "print(rfe.ranking_)\n",
        "# print berat bobot untuk fitur terpilih\n",
        "print ('coefficients',rfe.estimator_.coef_)"
      ],
      "execution_count": null,
      "outputs": [
        {
          "output_type": "stream",
          "text": [
            "[False False False False False False False  True False False False False]\n",
            "[10  9  3  4  2  8  5  1 11  6  7 12]\n",
            "coefficients [[7.35578382]]\n"
          ],
          "name": "stdout"
        }
      ]
    },
    {
      "cell_type": "code",
      "metadata": {
        "id": "UKGYGUhLEKPc",
        "colab": {
          "base_uri": "https://localhost:8080/",
          "height": 204
        },
        "outputId": "18faa0cf-f0bc-4e6d-aa82-afdcf266ac9e"
      },
      "source": [
        "# untuk melihat bentuk fitur pada data latih\n",
        "X_train_res = pd.DataFrame(X_train_res)\n",
        "X_train_res.head()"
      ],
      "execution_count": null,
      "outputs": [
        {
          "output_type": "execute_result",
          "data": {
            "text/html": [
              "<div>\n",
              "<style scoped>\n",
              "    .dataframe tbody tr th:only-of-type {\n",
              "        vertical-align: middle;\n",
              "    }\n",
              "\n",
              "    .dataframe tbody tr th {\n",
              "        vertical-align: top;\n",
              "    }\n",
              "\n",
              "    .dataframe thead th {\n",
              "        text-align: right;\n",
              "    }\n",
              "</style>\n",
              "<table border=\"1\" class=\"dataframe\">\n",
              "  <thead>\n",
              "    <tr style=\"text-align: right;\">\n",
              "      <th></th>\n",
              "      <th>0</th>\n",
              "      <th>1</th>\n",
              "      <th>2</th>\n",
              "      <th>3</th>\n",
              "      <th>4</th>\n",
              "      <th>5</th>\n",
              "      <th>6</th>\n",
              "      <th>7</th>\n",
              "      <th>8</th>\n",
              "      <th>9</th>\n",
              "      <th>10</th>\n",
              "      <th>11</th>\n",
              "    </tr>\n",
              "  </thead>\n",
              "  <tbody>\n",
              "    <tr>\n",
              "      <th>0</th>\n",
              "      <td>-0.009319</td>\n",
              "      <td>1.770466</td>\n",
              "      <td>2.662086</td>\n",
              "      <td>1.011214</td>\n",
              "      <td>0.703961</td>\n",
              "      <td>0.145860</td>\n",
              "      <td>0.203256</td>\n",
              "      <td>-0.811401</td>\n",
              "      <td>2.598332</td>\n",
              "      <td>0.143393</td>\n",
              "      <td>3.854295</td>\n",
              "      <td>3.695699</td>\n",
              "    </tr>\n",
              "    <tr>\n",
              "      <th>1</th>\n",
              "      <td>0.421679</td>\n",
              "      <td>-2.067782</td>\n",
              "      <td>-0.252793</td>\n",
              "      <td>0.519746</td>\n",
              "      <td>0.286206</td>\n",
              "      <td>0.696558</td>\n",
              "      <td>0.203256</td>\n",
              "      <td>0.462182</td>\n",
              "      <td>0.505589</td>\n",
              "      <td>0.790413</td>\n",
              "      <td>-0.334336</td>\n",
              "      <td>-1.078772</td>\n",
              "    </tr>\n",
              "    <tr>\n",
              "      <th>2</th>\n",
              "      <td>-0.871314</td>\n",
              "      <td>-1.842002</td>\n",
              "      <td>-1.338728</td>\n",
              "      <td>-1.287860</td>\n",
              "      <td>-1.189267</td>\n",
              "      <td>0.145860</td>\n",
              "      <td>0.203256</td>\n",
              "      <td>-1.100852</td>\n",
              "      <td>-0.947705</td>\n",
              "      <td>0.790413</td>\n",
              "      <td>0.619741</td>\n",
              "      <td>-0.123878</td>\n",
              "    </tr>\n",
              "    <tr>\n",
              "      <th>3</th>\n",
              "      <td>0.852677</td>\n",
              "      <td>-0.157341</td>\n",
              "      <td>0.118711</td>\n",
              "      <td>-0.796391</td>\n",
              "      <td>-0.495972</td>\n",
              "      <td>0.696558</td>\n",
              "      <td>0.756232</td>\n",
              "      <td>-0.348280</td>\n",
              "      <td>-0.075728</td>\n",
              "      <td>0.790413</td>\n",
              "      <td>0.363769</td>\n",
              "      <td>-0.497532</td>\n",
              "    </tr>\n",
              "    <tr>\n",
              "      <th>4</th>\n",
              "      <td>-0.440317</td>\n",
              "      <td>-0.209444</td>\n",
              "      <td>-0.002742</td>\n",
              "      <td>0.902925</td>\n",
              "      <td>-0.451530</td>\n",
              "      <td>0.145860</td>\n",
              "      <td>0.203256</td>\n",
              "      <td>-0.927181</td>\n",
              "      <td>0.389326</td>\n",
              "      <td>0.143393</td>\n",
              "      <td>-0.799739</td>\n",
              "      <td>-0.248430</td>\n",
              "    </tr>\n",
              "  </tbody>\n",
              "</table>\n",
              "</div>"
            ],
            "text/plain": [
              "         0         1         2   ...        9         10        11\n",
              "0 -0.009319  1.770466  2.662086  ...  0.143393  3.854295  3.695699\n",
              "1  0.421679 -2.067782 -0.252793  ...  0.790413 -0.334336 -1.078772\n",
              "2 -0.871314 -1.842002 -1.338728  ...  0.790413  0.619741 -0.123878\n",
              "3  0.852677 -0.157341  0.118711  ...  0.790413  0.363769 -0.497532\n",
              "4 -0.440317 -0.209444 -0.002742  ...  0.143393 -0.799739 -0.248430\n",
              "\n",
              "[5 rows x 12 columns]"
            ]
          },
          "metadata": {
            "tags": []
          },
          "execution_count": 29
        }
      ]
    },
    {
      "cell_type": "code",
      "metadata": {
        "id": "-Q-LsNirFffq"
      },
      "source": [
        "# menghapus fitur yang tidak terpilih pada seleksi fitur dalam data latih\n",
        "X_train_res.drop(X_train_res.columns[[0, 1, 5, 8, 10, 11]], axis = 1, inplace = True)"
      ],
      "execution_count": null,
      "outputs": []
    },
    {
      "cell_type": "code",
      "metadata": {
        "colab": {
          "base_uri": "https://localhost:8080/",
          "height": 204
        },
        "id": "1nuI8KcEGIXf",
        "outputId": "47882db1-8635-49c9-c1c2-c76044deaa0d"
      },
      "source": [
        "# hasil dari data train yang telah terpilih fiturnya\n",
        "X_train_res.head()"
      ],
      "execution_count": null,
      "outputs": [
        {
          "output_type": "execute_result",
          "data": {
            "text/html": [
              "<div>\n",
              "<style scoped>\n",
              "    .dataframe tbody tr th:only-of-type {\n",
              "        vertical-align: middle;\n",
              "    }\n",
              "\n",
              "    .dataframe tbody tr th {\n",
              "        vertical-align: top;\n",
              "    }\n",
              "\n",
              "    .dataframe thead th {\n",
              "        text-align: right;\n",
              "    }\n",
              "</style>\n",
              "<table border=\"1\" class=\"dataframe\">\n",
              "  <thead>\n",
              "    <tr style=\"text-align: right;\">\n",
              "      <th></th>\n",
              "      <th>2</th>\n",
              "      <th>3</th>\n",
              "      <th>4</th>\n",
              "      <th>6</th>\n",
              "      <th>7</th>\n",
              "      <th>9</th>\n",
              "    </tr>\n",
              "  </thead>\n",
              "  <tbody>\n",
              "    <tr>\n",
              "      <th>0</th>\n",
              "      <td>2.662086</td>\n",
              "      <td>1.011214</td>\n",
              "      <td>0.703961</td>\n",
              "      <td>0.203256</td>\n",
              "      <td>-0.811401</td>\n",
              "      <td>0.143393</td>\n",
              "    </tr>\n",
              "    <tr>\n",
              "      <th>1</th>\n",
              "      <td>-0.252793</td>\n",
              "      <td>0.519746</td>\n",
              "      <td>0.286206</td>\n",
              "      <td>0.203256</td>\n",
              "      <td>0.462182</td>\n",
              "      <td>0.790413</td>\n",
              "    </tr>\n",
              "    <tr>\n",
              "      <th>2</th>\n",
              "      <td>-1.338728</td>\n",
              "      <td>-1.287860</td>\n",
              "      <td>-1.189267</td>\n",
              "      <td>0.203256</td>\n",
              "      <td>-1.100852</td>\n",
              "      <td>0.790413</td>\n",
              "    </tr>\n",
              "    <tr>\n",
              "      <th>3</th>\n",
              "      <td>0.118711</td>\n",
              "      <td>-0.796391</td>\n",
              "      <td>-0.495972</td>\n",
              "      <td>0.756232</td>\n",
              "      <td>-0.348280</td>\n",
              "      <td>0.790413</td>\n",
              "    </tr>\n",
              "    <tr>\n",
              "      <th>4</th>\n",
              "      <td>-0.002742</td>\n",
              "      <td>0.902925</td>\n",
              "      <td>-0.451530</td>\n",
              "      <td>0.203256</td>\n",
              "      <td>-0.927181</td>\n",
              "      <td>0.143393</td>\n",
              "    </tr>\n",
              "  </tbody>\n",
              "</table>\n",
              "</div>"
            ],
            "text/plain": [
              "          2         3         4         6         7         9\n",
              "0  2.662086  1.011214  0.703961  0.203256 -0.811401  0.143393\n",
              "1 -0.252793  0.519746  0.286206  0.203256  0.462182  0.790413\n",
              "2 -1.338728 -1.287860 -1.189267  0.203256 -1.100852  0.790413\n",
              "3  0.118711 -0.796391 -0.495972  0.756232 -0.348280  0.790413\n",
              "4 -0.002742  0.902925 -0.451530  0.203256 -0.927181  0.143393"
            ]
          },
          "metadata": {
            "tags": []
          },
          "execution_count": 31
        }
      ]
    },
    {
      "cell_type": "code",
      "metadata": {
        "colab": {
          "base_uri": "https://localhost:8080/",
          "height": 255
        },
        "id": "sQ1xijrRGL9k",
        "outputId": "aaf17ba8-7bb4-4968-b2e8-0114cb61aeca"
      },
      "source": [
        "# pada data uji juga dilakukan penghapusan fitur yang tidak terpilih pada seleksi fitur\n",
        "X_test.head()"
      ],
      "execution_count": null,
      "outputs": [
        {
          "output_type": "execute_result",
          "data": {
            "text/html": [
              "<div>\n",
              "<style scoped>\n",
              "    .dataframe tbody tr th:only-of-type {\n",
              "        vertical-align: middle;\n",
              "    }\n",
              "\n",
              "    .dataframe tbody tr th {\n",
              "        vertical-align: top;\n",
              "    }\n",
              "\n",
              "    .dataframe thead tr th {\n",
              "        text-align: left;\n",
              "    }\n",
              "</style>\n",
              "<table border=\"1\" class=\"dataframe\">\n",
              "  <thead>\n",
              "    <tr>\n",
              "      <th></th>\n",
              "      <th>A submission has been submitted</th>\n",
              "      <th>Course activity completion updated</th>\n",
              "      <th>Course module viewed</th>\n",
              "      <th>Course viewed</th>\n",
              "      <th>Discussion viewed</th>\n",
              "      <th>Quiz attempt started</th>\n",
              "      <th>Quiz attempt submitted</th>\n",
              "      <th>Some content has been posted.</th>\n",
              "      <th>The status of the submission has been viewed</th>\n",
              "      <th>User graded</th>\n",
              "      <th>File</th>\n",
              "      <th>URL</th>\n",
              "    </tr>\n",
              "  </thead>\n",
              "  <tbody>\n",
              "    <tr>\n",
              "      <th>0</th>\n",
              "      <td>-0.009319</td>\n",
              "      <td>-1.720429</td>\n",
              "      <td>-0.309947</td>\n",
              "      <td>-0.121663</td>\n",
              "      <td>-0.887062</td>\n",
              "      <td>0.145860</td>\n",
              "      <td>0.203256</td>\n",
              "      <td>-0.927181</td>\n",
              "      <td>-0.133860</td>\n",
              "      <td>0.143393</td>\n",
              "      <td>-0.055094</td>\n",
              "      <td>-0.829670</td>\n",
              "    </tr>\n",
              "    <tr>\n",
              "      <th>1</th>\n",
              "      <td>-0.440317</td>\n",
              "      <td>1.110496</td>\n",
              "      <td>-0.502844</td>\n",
              "      <td>0.802965</td>\n",
              "      <td>-0.638187</td>\n",
              "      <td>0.145860</td>\n",
              "      <td>0.203256</td>\n",
              "      <td>-0.406170</td>\n",
              "      <td>-0.017597</td>\n",
              "      <td>0.143393</td>\n",
              "      <td>-0.939360</td>\n",
              "      <td>0.457362</td>\n",
              "    </tr>\n",
              "    <tr>\n",
              "      <th>2</th>\n",
              "      <td>-0.440317</td>\n",
              "      <td>0.137908</td>\n",
              "      <td>0.225876</td>\n",
              "      <td>0.236526</td>\n",
              "      <td>0.117327</td>\n",
              "      <td>-0.404837</td>\n",
              "      <td>-0.349720</td>\n",
              "      <td>1.504205</td>\n",
              "      <td>-0.657046</td>\n",
              "      <td>-0.503626</td>\n",
              "      <td>0.177608</td>\n",
              "      <td>-0.165395</td>\n",
              "    </tr>\n",
              "    <tr>\n",
              "      <th>3</th>\n",
              "      <td>-0.009319</td>\n",
              "      <td>-1.390444</td>\n",
              "      <td>-0.059896</td>\n",
              "      <td>-0.055023</td>\n",
              "      <td>-0.131548</td>\n",
              "      <td>0.696558</td>\n",
              "      <td>0.756232</td>\n",
              "      <td>-0.753511</td>\n",
              "      <td>-0.831441</td>\n",
              "      <td>1.437432</td>\n",
              "      <td>1.038604</td>\n",
              "      <td>-1.618495</td>\n",
              "    </tr>\n",
              "    <tr>\n",
              "      <th>4</th>\n",
              "      <td>-0.871314</td>\n",
              "      <td>0.797879</td>\n",
              "      <td>-0.002742</td>\n",
              "      <td>-0.379892</td>\n",
              "      <td>-0.655963</td>\n",
              "      <td>-0.404837</td>\n",
              "      <td>-0.349720</td>\n",
              "      <td>-1.158742</td>\n",
              "      <td>-0.308255</td>\n",
              "      <td>-0.503626</td>\n",
              "      <td>0.177608</td>\n",
              "      <td>0.955567</td>\n",
              "    </tr>\n",
              "  </tbody>\n",
              "</table>\n",
              "</div>"
            ],
            "text/plain": [
              "  A submission has been submitted  ...       URL\n",
              "0                       -0.009319  ... -0.829670\n",
              "1                       -0.440317  ...  0.457362\n",
              "2                       -0.440317  ... -0.165395\n",
              "3                       -0.009319  ... -1.618495\n",
              "4                       -0.871314  ...  0.955567\n",
              "\n",
              "[5 rows x 12 columns]"
            ]
          },
          "metadata": {
            "tags": []
          },
          "execution_count": 32
        }
      ]
    },
    {
      "cell_type": "code",
      "metadata": {
        "id": "Dv4s5hY8Knmn",
        "colab": {
          "base_uri": "https://localhost:8080/",
          "height": 204
        },
        "outputId": "824d83f4-a81e-44de-fa6d-b7b1b162f64d"
      },
      "source": [
        "# penghapusan fitur pada data uji\n",
        "X_test.drop(X_test.columns[[0, 1, 5, 8, 10, 11]], axis=1, inplace=True)\n",
        "X_test.head()"
      ],
      "execution_count": null,
      "outputs": [
        {
          "output_type": "execute_result",
          "data": {
            "text/html": [
              "<div>\n",
              "<style scoped>\n",
              "    .dataframe tbody tr th:only-of-type {\n",
              "        vertical-align: middle;\n",
              "    }\n",
              "\n",
              "    .dataframe tbody tr th {\n",
              "        vertical-align: top;\n",
              "    }\n",
              "\n",
              "    .dataframe thead tr th {\n",
              "        text-align: left;\n",
              "    }\n",
              "</style>\n",
              "<table border=\"1\" class=\"dataframe\">\n",
              "  <thead>\n",
              "    <tr>\n",
              "      <th></th>\n",
              "      <th>Course module viewed</th>\n",
              "      <th>Course viewed</th>\n",
              "      <th>Discussion viewed</th>\n",
              "      <th>Quiz attempt submitted</th>\n",
              "      <th>Some content has been posted.</th>\n",
              "      <th>User graded</th>\n",
              "    </tr>\n",
              "  </thead>\n",
              "  <tbody>\n",
              "    <tr>\n",
              "      <th>0</th>\n",
              "      <td>-0.309947</td>\n",
              "      <td>-0.121663</td>\n",
              "      <td>-0.887062</td>\n",
              "      <td>0.203256</td>\n",
              "      <td>-0.927181</td>\n",
              "      <td>0.143393</td>\n",
              "    </tr>\n",
              "    <tr>\n",
              "      <th>1</th>\n",
              "      <td>-0.502844</td>\n",
              "      <td>0.802965</td>\n",
              "      <td>-0.638187</td>\n",
              "      <td>0.203256</td>\n",
              "      <td>-0.406170</td>\n",
              "      <td>0.143393</td>\n",
              "    </tr>\n",
              "    <tr>\n",
              "      <th>2</th>\n",
              "      <td>0.225876</td>\n",
              "      <td>0.236526</td>\n",
              "      <td>0.117327</td>\n",
              "      <td>-0.349720</td>\n",
              "      <td>1.504205</td>\n",
              "      <td>-0.503626</td>\n",
              "    </tr>\n",
              "    <tr>\n",
              "      <th>3</th>\n",
              "      <td>-0.059896</td>\n",
              "      <td>-0.055023</td>\n",
              "      <td>-0.131548</td>\n",
              "      <td>0.756232</td>\n",
              "      <td>-0.753511</td>\n",
              "      <td>1.437432</td>\n",
              "    </tr>\n",
              "    <tr>\n",
              "      <th>4</th>\n",
              "      <td>-0.002742</td>\n",
              "      <td>-0.379892</td>\n",
              "      <td>-0.655963</td>\n",
              "      <td>-0.349720</td>\n",
              "      <td>-1.158742</td>\n",
              "      <td>-0.503626</td>\n",
              "    </tr>\n",
              "  </tbody>\n",
              "</table>\n",
              "</div>"
            ],
            "text/plain": [
              "  Course module viewed Course viewed  ... Some content has been posted. User graded\n",
              "0            -0.309947     -0.121663  ...                     -0.927181    0.143393\n",
              "1            -0.502844      0.802965  ...                     -0.406170    0.143393\n",
              "2             0.225876      0.236526  ...                      1.504205   -0.503626\n",
              "3            -0.059896     -0.055023  ...                     -0.753511    1.437432\n",
              "4            -0.002742     -0.379892  ...                     -1.158742   -0.503626\n",
              "\n",
              "[5 rows x 6 columns]"
            ]
          },
          "metadata": {
            "tags": []
          },
          "execution_count": 33
        }
      ]
    },
    {
      "cell_type": "markdown",
      "metadata": {
        "id": "vNiE1r0lnjsS"
      },
      "source": [
        "# Klasifikasi menggunakan fitur terpilih dengan SVM dan fungsi Kernel RBF"
      ]
    },
    {
      "cell_type": "code",
      "metadata": {
        "colab": {
          "base_uri": "https://localhost:8080/"
        },
        "id": "_9wmb9kFWDPp",
        "outputId": "0b2e6adf-f8ac-475a-cd64-29b40f769ccb"
      },
      "source": [
        "from sklearn.model_selection import GridSearchCV\n",
        "\n",
        "# untuk mendefinisikan range dari parameter\n",
        "param_grid = {'C': [0.1, 1, 10, 100, 1000],\n",
        "\t\t\t'gamma': [1, 0.1, 0.01, 0.001, 0.0001],\n",
        "\t\t\t'kernel': ['rbf']}\n",
        "\n",
        "grid = GridSearchCV(SVC(), param_grid, refit = True, verbose = 3)\n",
        "\n",
        "# fitting model pada gridsearch\n",
        "\n",
        "grid.fit(X_train_res, y_train_res)\n",
        "# print parameter terbaik setelah tuning\n",
        "print(grid.best_params_)\n",
        "\n",
        "# print bagaimana model setelah hyper-parameter tuning\n",
        "print(grid.best_estimator_)"
      ],
      "execution_count": null,
      "outputs": [
        {
          "output_type": "stream",
          "text": [
            "Fitting 5 folds for each of 25 candidates, totalling 125 fits\n",
            "[CV] C=0.1, gamma=1, kernel=rbf ......................................\n",
            "[CV] .......... C=0.1, gamma=1, kernel=rbf, score=0.901, total=   0.0s\n",
            "[CV] C=0.1, gamma=1, kernel=rbf ......................................\n",
            "[CV] .......... C=0.1, gamma=1, kernel=rbf, score=0.901, total=   0.0s\n",
            "[CV] C=0.1, gamma=1, kernel=rbf ......................................\n",
            "[CV] .......... C=0.1, gamma=1, kernel=rbf, score=0.972, total=   0.0s\n",
            "[CV] C=0.1, gamma=1, kernel=rbf ......................................\n",
            "[CV] .......... C=0.1, gamma=1, kernel=rbf, score=0.930, total=   0.0s\n",
            "[CV] C=0.1, gamma=1, kernel=rbf ......................................\n",
            "[CV] .......... C=0.1, gamma=1, kernel=rbf, score=0.957, total=   0.0s\n",
            "[CV] C=0.1, gamma=0.1, kernel=rbf ....................................\n",
            "[CV] ........ C=0.1, gamma=0.1, kernel=rbf, score=0.859, total=   0.0s\n",
            "[CV] C=0.1, gamma=0.1, kernel=rbf ....................................\n",
            "[CV] ........ C=0.1, gamma=0.1, kernel=rbf, score=0.887, total=   0.0s\n",
            "[CV] C=0.1, gamma=0.1, kernel=rbf ....................................\n",
            "[CV] ........ C=0.1, gamma=0.1, kernel=rbf, score=0.901, total=   0.0s\n",
            "[CV] C=0.1, gamma=0.1, kernel=rbf ....................................\n",
            "[CV] ........ C=0.1, gamma=0.1, kernel=rbf, score=0.901, total=   0.0s\n",
            "[CV] C=0.1, gamma=0.1, kernel=rbf ....................................\n",
            "[CV] ........ C=0.1, gamma=0.1, kernel=rbf, score=0.871, total=   0.0s\n",
            "[CV] C=0.1, gamma=0.01, kernel=rbf ...................................\n",
            "[CV] ....... C=0.1, gamma=0.01, kernel=rbf, score=0.859, total=   0.0s\n",
            "[CV] C=0.1, gamma=0.01, kernel=rbf ...................................\n",
            "[CV] ....... C=0.1, gamma=0.01, kernel=rbf, score=0.887, total=   0.0s\n",
            "[CV] C=0.1, gamma=0.01, kernel=rbf ...................................\n",
            "[CV] ....... C=0.1, gamma=0.01, kernel=rbf, score=0.887, total=   0.0s\n",
            "[CV] C=0.1, gamma=0.01, kernel=rbf ...................................\n",
            "[CV] ....... C=0.1, gamma=0.01, kernel=rbf, score=0.859, total=   0.0s\n",
            "[CV] C=0.1, gamma=0.01, kernel=rbf ...................................\n",
            "[CV] ....... C=0.1, gamma=0.01, kernel=rbf, score=0.857, total=   0.0s\n",
            "[CV] C=0.1, gamma=0.001, kernel=rbf ..................................\n",
            "[CV] ...... C=0.1, gamma=0.001, kernel=rbf, score=0.873, total=   0.0s\n",
            "[CV] C=0.1, gamma=0.001, kernel=rbf ..................................\n",
            "[CV] ...... C=0.1, gamma=0.001, kernel=rbf, score=0.887, total=   0.0s\n",
            "[CV] C=0.1, gamma=0.001, kernel=rbf ..................................\n",
            "[CV] ...... C=0.1, gamma=0.001, kernel=rbf, score=0.887, total=   0.0s\n",
            "[CV] C=0.1, gamma=0.001, kernel=rbf ..................................\n",
            "[CV] ...... C=0.1, gamma=0.001, kernel=rbf, score=0.873, total=   0.0s\n",
            "[CV] C=0.1, gamma=0.001, kernel=rbf ..................................\n",
            "[CV] ...... C=0.1, gamma=0.001, kernel=rbf, score=0.871, total=   0.0s\n",
            "[CV] C=0.1, gamma=0.0001, kernel=rbf .................................\n",
            "[CV] ..... C=0.1, gamma=0.0001, kernel=rbf, score=0.493, total=   0.0s\n",
            "[CV] C=0.1, gamma=0.0001, kernel=rbf .................................\n",
            "[CV] ..... C=0.1, gamma=0.0001, kernel=rbf, score=0.493, total=   0.0s\n",
            "[CV] C=0.1, gamma=0.0001, kernel=rbf .................................\n",
            "[CV] ..... C=0.1, gamma=0.0001, kernel=rbf, score=0.493, total=   0.0s\n",
            "[CV] C=0.1, gamma=0.0001, kernel=rbf .................................\n",
            "[CV] ..... C=0.1, gamma=0.0001, kernel=rbf, score=0.493, total=   0.0s\n",
            "[CV] C=0.1, gamma=0.0001, kernel=rbf .................................\n",
            "[CV] ..... C=0.1, gamma=0.0001, kernel=rbf, score=0.871, total=   0.0s\n",
            "[CV] C=1, gamma=1, kernel=rbf ........................................\n",
            "[CV] ............ C=1, gamma=1, kernel=rbf, score=0.986, total=   0.0s\n",
            "[CV] C=1, gamma=1, kernel=rbf ........................................\n",
            "[CV] ............ C=1, gamma=1, kernel=rbf, score=0.986, total=   0.0s\n",
            "[CV] C=1, gamma=1, kernel=rbf ........................................\n",
            "[CV] ............ C=1, gamma=1, kernel=rbf, score=1.000, total=   0.0s\n",
            "[CV] C=1, gamma=1, kernel=rbf ........................................\n"
          ],
          "name": "stdout"
        },
        {
          "output_type": "stream",
          "text": [
            "[Parallel(n_jobs=1)]: Using backend SequentialBackend with 1 concurrent workers.\n",
            "[Parallel(n_jobs=1)]: Done   1 out of   1 | elapsed:    0.0s remaining:    0.0s\n",
            "[Parallel(n_jobs=1)]: Done   2 out of   2 | elapsed:    0.0s remaining:    0.0s\n"
          ],
          "name": "stderr"
        },
        {
          "output_type": "stream",
          "text": [
            "[CV] ............ C=1, gamma=1, kernel=rbf, score=0.958, total=   0.0s\n",
            "[CV] C=1, gamma=1, kernel=rbf ........................................\n",
            "[CV] ............ C=1, gamma=1, kernel=rbf, score=1.000, total=   0.0s\n",
            "[CV] C=1, gamma=0.1, kernel=rbf ......................................\n",
            "[CV] .......... C=1, gamma=0.1, kernel=rbf, score=0.986, total=   0.0s\n",
            "[CV] C=1, gamma=0.1, kernel=rbf ......................................\n",
            "[CV] .......... C=1, gamma=0.1, kernel=rbf, score=0.958, total=   0.0s\n",
            "[CV] C=1, gamma=0.1, kernel=rbf ......................................\n",
            "[CV] .......... C=1, gamma=0.1, kernel=rbf, score=0.986, total=   0.0s\n",
            "[CV] C=1, gamma=0.1, kernel=rbf ......................................\n",
            "[CV] .......... C=1, gamma=0.1, kernel=rbf, score=0.972, total=   0.0s\n",
            "[CV] C=1, gamma=0.1, kernel=rbf ......................................\n",
            "[CV] .......... C=1, gamma=0.1, kernel=rbf, score=0.986, total=   0.0s\n",
            "[CV] C=1, gamma=0.01, kernel=rbf .....................................\n",
            "[CV] ......... C=1, gamma=0.01, kernel=rbf, score=0.859, total=   0.0s\n",
            "[CV] C=1, gamma=0.01, kernel=rbf .....................................\n",
            "[CV] ......... C=1, gamma=0.01, kernel=rbf, score=0.887, total=   0.0s\n",
            "[CV] C=1, gamma=0.01, kernel=rbf .....................................\n",
            "[CV] ......... C=1, gamma=0.01, kernel=rbf, score=0.901, total=   0.0s\n",
            "[CV] C=1, gamma=0.01, kernel=rbf .....................................\n",
            "[CV] ......... C=1, gamma=0.01, kernel=rbf, score=0.901, total=   0.0s\n",
            "[CV] C=1, gamma=0.01, kernel=rbf .....................................\n",
            "[CV] ......... C=1, gamma=0.01, kernel=rbf, score=0.871, total=   0.0s\n",
            "[CV] C=1, gamma=0.001, kernel=rbf ....................................\n",
            "[CV] ........ C=1, gamma=0.001, kernel=rbf, score=0.859, total=   0.0s\n",
            "[CV] C=1, gamma=0.001, kernel=rbf ....................................\n",
            "[CV] ........ C=1, gamma=0.001, kernel=rbf, score=0.887, total=   0.0s\n",
            "[CV] C=1, gamma=0.001, kernel=rbf ....................................\n",
            "[CV] ........ C=1, gamma=0.001, kernel=rbf, score=0.887, total=   0.0s\n",
            "[CV] C=1, gamma=0.001, kernel=rbf ....................................\n",
            "[CV] ........ C=1, gamma=0.001, kernel=rbf, score=0.859, total=   0.0s\n",
            "[CV] C=1, gamma=0.001, kernel=rbf ....................................\n",
            "[CV] ........ C=1, gamma=0.001, kernel=rbf, score=0.857, total=   0.0s\n",
            "[CV] C=1, gamma=0.0001, kernel=rbf ...................................\n",
            "[CV] ....... C=1, gamma=0.0001, kernel=rbf, score=0.859, total=   0.0s\n",
            "[CV] C=1, gamma=0.0001, kernel=rbf ...................................\n",
            "[CV] ....... C=1, gamma=0.0001, kernel=rbf, score=0.887, total=   0.0s\n",
            "[CV] C=1, gamma=0.0001, kernel=rbf ...................................\n",
            "[CV] ....... C=1, gamma=0.0001, kernel=rbf, score=0.887, total=   0.0s\n",
            "[CV] C=1, gamma=0.0001, kernel=rbf ...................................\n",
            "[CV] ....... C=1, gamma=0.0001, kernel=rbf, score=0.859, total=   0.0s\n",
            "[CV] C=1, gamma=0.0001, kernel=rbf ...................................\n",
            "[CV] ....... C=1, gamma=0.0001, kernel=rbf, score=0.871, total=   0.0s\n",
            "[CV] C=10, gamma=1, kernel=rbf .......................................\n",
            "[CV] ........... C=10, gamma=1, kernel=rbf, score=1.000, total=   0.0s\n",
            "[CV] C=10, gamma=1, kernel=rbf .......................................\n",
            "[CV] ........... C=10, gamma=1, kernel=rbf, score=0.972, total=   0.0s\n",
            "[CV] C=10, gamma=1, kernel=rbf .......................................\n",
            "[CV] ........... C=10, gamma=1, kernel=rbf, score=1.000, total=   0.0s\n",
            "[CV] C=10, gamma=1, kernel=rbf .......................................\n",
            "[CV] ........... C=10, gamma=1, kernel=rbf, score=0.958, total=   0.0s\n",
            "[CV] C=10, gamma=1, kernel=rbf .......................................\n",
            "[CV] ........... C=10, gamma=1, kernel=rbf, score=1.000, total=   0.0s\n",
            "[CV] C=10, gamma=0.1, kernel=rbf .....................................\n",
            "[CV] ......... C=10, gamma=0.1, kernel=rbf, score=1.000, total=   0.0s\n",
            "[CV] C=10, gamma=0.1, kernel=rbf .....................................\n",
            "[CV] ......... C=10, gamma=0.1, kernel=rbf, score=0.972, total=   0.0s\n",
            "[CV] C=10, gamma=0.1, kernel=rbf .....................................\n",
            "[CV] ......... C=10, gamma=0.1, kernel=rbf, score=0.986, total=   0.0s\n",
            "[CV] C=10, gamma=0.1, kernel=rbf .....................................\n",
            "[CV] ......... C=10, gamma=0.1, kernel=rbf, score=0.986, total=   0.0s\n",
            "[CV] C=10, gamma=0.1, kernel=rbf .....................................\n",
            "[CV] ......... C=10, gamma=0.1, kernel=rbf, score=1.000, total=   0.0s\n",
            "[CV] C=10, gamma=0.01, kernel=rbf ....................................\n",
            "[CV] ........ C=10, gamma=0.01, kernel=rbf, score=0.972, total=   0.0s\n",
            "[CV] C=10, gamma=0.01, kernel=rbf ....................................\n",
            "[CV] ........ C=10, gamma=0.01, kernel=rbf, score=0.958, total=   0.0s\n",
            "[CV] C=10, gamma=0.01, kernel=rbf ....................................\n",
            "[CV] ........ C=10, gamma=0.01, kernel=rbf, score=0.986, total=   0.0s\n",
            "[CV] C=10, gamma=0.01, kernel=rbf ....................................\n",
            "[CV] ........ C=10, gamma=0.01, kernel=rbf, score=0.972, total=   0.0s\n",
            "[CV] C=10, gamma=0.01, kernel=rbf ....................................\n",
            "[CV] ........ C=10, gamma=0.01, kernel=rbf, score=1.000, total=   0.0s\n",
            "[CV] C=10, gamma=0.001, kernel=rbf ...................................\n",
            "[CV] ....... C=10, gamma=0.001, kernel=rbf, score=0.859, total=   0.0s\n",
            "[CV] C=10, gamma=0.001, kernel=rbf ...................................\n",
            "[CV] ....... C=10, gamma=0.001, kernel=rbf, score=0.887, total=   0.0s\n",
            "[CV] C=10, gamma=0.001, kernel=rbf ...................................\n",
            "[CV] ....... C=10, gamma=0.001, kernel=rbf, score=0.901, total=   0.0s\n",
            "[CV] C=10, gamma=0.001, kernel=rbf ...................................\n",
            "[CV] ....... C=10, gamma=0.001, kernel=rbf, score=0.901, total=   0.0s\n",
            "[CV] C=10, gamma=0.001, kernel=rbf ...................................\n",
            "[CV] ....... C=10, gamma=0.001, kernel=rbf, score=0.871, total=   0.0s\n",
            "[CV] C=10, gamma=0.0001, kernel=rbf ..................................\n",
            "[CV] ...... C=10, gamma=0.0001, kernel=rbf, score=0.859, total=   0.0s\n",
            "[CV] C=10, gamma=0.0001, kernel=rbf ..................................\n",
            "[CV] ...... C=10, gamma=0.0001, kernel=rbf, score=0.887, total=   0.0s\n",
            "[CV] C=10, gamma=0.0001, kernel=rbf ..................................\n",
            "[CV] ...... C=10, gamma=0.0001, kernel=rbf, score=0.887, total=   0.0s\n",
            "[CV] C=10, gamma=0.0001, kernel=rbf ..................................\n",
            "[CV] ...... C=10, gamma=0.0001, kernel=rbf, score=0.859, total=   0.0s\n",
            "[CV] C=10, gamma=0.0001, kernel=rbf ..................................\n",
            "[CV] ...... C=10, gamma=0.0001, kernel=rbf, score=0.857, total=   0.0s\n",
            "[CV] C=100, gamma=1, kernel=rbf ......................................\n",
            "[CV] .......... C=100, gamma=1, kernel=rbf, score=1.000, total=   0.0s\n",
            "[CV] C=100, gamma=1, kernel=rbf ......................................\n",
            "[CV] .......... C=100, gamma=1, kernel=rbf, score=0.972, total=   0.0s\n",
            "[CV] C=100, gamma=1, kernel=rbf ......................................\n",
            "[CV] .......... C=100, gamma=1, kernel=rbf, score=1.000, total=   0.0s\n",
            "[CV] C=100, gamma=1, kernel=rbf ......................................\n",
            "[CV] .......... C=100, gamma=1, kernel=rbf, score=0.958, total=   0.0s\n",
            "[CV] C=100, gamma=1, kernel=rbf ......................................\n",
            "[CV] .......... C=100, gamma=1, kernel=rbf, score=1.000, total=   0.0s\n",
            "[CV] C=100, gamma=0.1, kernel=rbf ....................................\n",
            "[CV] ........ C=100, gamma=0.1, kernel=rbf, score=1.000, total=   0.0s\n",
            "[CV] C=100, gamma=0.1, kernel=rbf ....................................\n",
            "[CV] ........ C=100, gamma=0.1, kernel=rbf, score=0.986, total=   0.0s\n",
            "[CV] C=100, gamma=0.1, kernel=rbf ....................................\n",
            "[CV] ........ C=100, gamma=0.1, kernel=rbf, score=0.986, total=   0.0s\n",
            "[CV] C=100, gamma=0.1, kernel=rbf ....................................\n",
            "[CV] ........ C=100, gamma=0.1, kernel=rbf, score=1.000, total=   0.0s\n",
            "[CV] C=100, gamma=0.1, kernel=rbf ....................................\n",
            "[CV] ........ C=100, gamma=0.1, kernel=rbf, score=1.000, total=   0.0s\n",
            "[CV] C=100, gamma=0.01, kernel=rbf ...................................\n",
            "[CV] ....... C=100, gamma=0.01, kernel=rbf, score=0.986, total=   0.0s\n",
            "[CV] C=100, gamma=0.01, kernel=rbf ...................................\n",
            "[CV] ....... C=100, gamma=0.01, kernel=rbf, score=0.972, total=   0.0s\n",
            "[CV] C=100, gamma=0.01, kernel=rbf ...................................\n",
            "[CV] ....... C=100, gamma=0.01, kernel=rbf, score=1.000, total=   0.0s\n",
            "[CV] C=100, gamma=0.01, kernel=rbf ...................................\n",
            "[CV] ....... C=100, gamma=0.01, kernel=rbf, score=0.986, total=   0.0s\n",
            "[CV] C=100, gamma=0.01, kernel=rbf ...................................\n",
            "[CV] ....... C=100, gamma=0.01, kernel=rbf, score=1.000, total=   0.0s\n",
            "[CV] C=100, gamma=0.001, kernel=rbf ..................................\n",
            "[CV] ...... C=100, gamma=0.001, kernel=rbf, score=0.972, total=   0.0s\n",
            "[CV] C=100, gamma=0.001, kernel=rbf ..................................\n",
            "[CV] ...... C=100, gamma=0.001, kernel=rbf, score=0.958, total=   0.0s\n",
            "[CV] C=100, gamma=0.001, kernel=rbf ..................................\n",
            "[CV] ...... C=100, gamma=0.001, kernel=rbf, score=0.986, total=   0.0s\n",
            "[CV] C=100, gamma=0.001, kernel=rbf ..................................\n",
            "[CV] ...... C=100, gamma=0.001, kernel=rbf, score=0.972, total=   0.0s\n",
            "[CV] C=100, gamma=0.001, kernel=rbf ..................................\n",
            "[CV] ...... C=100, gamma=0.001, kernel=rbf, score=1.000, total=   0.0s\n",
            "[CV] C=100, gamma=0.0001, kernel=rbf .................................\n",
            "[CV] ..... C=100, gamma=0.0001, kernel=rbf, score=0.859, total=   0.0s\n",
            "[CV] C=100, gamma=0.0001, kernel=rbf .................................\n",
            "[CV] ..... C=100, gamma=0.0001, kernel=rbf, score=0.887, total=   0.0s\n",
            "[CV] C=100, gamma=0.0001, kernel=rbf .................................\n",
            "[CV] ..... C=100, gamma=0.0001, kernel=rbf, score=0.901, total=   0.0s\n",
            "[CV] C=100, gamma=0.0001, kernel=rbf .................................\n",
            "[CV] ..... C=100, gamma=0.0001, kernel=rbf, score=0.901, total=   0.0s\n",
            "[CV] C=100, gamma=0.0001, kernel=rbf .................................\n",
            "[CV] ..... C=100, gamma=0.0001, kernel=rbf, score=0.871, total=   0.0s\n",
            "[CV] C=1000, gamma=1, kernel=rbf .....................................\n",
            "[CV] ......... C=1000, gamma=1, kernel=rbf, score=1.000, total=   0.0s\n",
            "[CV] C=1000, gamma=1, kernel=rbf .....................................\n",
            "[CV] ......... C=1000, gamma=1, kernel=rbf, score=0.972, total=   0.0s\n",
            "[CV] C=1000, gamma=1, kernel=rbf .....................................\n",
            "[CV] ......... C=1000, gamma=1, kernel=rbf, score=1.000, total=   0.0s\n",
            "[CV] C=1000, gamma=1, kernel=rbf .....................................\n",
            "[CV] ......... C=1000, gamma=1, kernel=rbf, score=0.958, total=   0.0s\n",
            "[CV] C=1000, gamma=1, kernel=rbf .....................................\n",
            "[CV] ......... C=1000, gamma=1, kernel=rbf, score=1.000, total=   0.0s\n",
            "[CV] C=1000, gamma=0.1, kernel=rbf ...................................\n",
            "[CV] ....... C=1000, gamma=0.1, kernel=rbf, score=0.986, total=   0.0s\n",
            "[CV] C=1000, gamma=0.1, kernel=rbf ...................................\n",
            "[CV] ....... C=1000, gamma=0.1, kernel=rbf, score=0.972, total=   0.0s\n",
            "[CV] C=1000, gamma=0.1, kernel=rbf ...................................\n",
            "[CV] ....... C=1000, gamma=0.1, kernel=rbf, score=0.986, total=   0.0s\n",
            "[CV] C=1000, gamma=0.1, kernel=rbf ...................................\n",
            "[CV] ....... C=1000, gamma=0.1, kernel=rbf, score=1.000, total=   0.0s\n",
            "[CV] C=1000, gamma=0.1, kernel=rbf ...................................\n",
            "[CV] ....... C=1000, gamma=0.1, kernel=rbf, score=1.000, total=   0.0s\n",
            "[CV] C=1000, gamma=0.01, kernel=rbf ..................................\n",
            "[CV] ...... C=1000, gamma=0.01, kernel=rbf, score=0.986, total=   0.0s\n",
            "[CV] C=1000, gamma=0.01, kernel=rbf ..................................\n",
            "[CV] ...... C=1000, gamma=0.01, kernel=rbf, score=0.972, total=   0.0s\n",
            "[CV] C=1000, gamma=0.01, kernel=rbf ..................................\n",
            "[CV] ...... C=1000, gamma=0.01, kernel=rbf, score=0.986, total=   0.0s\n",
            "[CV] C=1000, gamma=0.01, kernel=rbf ..................................\n",
            "[CV] ...... C=1000, gamma=0.01, kernel=rbf, score=1.000, total=   0.0s\n",
            "[CV] C=1000, gamma=0.01, kernel=rbf ..................................\n",
            "[CV] ...... C=1000, gamma=0.01, kernel=rbf, score=1.000, total=   0.0s\n",
            "[CV] C=1000, gamma=0.001, kernel=rbf .................................\n",
            "[CV] ..... C=1000, gamma=0.001, kernel=rbf, score=0.972, total=   0.0s\n",
            "[CV] C=1000, gamma=0.001, kernel=rbf .................................\n",
            "[CV] ..... C=1000, gamma=0.001, kernel=rbf, score=0.944, total=   0.0s\n",
            "[CV] C=1000, gamma=0.001, kernel=rbf .................................\n",
            "[CV] ..... C=1000, gamma=0.001, kernel=rbf, score=0.986, total=   0.0s\n",
            "[CV] C=1000, gamma=0.001, kernel=rbf .................................\n",
            "[CV] ..... C=1000, gamma=0.001, kernel=rbf, score=0.972, total=   0.0s\n",
            "[CV] C=1000, gamma=0.001, kernel=rbf .................................\n",
            "[CV] ..... C=1000, gamma=0.001, kernel=rbf, score=1.000, total=   0.0s\n",
            "[CV] C=1000, gamma=0.0001, kernel=rbf ................................\n",
            "[CV] .... C=1000, gamma=0.0001, kernel=rbf, score=0.972, total=   0.0s\n",
            "[CV] C=1000, gamma=0.0001, kernel=rbf ................................\n",
            "[CV] .... C=1000, gamma=0.0001, kernel=rbf, score=0.958, total=   0.0s\n",
            "[CV] C=1000, gamma=0.0001, kernel=rbf ................................\n",
            "[CV] .... C=1000, gamma=0.0001, kernel=rbf, score=0.986, total=   0.0s\n",
            "[CV] C=1000, gamma=0.0001, kernel=rbf ................................\n",
            "[CV] .... C=1000, gamma=0.0001, kernel=rbf, score=0.972, total=   0.0s\n",
            "[CV] C=1000, gamma=0.0001, kernel=rbf ................................\n",
            "[CV] .... C=1000, gamma=0.0001, kernel=rbf, score=1.000, total=   0.0s\n",
            "{'C': 100, 'gamma': 0.1, 'kernel': 'rbf'}\n",
            "SVC(C=100, break_ties=False, cache_size=200, class_weight=None, coef0=0.0,\n",
            "    decision_function_shape='ovr', degree=3, gamma=0.1, kernel='rbf',\n",
            "    max_iter=-1, probability=False, random_state=None, shrinking=True,\n",
            "    tol=0.001, verbose=False)\n"
          ],
          "name": "stdout"
        },
        {
          "output_type": "stream",
          "text": [
            "[Parallel(n_jobs=1)]: Done 125 out of 125 | elapsed:    0.7s finished\n"
          ],
          "name": "stderr"
        }
      ]
    },
    {
      "cell_type": "code",
      "metadata": {
        "colab": {
          "base_uri": "https://localhost:8080/"
        },
        "id": "vaqG0BUAn57R",
        "outputId": "c3e05caf-df46-49b4-cbe6-ea60f767678f"
      },
      "source": [
        "# instantiate classifier with rbf kernel and C=100\n",
        "svc=SVC(C=100, gamma=0.1) \n",
        "\n",
        "\n",
        "# fit classifier to training set\n",
        "svc.fit(X_train_res,y_train_res)\n",
        "\n",
        "\n",
        "# make predictions on test set\n",
        "y_pred2=svc.predict(X_test)\n",
        "\n",
        "\n",
        "# compute and print accuracy score\n",
        "print('Model accuracy score with rbf kernel and C=100 : {0:0.4f}'. format(accuracy_score(y_test, y_pred2)))"
      ],
      "execution_count": null,
      "outputs": [
        {
          "output_type": "stream",
          "text": [
            "Model accuracy score with rbf kernel and C=100 : 0.9362\n"
          ],
          "name": "stdout"
        }
      ]
    },
    {
      "cell_type": "code",
      "metadata": {
        "colab": {
          "base_uri": "https://localhost:8080/"
        },
        "id": "6qFyVkQcosJa",
        "outputId": "fa100b63-288c-41e7-9045-0e0219abbd12"
      },
      "source": [
        "# hasil prediksi dari klasifikasi\n",
        "y_pred_train1 = svc.predict(X_train_res)\n",
        "\n",
        "y_pred_train1"
      ],
      "execution_count": null,
      "outputs": [
        {
          "output_type": "execute_result",
          "data": {
            "text/plain": [
              "array([1, 1, 1, 1, 1, 0, 1, 1, 1, 1, 1, 1, 0, 1, 1, 1, 1, 1, 1, 1, 1, 1,\n",
              "       1, 1, 1, 1, 1, 1, 1, 1, 1, 1, 1, 1, 1, 1, 1, 1, 1, 1, 1, 0, 1, 1,\n",
              "       1, 1, 1, 1, 1, 1, 1, 1, 1, 1, 1, 1, 1, 1, 1, 1, 0, 1, 1, 1, 1, 1,\n",
              "       1, 1, 1, 1, 1, 1, 1, 1, 1, 1, 1, 1, 1, 1, 1, 1, 1, 1, 1, 1, 1, 1,\n",
              "       1, 1, 1, 1, 1, 1, 1, 1, 1, 1, 1, 1, 1, 1, 1, 1, 1, 1, 1, 1, 1, 1,\n",
              "       1, 1, 1, 1, 1, 0, 1, 1, 1, 1, 1, 1, 1, 0, 1, 1, 1, 1, 1, 1, 1, 1,\n",
              "       1, 1, 1, 1, 1, 1, 1, 1, 1, 1, 1, 1, 1, 1, 0, 1, 0, 1, 1, 1, 1, 1,\n",
              "       1, 1, 1, 1, 1, 1, 1, 1, 1, 1, 1, 1, 1, 1, 1, 1, 1, 1, 1, 1, 1, 1,\n",
              "       1, 1, 1, 1, 1, 1, 1, 1, 1, 0, 0, 0, 0, 0, 0, 0, 0, 0, 0, 0, 0, 0,\n",
              "       0, 0, 0, 0, 0, 0, 0, 0, 0, 0, 0, 0, 0, 0, 0, 0, 0, 0, 0, 0, 0, 0,\n",
              "       0, 0, 0, 0, 0, 0, 0, 0, 0, 0, 0, 0, 0, 0, 0, 0, 0, 0, 0, 0, 0, 0,\n",
              "       0, 0, 0, 0, 0, 0, 0, 0, 0, 0, 0, 0, 0, 0, 0, 0, 0, 0, 0, 0, 0, 0,\n",
              "       0, 0, 0, 0, 0, 0, 0, 0, 0, 0, 0, 0, 0, 0, 0, 0, 0, 0, 0, 0, 0, 0,\n",
              "       0, 0, 0, 0, 0, 0, 0, 0, 0, 0, 0, 0, 0, 0, 0, 0, 0, 0, 0, 0, 0, 0,\n",
              "       0, 0, 0, 0, 0, 0, 0, 0, 0, 0, 0, 0, 0, 0, 0, 0, 0, 0, 0, 0, 0, 0,\n",
              "       0, 0, 0, 0, 0, 0, 0, 0, 0, 0, 0, 0, 0, 0, 0, 0, 0, 0, 0, 0, 0, 0,\n",
              "       0, 0])"
            ]
          },
          "metadata": {
            "tags": []
          },
          "execution_count": 36
        }
      ]
    },
    {
      "cell_type": "code",
      "metadata": {
        "colab": {
          "base_uri": "https://localhost:8080/"
        },
        "id": "WrTltckjosJc",
        "outputId": "142f2235-000e-4c8f-ea24-621f2c869ef1"
      },
      "source": [
        "# akurasi dari model yang terbentuk pada data latih yang diuji pada data uji\n",
        "print('Training-set accuracy score: {0:0.4f}'. format(accuracy_score(y_train_res, y_pred_train1)))"
      ],
      "execution_count": null,
      "outputs": [
        {
          "output_type": "stream",
          "text": [
            "Training-set accuracy score: 1.0000\n"
          ],
          "name": "stdout"
        }
      ]
    },
    {
      "cell_type": "code",
      "metadata": {
        "colab": {
          "base_uri": "https://localhost:8080/"
        },
        "id": "4h85W_zcosJd",
        "outputId": "bd2a8868-ee83-4edc-b321-2933b3bb0283"
      },
      "source": [
        "# print the scores on training and test set\n",
        "# untuk melihat apakah model overfitting\n",
        "print('Training set score: {:.4f}'.format(svc.score(X_train_res, y_train_res)))\n",
        "\n",
        "print('Test set score: {:.4f}'.format(svc.score(X_test, y_test)))"
      ],
      "execution_count": null,
      "outputs": [
        {
          "output_type": "stream",
          "text": [
            "Training set score: 1.0000\n",
            "Test set score: 0.9362\n"
          ],
          "name": "stdout"
        }
      ]
    },
    {
      "cell_type": "markdown",
      "metadata": {
        "id": "RXAjUJ__qWcQ"
      },
      "source": [
        "karena selisih training set score dan test score tidak begitu jauh, maka model tidak overfitting"
      ]
    },
    {
      "cell_type": "code",
      "metadata": {
        "colab": {
          "base_uri": "https://localhost:8080/"
        },
        "id": "pZ4Cacp4osJe",
        "outputId": "dad2b8a9-93db-42ab-91a1-354a1156c6c9"
      },
      "source": [
        "#untuk melihat jumlah observasi pada tiap label data uji\n",
        "y_test.value_counts()"
      ],
      "execution_count": null,
      "outputs": [
        {
          "output_type": "execute_result",
          "data": {
            "text/plain": [
              "1    42\n",
              "0     5\n",
              "Name: Status Kelulusan, dtype: int64"
            ]
          },
          "metadata": {
            "tags": []
          },
          "execution_count": 39
        }
      ]
    },
    {
      "cell_type": "code",
      "metadata": {
        "colab": {
          "base_uri": "https://localhost:8080/"
        },
        "id": "1Z9kTsqWosJf",
        "outputId": "2c4682b5-e23a-4bd9-ba16-8cc37cb3c635"
      },
      "source": [
        "# Print Confusion Matrix dan membaginya menjadi 4 bagian\n",
        "\n",
        "from sklearn.metrics import confusion_matrix\n",
        "cm = confusion_matrix(y_test, y_pred2)\n",
        "print(cm)"
      ],
      "execution_count": null,
      "outputs": [
        {
          "output_type": "stream",
          "text": [
            "[[ 3  2]\n",
            " [ 1 41]]\n"
          ],
          "name": "stdout"
        }
      ]
    },
    {
      "cell_type": "code",
      "metadata": {
        "id": "y3UfEguE0bfr"
      },
      "source": [
        "# fungsi untuk plot confusion Matrix\n",
        "def plot_confusion_matrix(cm, classes,\n",
        "                          title='Confusion matrix',\n",
        "                          cmap=plt.cm.Blues):\n",
        "    \n",
        "    plt.imshow(cm, interpolation='nearest', cmap=cmap)\n",
        "    plt.title(title)\n",
        "    plt.colorbar()\n",
        "    tick_marks = np.arange(len(classes))\n",
        "    plt.xticks(tick_marks, classes, rotation=45)\n",
        "    plt.yticks(tick_marks, classes)\n",
        "\n",
        "    fmt = 'd' \n",
        "    thresh = cm.max() / 2.\n",
        "    for i, j in itertools.product(range(cm.shape[0]), range(cm.shape[1])):\n",
        "        plt.text(j, i, format(cm[i, j], fmt),\n",
        "                 horizontalalignment=\"center\",\n",
        "                 color=\"white\" if cm[i, j] > thresh else \"black\")\n",
        "\n",
        "    plt.tight_layout()\n",
        "    plt.ylabel('True label')\n",
        "    plt.xlabel('Predicted label')"
      ],
      "execution_count": null,
      "outputs": []
    },
    {
      "cell_type": "code",
      "metadata": {
        "id": "B1ESa6WS06fK"
      },
      "source": [
        "class_names=np.array(['0','1']) # Binary label, Class = 1 (lulus) and Class = 0 (tidak lulus)"
      ],
      "execution_count": null,
      "outputs": []
    },
    {
      "cell_type": "code",
      "metadata": {
        "colab": {
          "base_uri": "https://localhost:8080/",
          "height": 311
        },
        "id": "ru49PJP60oeT",
        "outputId": "2e413b96-7143-44e7-c7ba-05533f0fedae"
      },
      "source": [
        "import itertools\n",
        "cm = confusion_matrix(y_test, y_pred2)\n",
        "plot_confusion_matrix(cm,class_names)"
      ],
      "execution_count": null,
      "outputs": [
        {
          "output_type": "display_data",
          "data": {
            "image/png": "[encoded data removed]",
            "text/plain": [
              "<Figure size 432x288 with 2 Axes>"
            ]
          },
          "metadata": {
            "tags": [],
            "needs_background": "light"
          }
        }
      ]
    },
    {
      "cell_type": "code",
      "metadata": {
        "colab": {
          "base_uri": "https://localhost:8080/",
          "height": 293
        },
        "id": "NSk3fyM_osJf",
        "outputId": "19415515-4e60-4af9-f29f-3aac4d7de1c4"
      },
      "source": [
        "# visualize confusion matrix with seaborn heatmap\n",
        "\n",
        "cm_matrix = pd.DataFrame(data=cm, columns=['Actual Negative:0', 'Actual Positive:1'], \n",
        "                                 index=['Predict Negative:0', 'Predict Positive:1'])\n",
        "\n",
        "sns.heatmap(cm_matrix, annot=True, fmt='d', cmap='YlGnBu')"
      ],
      "execution_count": null,
      "outputs": [
        {
          "output_type": "execute_result",
          "data": {
            "text/plain": [
              "<matplotlib.axes._subplots.AxesSubplot at 0x7f14a3d37850>"
            ]
          },
          "metadata": {
            "tags": []
          },
          "execution_count": 44
        },
        {
          "output_type": "display_data",
          "data": {
            "image/png": "[encoded data removed]",
            "text/plain": [
              "<Figure size 432x288 with 2 Axes>"
            ]
          },
          "metadata": {
            "tags": [],
            "needs_background": "light"
          }
        }
      ]
    },
    {
      "cell_type": "code",
      "metadata": {
        "colab": {
          "base_uri": "https://localhost:8080/"
        },
        "id": "wPixgI26osJg",
        "outputId": "c3847de5-93a0-4a5e-a5e5-5f8f8c020b0b"
      },
      "source": [
        "# hasil laporan klasifikasi\n",
        "from sklearn.metrics import classification_report\n",
        "\n",
        "print(classification_report(y_test, y_pred2))"
      ],
      "execution_count": null,
      "outputs": [
        {
          "output_type": "stream",
          "text": [
            "              precision    recall  f1-score   support\n",
            "\n",
            "           0       0.75      0.60      0.67         5\n",
            "           1       0.95      0.98      0.96        42\n",
            "\n",
            "    accuracy                           0.94        47\n",
            "   macro avg       0.85      0.79      0.82        47\n",
            "weighted avg       0.93      0.94      0.93        47\n",
            "\n"
          ],
          "name": "stdout"
        }
      ]
    },
    {
      "cell_type": "code",
      "metadata": {
        "colab": {
          "base_uri": "https://localhost:8080/"
        },
        "id": "0T-rCspJosJg",
        "outputId": "0fee18e8-fffc-4a78-f609-331aa6c02957"
      },
      "source": [
        "TN = cm[0,0]\n",
        "FP = cm[1,0]\n",
        "TP = cm[1,1]\n",
        "FN = cm[0,1]\n",
        "# print akurasi dari klasifikasi pada data uji\n",
        "\n",
        "classification_accuracy = (TP + TN) / float(TP + TN + FP + FN)\n",
        "\n",
        "print('Classification accuracy : {0:0.4f}'.format(classification_accuracy))"
      ],
      "execution_count": null,
      "outputs": [
        {
          "output_type": "stream",
          "text": [
            "Classification accuracy : 0.9362\n"
          ],
          "name": "stdout"
        }
      ]
    },
    {
      "cell_type": "code",
      "metadata": {
        "colab": {
          "base_uri": "https://localhost:8080/"
        },
        "id": "4zoysbP6osJh",
        "outputId": "f3daa030-5e04-4f08-b30f-19248a302c38"
      },
      "source": [
        "# print classification error\n",
        "\n",
        "classification_error = (FP + FN) / float(TP + TN + FP + FN)\n",
        "\n",
        "print('Classification error : {0:0.4f}'.format(classification_error))"
      ],
      "execution_count": null,
      "outputs": [
        {
          "output_type": "stream",
          "text": [
            "Classification error : 0.0638\n"
          ],
          "name": "stdout"
        }
      ]
    },
    {
      "cell_type": "code",
      "metadata": {
        "colab": {
          "base_uri": "https://localhost:8080/"
        },
        "id": "VRqGNqitosJh",
        "outputId": "272591f5-60fa-4d02-a897-c9b9a07d849c"
      },
      "source": [
        "# print precision score\n",
        "\n",
        "precision = TP / float(TP + FP)\n",
        "\n",
        "\n",
        "print('Precision : {0:0.4f}'.format(precision))"
      ],
      "execution_count": null,
      "outputs": [
        {
          "output_type": "stream",
          "text": [
            "Precision : 0.9762\n"
          ],
          "name": "stdout"
        }
      ]
    },
    {
      "cell_type": "code",
      "metadata": {
        "colab": {
          "base_uri": "https://localhost:8080/"
        },
        "id": "xg-ynmo9osJi",
        "outputId": "ac141721-2a9e-4575-c0bd-e4d8df001334"
      },
      "source": [
        "recall = TP / float(TP + FN)\n",
        "\n",
        "print('Recall or Sensitivity : {0:0.4f}'.format(recall))"
      ],
      "execution_count": null,
      "outputs": [
        {
          "output_type": "stream",
          "text": [
            "Recall or Sensitivity : 0.9535\n"
          ],
          "name": "stdout"
        }
      ]
    },
    {
      "cell_type": "code",
      "metadata": {
        "colab": {
          "base_uri": "https://localhost:8080/"
        },
        "id": "FGM_QSXyosJi",
        "outputId": "0a56de61-8bb9-444e-f413-2b899e0a50a3"
      },
      "source": [
        "true_positive_rate = TP / float(TP + FN)\n",
        "\n",
        "\n",
        "print('True Positive Rate : {0:0.4f}'.format(true_positive_rate))"
      ],
      "execution_count": null,
      "outputs": [
        {
          "output_type": "stream",
          "text": [
            "True Positive Rate : 0.9535\n"
          ],
          "name": "stdout"
        }
      ]
    },
    {
      "cell_type": "code",
      "metadata": {
        "colab": {
          "base_uri": "https://localhost:8080/"
        },
        "id": "4mqPokufosJj",
        "outputId": "622ace45-df1d-4ab5-a0be-1776f6ecf400"
      },
      "source": [
        "false_positive_rate = FP / float(FP + TN)\n",
        "\n",
        "\n",
        "print('False Positive Rate : {0:0.4f}'.format(false_positive_rate))"
      ],
      "execution_count": null,
      "outputs": [
        {
          "output_type": "stream",
          "text": [
            "False Positive Rate : 0.2500\n"
          ],
          "name": "stdout"
        }
      ]
    },
    {
      "cell_type": "code",
      "metadata": {
        "colab": {
          "base_uri": "https://localhost:8080/"
        },
        "id": "nbsF12l2osJj",
        "outputId": "890004c5-b668-49ef-bf74-8bed17f292b5"
      },
      "source": [
        "specificity = TN / float(TN + FP)\n",
        "\n",
        "print('Specificity : {0:0.4f}'.format(specificity))"
      ],
      "execution_count": null,
      "outputs": [
        {
          "output_type": "stream",
          "text": [
            "Specificity : 0.7500\n"
          ],
          "name": "stdout"
        }
      ]
    },
    {
      "cell_type": "code",
      "metadata": {
        "id": "2fi0PaI_kjeS",
        "colab": {
          "base_uri": "https://localhost:8080/"
        },
        "outputId": "1a8ad337-0b50-4e67-b4c8-2ac3113a7164"
      },
      "source": [
        "F1 = 2 * (precision * recall) / (precision + recall)\n",
        "print('F1-Score : {0:0.4f}'.format(F1))"
      ],
      "execution_count": null,
      "outputs": [
        {
          "output_type": "stream",
          "text": [
            "F1-Score : 0.9647\n"
          ],
          "name": "stdout"
        }
      ]
    },
    {
      "cell_type": "markdown",
      "metadata": {
        "id": "YkpWxBH_cbhY"
      },
      "source": [
        "COBA KELUARIN BENTUK MODEL"
      ]
    },
    {
      "cell_type": "code",
      "metadata": {
        "colab": {
          "base_uri": "https://localhost:8080/"
        },
        "id": "9BPbDTtacbNx",
        "outputId": "881bb9e8-034d-4499-8329-c1f468fc583f"
      },
      "source": [
        "print('b = ',svc.intercept_)\n",
        "print('Indices of support vectors = ', svc.support_)\n",
        "print('Support vectors = ', svc.support_vectors_)\n",
        "print('Number of support vectors for each class = ', svc.n_support_)\n",
        "print('Coefficients of the support vector in the decision function = ', svc.dual_coef_)"
      ],
      "execution_count": null,
      "outputs": [
        {
          "output_type": "stream",
          "text": [
            "b =  [2.98503957]\n",
            "Indices of support vectors =  [ 12  41 115 148 197 219 278 288 303 310 332   4   8  43  48  67  81 121\n",
            " 126 137]\n",
            "Support vectors =  [[-9.88656601e-01 -4.21541943e-01 -3.18204464e-01 -3.49719920e-01\n",
            "  -9.85071401e-01  1.43393462e-01]\n",
            " [-1.93884978e+00 -1.79598841e+00 -1.38481160e+00 -5.87947934e+00\n",
            "  -1.39030249e+00 -5.67978007e+00]\n",
            " [-4.17111830e-01  5.03085679e-01 -6.38186606e-01  2.03256022e-01\n",
            "  -1.04296156e+00  1.43393462e-01]\n",
            " [-2.30320958e+00 -2.19582738e+00 -1.40258839e+00 -5.87947934e+00\n",
            "  -1.39030249e+00 -5.67978007e+00]\n",
            " [-6.01477871e-01  2.04823946e-01 -5.34968374e-01  2.48798205e-02\n",
            "  -1.02428764e+00  1.43393462e-01]\n",
            " [-1.03087349e+00 -3.97929968e-01 -9.30963726e-01 -2.25817921e+00\n",
            "  -1.19757176e+00 -2.16064320e+00]\n",
            " [-4.19475385e-01  4.61748521e-01 -6.90381386e-01  2.03256022e-01\n",
            "  -1.06690134e+00  1.96906882e-01]\n",
            " [-6.48386922e-01  1.63568743e-01 -7.48509652e-01 -7.24251674e-01\n",
            "  -1.10122112e+00 -7.24803966e-01]\n",
            " [-1.35453100e+00 -8.92458368e-01 -6.52209270e-01 -1.45305778e+00\n",
            "  -1.08132695e+00 -9.32423185e-01]\n",
            " [-1.10159334e+00 -4.55290030e-01 -9.18406883e-01 -1.38160020e+00\n",
            "  -1.13777072e+00 -1.18117015e+00]\n",
            " [-1.16168457e+00 -7.98868129e-01 -1.29250039e+00 -1.48339978e+00\n",
            "  -1.30718758e+00 -9.01159931e-01]\n",
            " [-2.74187019e-03  9.02924651e-01 -4.51530356e-01  2.03256022e-01\n",
            "  -9.27181246e-01  1.43393462e-01]\n",
            " [-3.81390281e-01  9.49167288e-02 -6.91516963e-01  2.03256022e-01\n",
            "  -9.27181246e-01  1.43393462e-01]\n",
            " [-6.45729738e-01 -5.46491621e-01 -8.42619641e-01 -1.45567180e+00\n",
            "  -9.85071401e-01 -1.15064510e+00]\n",
            " [-6.74306977e-01  2.19866407e-01 -1.22659821e-01  2.03256022e-01\n",
            "  -6.95620624e-01  7.90412744e-01]\n",
            " [-9.17213505e-01  6.03045422e-01 -3.71534821e-01  2.03256022e-01\n",
            "  -6.95620624e-01  1.43393462e-01]\n",
            " [-1.07438832e+00 -9.29670636e-01 -1.34925803e+00  2.03256022e-01\n",
            "  -1.39030249e+00  1.43393462e-01]\n",
            " [-1.52772373e-01  2.36526365e-01 -8.24842855e-01  2.03256022e-01\n",
            "  -9.85071401e-01  1.43393462e-01]\n",
            " [-1.01008953e+00 -3.13252221e-01 -6.91516963e-01 -3.49719920e-01\n",
            "  -7.53510780e-01  1.43393462e-01]\n",
            " [-5.45709403e-01 -2.54942371e-01 -8.42619641e-01 -2.00864774e+00\n",
            "  -1.10085171e+00 -2.44468366e+00]]\n",
            "Number of support vectors for each class =  [11  9]\n",
            "Coefficients of the support vector in the decision function =  [[ -30.90628743   -0.76762192 -100.           -2.85167452  -40.99148389\n",
            "   -18.2596158  -100.           -0.85832056   -1.9594811    -1.55683433\n",
            "    -6.3651362    48.08922509   41.08893425   21.31172969    5.53701204\n",
            "    70.81124483   17.98716285   71.54013703   18.45750542    9.69350457]]\n"
          ],
          "name": "stdout"
        }
      ]
    },
    {
      "cell_type": "markdown",
      "metadata": {
        "id": "D4zvqDq1cR2A"
      },
      "source": [
        "# COBA KERNEL LINIER"
      ]
    },
    {
      "cell_type": "code",
      "metadata": {
        "colab": {
          "base_uri": "https://localhost:8080/"
        },
        "id": "A7fXLxMsYwUP",
        "outputId": "53f8065c-abc5-48ce-a096-a59e505d4485"
      },
      "source": [
        "from sklearn.model_selection import GridSearchCV\n",
        "\n",
        "# untuk mendefinisikan range dari parameter\n",
        "param_grid = {'C': [0.1, 1, 10, 100, 1000],\n",
        "\t\t\t'kernel': ['linear']}\n",
        "\n",
        "grid = GridSearchCV(SVC(), param_grid, refit = True, verbose = 3)\n",
        "\n",
        "# fitting model pada gridsearch\n",
        "\n",
        "grid.fit(X_train_res, y_train_res)\n",
        "# print parameter terbaik setelah tuning\n",
        "print(grid.best_params_)\n",
        "\n",
        "# print bagaimana model setelah hyper-parameter tuning\n",
        "print(grid.best_estimator_)"
      ],
      "execution_count": null,
      "outputs": [
        {
          "output_type": "stream",
          "text": [
            "Fitting 5 folds for each of 5 candidates, totalling 25 fits\n",
            "[CV] C=0.1, kernel=linear ............................................\n",
            "[CV] ................ C=0.1, kernel=linear, score=0.944, total=   0.0s\n",
            "[CV] C=0.1, kernel=linear ............................................\n",
            "[CV] ................ C=0.1, kernel=linear, score=0.986, total=   0.0s\n",
            "[CV] C=0.1, kernel=linear ............................................\n",
            "[CV] ................ C=0.1, kernel=linear, score=0.915, total=   0.0s\n",
            "[CV] C=0.1, kernel=linear ............................................\n",
            "[CV] ................ C=0.1, kernel=linear, score=0.915, total=   0.0s\n",
            "[CV] C=0.1, kernel=linear ............................................\n",
            "[CV] ................ C=0.1, kernel=linear, score=0.971, total=   0.0s\n",
            "[CV] C=1, kernel=linear ..............................................\n",
            "[CV] .................. C=1, kernel=linear, score=0.986, total=   0.0s\n",
            "[CV] C=1, kernel=linear ..............................................\n",
            "[CV] .................. C=1, kernel=linear, score=0.944, total=   0.0s\n",
            "[CV] C=1, kernel=linear ..............................................\n",
            "[CV] .................. C=1, kernel=linear, score=0.986, total=   0.0s\n",
            "[CV] C=1, kernel=linear ..............................................\n",
            "[CV] .................. C=1, kernel=linear, score=0.986, total=   0.0s\n",
            "[CV] C=1, kernel=linear ..............................................\n",
            "[CV] .................. C=1, kernel=linear, score=1.000, total=   0.0s\n",
            "[CV] C=10, kernel=linear .............................................\n",
            "[CV] ................. C=10, kernel=linear, score=1.000, total=   0.0s\n",
            "[CV] C=10, kernel=linear .............................................\n",
            "[CV] ................. C=10, kernel=linear, score=0.958, total=   0.0s\n",
            "[CV] C=10, kernel=linear .............................................\n",
            "[CV] ................. C=10, kernel=linear, score=0.986, total=   0.0s\n",
            "[CV] C=10, kernel=linear .............................................\n",
            "[CV] ................. C=10, kernel=linear, score=1.000, total=   0.0s\n",
            "[CV] C=10, kernel=linear .............................................\n",
            "[CV] ................. C=10, kernel=linear, score=1.000, total=   0.0s\n",
            "[CV] C=100, kernel=linear ............................................\n",
            "[CV] ................ C=100, kernel=linear, score=1.000, total=   0.0s\n",
            "[CV] C=100, kernel=linear ............................................\n",
            "[CV] ................ C=100, kernel=linear, score=0.972, total=   0.0s\n",
            "[CV] C=100, kernel=linear ............................................\n",
            "[CV] ................ C=100, kernel=linear, score=0.986, total=   0.0s\n",
            "[CV] C=100, kernel=linear ............................................\n",
            "[CV] ................ C=100, kernel=linear, score=1.000, total=   0.0s\n",
            "[CV] C=100, kernel=linear ............................................\n",
            "[CV] ................ C=100, kernel=linear, score=1.000, total=   0.0s\n",
            "[CV] C=1000, kernel=linear ...........................................\n",
            "[CV] ............... C=1000, kernel=linear, score=1.000, total=   0.0s\n",
            "[CV] C=1000, kernel=linear ...........................................\n",
            "[CV] ............... C=1000, kernel=linear, score=0.972, total=   0.0s\n",
            "[CV] C=1000, kernel=linear ...........................................\n",
            "[CV] ............... C=1000, kernel=linear, score=0.986, total=   0.0s\n",
            "[CV] C=1000, kernel=linear ...........................................\n",
            "[CV] ............... C=1000, kernel=linear, score=1.000, total=   0.0s\n",
            "[CV] C=1000, kernel=linear ...........................................\n",
            "[CV] ............... C=1000, kernel=linear, score=1.000, total=   0.0s\n",
            "{'C': 100, 'kernel': 'linear'}\n",
            "SVC(C=100, break_ties=False, cache_size=200, class_weight=None, coef0=0.0,\n",
            "    decision_function_shape='ovr', degree=3, gamma='scale', kernel='linear',\n",
            "    max_iter=-1, probability=False, random_state=None, shrinking=True,\n",
            "    tol=0.001, verbose=False)\n"
          ],
          "name": "stdout"
        },
        {
          "output_type": "stream",
          "text": [
            "[Parallel(n_jobs=1)]: Using backend SequentialBackend with 1 concurrent workers.\n",
            "[Parallel(n_jobs=1)]: Done   1 out of   1 | elapsed:    0.0s remaining:    0.0s\n",
            "[Parallel(n_jobs=1)]: Done   2 out of   2 | elapsed:    0.0s remaining:    0.0s\n",
            "[Parallel(n_jobs=1)]: Done  25 out of  25 | elapsed:    0.2s finished\n"
          ],
          "name": "stderr"
        }
      ]
    },
    {
      "cell_type": "code",
      "metadata": {
        "id": "Opx12JNOeB2f",
        "colab": {
          "base_uri": "https://localhost:8080/"
        },
        "outputId": "2cc7fa38-9440-4b4c-b6b3-a4a4558967f9"
      },
      "source": [
        "# instantiate classifier with linear kernel and C=100\n",
        "svc_linear=SVC(kernel='linear', C=100) \n",
        "\n",
        "\n",
        "# fit classifier to training set\n",
        "svc_linear.fit(X_train_res,y_train_res)\n",
        "\n",
        "\n",
        "# make predictions on test set\n",
        "y_pred3=svc.predict(X_test)\n",
        "\n",
        "\n",
        "# compute and print accuracy score\n",
        "print('Model accuracy score with linear kernel and C=100 : {0:0.4f}'. format(accuracy_score(y_test, y_pred3)))"
      ],
      "execution_count": null,
      "outputs": [
        {
          "output_type": "stream",
          "text": [
            "Model accuracy score with linear kernel and C=100 : 0.9149\n"
          ],
          "name": "stdout"
        }
      ]
    },
    {
      "cell_type": "code",
      "metadata": {
        "colab": {
          "base_uri": "https://localhost:8080/"
        },
        "id": "1OeHiulGZADS",
        "outputId": "94adfb7b-086e-4526-b37b-90039e5d4766"
      },
      "source": [
        "# hasil laporan klasifikasi\n",
        "from sklearn.metrics import classification_report\n",
        "\n",
        "print(classification_report(y_test, y_pred3))"
      ],
      "execution_count": null,
      "outputs": [
        {
          "output_type": "stream",
          "text": [
            "              precision    recall  f1-score   support\n",
            "\n",
            "           0       1.00      0.20      0.33         5\n",
            "           1       0.91      1.00      0.95        42\n",
            "\n",
            "    accuracy                           0.91        47\n",
            "   macro avg       0.96      0.60      0.64        47\n",
            "weighted avg       0.92      0.91      0.89        47\n",
            "\n"
          ],
          "name": "stdout"
        }
      ]
    },
    {
      "cell_type": "code",
      "metadata": {
        "colab": {
          "base_uri": "https://localhost:8080/"
        },
        "id": "f5rpUfCxZs1j",
        "outputId": "de7886e1-7cd2-4838-9084-9b34b7f2d966"
      },
      "source": [
        "# Print Confusion Matrix dan membaginya menjadi 4 bagian\n",
        "\n",
        "from sklearn.metrics import confusion_matrix\n",
        "cm = confusion_matrix(y_test, y_pred3)\n",
        "print(cm)"
      ],
      "execution_count": null,
      "outputs": [
        {
          "output_type": "stream",
          "text": [
            "[[ 1  4]\n",
            " [ 0 42]]\n"
          ],
          "name": "stdout"
        }
      ]
    },
    {
      "cell_type": "code",
      "metadata": {
        "colab": {
          "base_uri": "https://localhost:8080/"
        },
        "id": "9tZLKk1IZ2Kb",
        "outputId": "14f344f2-4212-4a90-b884-ed8e1e8105f7"
      },
      "source": [
        "TN = cm[0,0]\n",
        "FP = cm[1,0]\n",
        "TP = cm[1,1]\n",
        "FN = cm[0,1]\n",
        "# print akurasi dari klasifikasi pada data uji\n",
        "\n",
        "classification_accuracy = (TP + TN) / float(TP + TN + FP + FN)\n",
        "\n",
        "print('Classification accuracy : {0:0.4f}'.format(classification_accuracy))"
      ],
      "execution_count": null,
      "outputs": [
        {
          "output_type": "stream",
          "text": [
            "Classification accuracy : 0.9149\n"
          ],
          "name": "stdout"
        }
      ]
    },
    {
      "cell_type": "code",
      "metadata": {
        "colab": {
          "base_uri": "https://localhost:8080/"
        },
        "id": "2KyzV_Q9Z2Kd",
        "outputId": "a2ca08b4-25d9-43e3-daa5-86c60d3ccccb"
      },
      "source": [
        "# print classification error\n",
        "\n",
        "classification_error = (FP + FN) / float(TP + TN + FP + FN)\n",
        "\n",
        "print('Classification error : {0:0.4f}'.format(classification_error))"
      ],
      "execution_count": null,
      "outputs": [
        {
          "output_type": "stream",
          "text": [
            "Classification error : 0.0851\n"
          ],
          "name": "stdout"
        }
      ]
    },
    {
      "cell_type": "code",
      "metadata": {
        "colab": {
          "base_uri": "https://localhost:8080/"
        },
        "id": "5B2PJ8qnZ2Kd",
        "outputId": "fde745aa-8ca4-4c90-df77-587b489b039e"
      },
      "source": [
        "# print precision score\n",
        "\n",
        "precision = TP / float(TP + FP)\n",
        "\n",
        "\n",
        "print('Precision : {0:0.4f}'.format(precision))"
      ],
      "execution_count": null,
      "outputs": [
        {
          "output_type": "stream",
          "text": [
            "Precision : 1.0000\n"
          ],
          "name": "stdout"
        }
      ]
    },
    {
      "cell_type": "code",
      "metadata": {
        "colab": {
          "base_uri": "https://localhost:8080/"
        },
        "id": "xmQU1yOBZ2Ke",
        "outputId": "879dda19-3a56-404b-8543-511a68c15e20"
      },
      "source": [
        "recall = TP / float(TP + FN)\n",
        "\n",
        "print('Recall or Sensitivity : {0:0.4f}'.format(recall))"
      ],
      "execution_count": null,
      "outputs": [
        {
          "output_type": "stream",
          "text": [
            "Recall or Sensitivity : 0.9130\n"
          ],
          "name": "stdout"
        }
      ]
    },
    {
      "cell_type": "code",
      "metadata": {
        "colab": {
          "base_uri": "https://localhost:8080/"
        },
        "id": "5FLipuf9Z2Kf",
        "outputId": "c5c3414d-ec51-401f-8155-531c880e203b"
      },
      "source": [
        "true_positive_rate = TP / float(TP + FN)\n",
        "\n",
        "\n",
        "print('True Positive Rate : {0:0.4f}'.format(true_positive_rate))"
      ],
      "execution_count": null,
      "outputs": [
        {
          "output_type": "stream",
          "text": [
            "True Positive Rate : 0.9130\n"
          ],
          "name": "stdout"
        }
      ]
    },
    {
      "cell_type": "code",
      "metadata": {
        "colab": {
          "base_uri": "https://localhost:8080/"
        },
        "id": "RcRZlyJTZ2Kg",
        "outputId": "f3529fbd-9709-4992-aa38-1d841c2cfddb"
      },
      "source": [
        "false_positive_rate = FP / float(FP + TN)\n",
        "\n",
        "\n",
        "print('False Positive Rate : {0:0.4f}'.format(false_positive_rate))"
      ],
      "execution_count": null,
      "outputs": [
        {
          "output_type": "stream",
          "text": [
            "False Positive Rate : 0.0000\n"
          ],
          "name": "stdout"
        }
      ]
    },
    {
      "cell_type": "code",
      "metadata": {
        "colab": {
          "base_uri": "https://localhost:8080/"
        },
        "id": "46u0HUM4Z2Kg",
        "outputId": "1e2b21cf-c41e-4b55-9468-1df35dd4e86b"
      },
      "source": [
        "specificity = TN / float(TN + FP)\n",
        "\n",
        "print('Specificity : {0:0.4f}'.format(specificity))"
      ],
      "execution_count": null,
      "outputs": [
        {
          "output_type": "stream",
          "text": [
            "Specificity : 1.0000\n"
          ],
          "name": "stdout"
        }
      ]
    },
    {
      "cell_type": "code",
      "metadata": {
        "colab": {
          "base_uri": "https://localhost:8080/"
        },
        "id": "lzOOo_waZ2Kh",
        "outputId": "bda92ccd-5bbc-492a-ea81-303d138215d9"
      },
      "source": [
        "F1 = 2 * (precision * recall) / (precision + recall)\n",
        "print('F1-Score : {0:0.4f}'.format(F1))"
      ],
      "execution_count": null,
      "outputs": [
        {
          "output_type": "stream",
          "text": [
            "F1-Score : 0.9545\n"
          ],
          "name": "stdout"
        }
      ]
    },
    {
      "cell_type": "code",
      "metadata": {
        "id": "Dpd99rwxaAGx"
      },
      "source": [
        ""
      ],
      "execution_count": null,
      "outputs": []
    },
    {
      "cell_type": "code",
      "metadata": {
        "id": "O7-tRPU8cXHZ"
      },
      "source": [
        ""
      ],
      "execution_count": null,
      "outputs": []
    }
  ]
}